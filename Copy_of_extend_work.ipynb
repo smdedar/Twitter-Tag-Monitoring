{
 "cells": [
  {
   "cell_type": "code",
   "execution_count": null,
   "metadata": {
    "colab": {
     "base_uri": "https://localhost:8080/"
    },
    "id": "DdZKR_QzsjqT",
    "outputId": "ef52d4fa-9451-4806-e1b3-c9326cafbd50"
   },
   "outputs": [],
   "source": []
  },
  {
   "cell_type": "code",
   "execution_count": 4,
   "metadata": {
    "id": "4_sGbVHnszs4"
   },
   "outputs": [],
   "source": [
    "import pandas as pd\n",
    "import numpy as np\n",
    "\n",
    "import spacy\n",
    "import en_core_web_sm\n",
    "from textrank4zh import TextRank4Keyword\n",
    "\n",
    "import seaborn as sns\n",
    "import plotly.express as px\n",
    "import matplotlib.pyplot as plt\n",
    "\n",
    "import re\n",
    "import string\n",
    "import nltk\n",
    "\n",
    "from nltk.tokenize import word_tokenize,RegexpTokenizer\n",
    "from nltk.corpus import stopwords\n",
    "from nltk.stem import WordNetLemmatizer "
   ]
  },
  {
   "cell_type": "code",
   "execution_count": 5,
   "metadata": {
    "colab": {
     "base_uri": "https://localhost:8080/"
    },
    "id": "BCOyJPnfsztZ",
    "outputId": "7e36a45f-30c0-4781-dada-244bd330a5b7"
   },
   "outputs": [
    {
     "data": {
      "text/plain": [
       "id                 31\n",
       "conversation_id    31\n",
       "created_at         31\n",
       "date               31\n",
       "time               31\n",
       "timezone           31\n",
       "user_id            31\n",
       "username           31\n",
       "name               31\n",
       "place               0\n",
       "text               31\n",
       "language           31\n",
       "mentions           31\n",
       "urls               31\n",
       "photos             31\n",
       "replies_count      31\n",
       "retweets_count     31\n",
       "likes_count        31\n",
       "hashtags           31\n",
       "cashtags           31\n",
       "link               31\n",
       "retweet            31\n",
       "quote_url           5\n",
       "video              31\n",
       "thumbnail           7\n",
       "near                0\n",
       "geo                 0\n",
       "source              0\n",
       "user_rt_id          0\n",
       "user_rt             0\n",
       "retweet_id          0\n",
       "reply_to           31\n",
       "retweet_date        0\n",
       "translate           0\n",
       "trans_src           0\n",
       "trans_dest          0\n",
       "dtype: int64"
      ]
     },
     "execution_count": 5,
     "metadata": {},
     "output_type": "execute_result"
    }
   ],
   "source": [
    "#Read CSV\n",
    "df=pd.read_csv(\"21tweet_data.csv\",index_col =\"target\")\n",
    "#print(df.count())\n",
    "\n",
    "#Remove Not Disaster Tweet\n",
    "df = df.drop(0, axis=0)\n",
    "df.count()"
   ]
  },
  {
   "cell_type": "markdown",
   "metadata": {
    "id": "OqB5OSI4ry9W"
   },
   "source": [
    "## Text Preprocessing\n"
   ]
  },
  {
   "cell_type": "code",
   "execution_count": 6,
   "metadata": {
    "id": "DDmZBHqHyiTs"
   },
   "outputs": [],
   "source": [
    "def clean_text(text):\n",
    "    \n",
    "    text = text.lower()\n",
    "    text = re.sub('\\[.*?\\]', '', text)\n",
    "    text = re.sub('https?://\\S+|www\\.\\S+', '', text)\n",
    "    text = re.sub('<.*?>+', '', text)\n",
    "    text = re.sub('[%s]' % re.escape(string.punctuation), '', text)\n",
    "    text = re.sub('\\n', '', text)\n",
    "    text = re.sub('\\w*\\d\\w*', '', text)\n",
    "    return text\n",
    "\n",
    "\n",
    "df['text'] = df['text'].apply(lambda x: clean_text(x))"
   ]
  },
  {
   "cell_type": "code",
   "execution_count": 7,
   "metadata": {
    "id": "HbHZJZgo1GBm"
   },
   "outputs": [],
   "source": [
    "tokenizer = nltk.tokenize.RegexpTokenizer(r'\\w+')\n",
    "df['text'] = df['text'].apply(lambda x: tokenizer.tokenize(x))\n"
   ]
  },
  {
   "cell_type": "code",
   "execution_count": 8,
   "metadata": {
    "id": "DG1uKIkW1yOL"
   },
   "outputs": [],
   "source": [
    "def remove_stopwords(text):\n",
    "    words = [w for w in text if w not in stopwords.words('english')]\n",
    "    return words"
   ]
  },
  {
   "cell_type": "code",
   "execution_count": 9,
   "metadata": {
    "colab": {
     "base_uri": "https://localhost:8080/"
    },
    "id": "gyFlHSJIsxdB",
    "outputId": "5b275aaf-4e77-4cbc-d26f-f4597e3537eb"
   },
   "outputs": [
    {
     "name": "stderr",
     "output_type": "stream",
     "text": [
      "[nltk_data] Downloading package stopwords to\n",
      "[nltk_data]     C:\\Users\\User\\AppData\\Roaming\\nltk_data...\n",
      "[nltk_data]   Package stopwords is already up-to-date!\n"
     ]
    },
    {
     "data": {
      "text/plain": [
       "True"
      ]
     },
     "execution_count": 9,
     "metadata": {},
     "output_type": "execute_result"
    }
   ],
   "source": [
    "nltk.download('stopwords')"
   ]
  },
  {
   "cell_type": "code",
   "execution_count": 10,
   "metadata": {
    "id": "P7-vbe4U15Cu"
   },
   "outputs": [],
   "source": [
    "df['text'] = df['text'].apply(lambda x: remove_stopwords(x))"
   ]
  },
  {
   "cell_type": "code",
   "execution_count": 11,
   "metadata": {
    "colab": {
     "base_uri": "https://localhost:8080/"
    },
    "id": "-eLq1qZl2Ca2",
    "outputId": "47e35652-0b9f-48c3-df1b-0ecb7d36a657"
   },
   "outputs": [
    {
     "name": "stderr",
     "output_type": "stream",
     "text": [
      "[nltk_data] Downloading package stopwords to\n",
      "[nltk_data]     C:\\Users\\User\\AppData\\Roaming\\nltk_data...\n",
      "[nltk_data]   Package stopwords is already up-to-date!\n"
     ]
    },
    {
     "data": {
      "text/plain": [
       "True"
      ]
     },
     "execution_count": 11,
     "metadata": {},
     "output_type": "execute_result"
    }
   ],
   "source": [
    "nltk.download('stopwords')"
   ]
  },
  {
   "cell_type": "code",
   "execution_count": 12,
   "metadata": {
    "id": "HpT1Hi6D2-Y0"
   },
   "outputs": [],
   "source": [
    "def combine_text(text):\n",
    "    all_text = ' '.join(text)\n",
    "    return all_text"
   ]
  },
  {
   "cell_type": "code",
   "execution_count": 13,
   "metadata": {
    "id": "HBsDoxeq3BJm"
   },
   "outputs": [],
   "source": [
    "df['text'] = df['text'].apply(lambda x: combine_text(x))"
   ]
  },
  {
   "cell_type": "code",
   "execution_count": 14,
   "metadata": {
    "id": "FD0iZk8Svegn"
   },
   "outputs": [],
   "source": [
    "def stem_lem(text):\n",
    "    tokenizer = nltk.tokenize.TreebankWordTokenizer()\n",
    "    tokens = tokenizer.tokenize(text)\n",
    "    lemmatizer = nltk.stem.WordNetLemmatizer()\n",
    "    lemm_text =  \" \".join(lemmatizer.lemmatize(token) for token in tokens)\n",
    "    return lemm_text"
   ]
  },
  {
   "cell_type": "code",
   "execution_count": 15,
   "metadata": {
    "colab": {
     "base_uri": "https://localhost:8080/"
    },
    "id": "iqXQu7Hbv514",
    "outputId": "bb966d85-791f-4a75-c9b3-b7ba47183817"
   },
   "outputs": [
    {
     "name": "stderr",
     "output_type": "stream",
     "text": [
      "[nltk_data] Downloading package wordnet to\n",
      "[nltk_data]     C:\\Users\\User\\AppData\\Roaming\\nltk_data...\n",
      "[nltk_data]   Package wordnet is already up-to-date!\n"
     ]
    },
    {
     "data": {
      "text/plain": [
       "True"
      ]
     },
     "execution_count": 15,
     "metadata": {},
     "output_type": "execute_result"
    }
   ],
   "source": [
    "nltk.download('wordnet')"
   ]
  },
  {
   "cell_type": "code",
   "execution_count": 16,
   "metadata": {
    "id": "FZLW_dOQvhT8"
   },
   "outputs": [],
   "source": [
    "df['text'] = df['text'].apply(lambda x: stem_lem(x))"
   ]
  },
  {
   "cell_type": "markdown",
   "metadata": {
    "id": "v-4u0mGPsztu"
   },
   "source": [
    "## Location Extraction"
   ]
  },
  {
   "cell_type": "code",
   "execution_count": 17,
   "metadata": {
    "id": "TWVo9NzSsztx"
   },
   "outputs": [],
   "source": [
    "#Location Extraction Using SpaCy\n",
    "\n",
    "nlp = en_core_web_sm.load()\n",
    "def location(df_text):\n",
    "    text = df_text\n",
    "    doc = nlp(text)\n",
    "    location = []\n",
    "    for entity in doc.ents:\n",
    "        if entity.label_ == \"LOC\" or entity.label_ == \"GPE\":\n",
    "            location.append(entity.text) \n",
    "    return location"
   ]
  },
  {
   "cell_type": "code",
   "execution_count": 18,
   "metadata": {
    "id": "lja7sAVFszt9"
   },
   "outputs": [],
   "source": [
    "df['location'] = df['text'].apply(lambda x: location(x))"
   ]
  },
  {
   "cell_type": "code",
   "execution_count": 19,
   "metadata": {
    "id": "6OIon9TAszuL"
   },
   "outputs": [],
   "source": [
    "#convert location column to a list\n",
    "location_list = df['location'].to_numpy()\n",
    "#print(location_list)\n",
    "\n",
    "#remove none and null value\n",
    "location_list = list(filter(None, location_list))\n",
    "#print(location_list)"
   ]
  },
  {
   "cell_type": "code",
   "execution_count": 20,
   "metadata": {
    "id": "aFPtxUuOszuZ"
   },
   "outputs": [],
   "source": [
    "#Convert all list location to a list for better calculation\n",
    "list_location = []\n",
    "for x in range(len(location_list)):\n",
    "    list_location.extend(location_list[x])"
   ]
  },
  {
   "cell_type": "code",
   "execution_count": 21,
   "metadata": {
    "colab": {
     "base_uri": "https://localhost:8080/"
    },
    "id": "lieQ6cYuszum",
    "outputId": "78acce46-da59-405f-c8f9-7b36f40ec06b"
   },
   "outputs": [
    {
     "name": "stdout",
     "output_type": "stream",
     "text": [
      "0    capital hill\n",
      "1      washington\n",
      "2     nashville u\n",
      "3       tennessee\n",
      "4    capital hill\n",
      "5          thomas\n",
      "Name: location, dtype: object\n"
     ]
    }
   ],
   "source": [
    "#Built a temp location dataframe\n",
    "temp_location_df = pd.DataFrame(columns=['location'])\n",
    "temp_location_df['location'] = list_location\n",
    "\n",
    "#check output\n",
    "print(temp_location_df['location'])"
   ]
  },
  {
   "cell_type": "code",
   "execution_count": 22,
   "metadata": {
    "colab": {
     "base_uri": "https://localhost:8080/"
    },
    "id": "RcZehrxFszu6",
    "outputId": "3204376c-5ce1-4c6e-b564-44c1b1c3d24d"
   },
   "outputs": [
    {
     "name": "stdout",
     "output_type": "stream",
     "text": [
      "capital hill    2\n",
      "washington      1\n",
      "tennessee       1\n",
      "nashville u     1\n",
      "thomas          1\n",
      "Name: location, dtype: int64\n"
     ]
    }
   ],
   "source": [
    "#Location Count \n",
    "feat = temp_location_df['location'].value_counts()\n",
    "print(feat.head(20))"
   ]
  },
  {
   "cell_type": "code",
   "execution_count": 23,
   "metadata": {
    "colab": {
     "base_uri": "https://localhost:8080/",
     "height": 517
    },
    "id": "b-UY70JXszvQ",
    "outputId": "3b3d1fd5-f211-4490-b1fc-dd7eec3cc704"
   },
   "outputs": [
    {
     "data": {
      "image/png": "[encoded data removed]",
      "text/plain": [
       "<Figure size 432x288 with 1 Axes>"
      ]
     },
     "metadata": {
      "needs_background": "light"
     },
     "output_type": "display_data"
    }
   ],
   "source": [
    "#Draw Bar Plot\n",
    "ax = sns.barplot(y=temp_location_df['location'].value_counts()[:15].index,x=temp_location_df['location'].value_counts()[:15],orient='h')\n",
    "\n",
    "sns.set(rc={'figure.figsize':(11.7,8.27)})\n",
    "initialx=0\n",
    "for p in ax.patches:\n",
    "  ax.text(p.get_width(),initialx+p.get_height()/8,'{:1.0f}'.format(p.get_width()))\n",
    "  initialx+=1"
   ]
  },
  {
   "cell_type": "markdown",
   "metadata": {
    "id": "VBi59SXrszvb"
   },
   "source": [
    "## Keyword Extraction"
   ]
  },
  {
   "cell_type": "code",
   "execution_count": 24,
   "metadata": {
    "id": "eunITDBVszvd"
   },
   "outputs": [],
   "source": [
    "def keyword(df_text):\n",
    "    text = df_text\n",
    "    tr4w = TextRank4Keyword()\n",
    "    keyword = []\n",
    "    tr4w.analyze(text=text, lower=True, window=2)\n",
    "    for item in tr4w.get_keywords(4, word_min_len=5):\n",
    "        keyword.append(item.word)\n",
    "    return keyword"
   ]
  },
  {
   "cell_type": "code",
   "execution_count": 25,
   "metadata": {
    "colab": {
     "base_uri": "https://localhost:8080/"
    },
    "id": "oXPWk9e4szvr",
    "outputId": "1a32a7b7-e424-46d7-cdd4-79d3fa857900"
   },
   "outputs": [
    {
     "name": "stderr",
     "output_type": "stream",
     "text": [
      "Building prefix dict from the default dictionary ...\n",
      "Dumping model to file cache C:\\Users\\User\\AppData\\Local\\Temp\\jieba.cache\n",
      "Loading model cost 5.827 seconds.\n",
      "Prefix dict has been built successfully.\n"
     ]
    }
   ],
   "source": [
    "df['keyword'] = df['text'].apply(lambda x: keyword(x))"
   ]
  },
  {
   "cell_type": "code",
   "execution_count": 26,
   "metadata": {
    "id": "PbViJFwXwvvU"
   },
   "outputs": [],
   "source": [
    "#convert keyword column to a list\n",
    "keyword_list = df['keyword'].to_numpy()\n",
    "#print(keyword_list)\n",
    "\n",
    "#remove none and null value\n",
    "keyword_list = list(filter(None, keyword_list))\n",
    "#print(keyword_list)"
   ]
  },
  {
   "cell_type": "code",
   "execution_count": 27,
   "metadata": {
    "id": "QxjcsruJw7wK"
   },
   "outputs": [],
   "source": [
    "#Convert all list location to a list for better calculation\n",
    "list_keyword = []\n",
    "for x in range(len(keyword_list)):\n",
    "    list_keyword.extend(keyword_list[x])"
   ]
  },
  {
   "cell_type": "code",
   "execution_count": 28,
   "metadata": {
    "id": "XONNdI3IxC1W"
   },
   "outputs": [],
   "source": [
    "temp_keyword_df = pd.DataFrame(columns=['keyword'])\n",
    "temp_keyword_df['keyword'] = list_keyword"
   ]
  },
  {
   "cell_type": "code",
   "execution_count": 29,
   "metadata": {
    "colab": {
     "base_uri": "https://localhost:8080/"
    },
    "id": "VuBBoXrZxGHc",
    "outputId": "a06a55ff-e9b5-46a4-b637-5e8b1ca5063d"
   },
   "outputs": [
    {
     "name": "stdout",
     "output_type": "stream",
     "text": [
      "capital      12\n",
      "police        5\n",
      "terrorist     3\n",
      "trump         3\n",
      "protest       3\n",
      "Name: keyword, dtype: int64\n"
     ]
    }
   ],
   "source": [
    "feat =temp_keyword_df['keyword'].value_counts()\n",
    "print(feat.head(5))"
   ]
  },
  {
   "cell_type": "code",
   "execution_count": 30,
   "metadata": {
    "colab": {
     "base_uri": "https://localhost:8080/",
     "height": 517
    },
    "id": "LMaIgsit0S3Z",
    "outputId": "8224a91a-654b-48bd-b4ea-d8ae602b6dd9"
   },
   "outputs": [
    {
     "data": {
      "image/png": "[encoded data removed]",
      "text/plain": [
       "<Figure size 842.4x595.44 with 1 Axes>"
      ]
     },
     "metadata": {},
     "output_type": "display_data"
    }
   ],
   "source": [
    "import matplotlib.pyplot as plt\n",
    "ax = sns.barplot(y=temp_keyword_df['keyword'].value_counts()[:15].index,x=temp_keyword_df['keyword'].value_counts()[:15],orient='h')\n",
    "\n",
    "sns.set(rc={'figure.figsize':(11.7,8.27)})\n",
    "initialx=0\n",
    "for p in ax.patches:\n",
    "  ax.text(p.get_width(),initialx+p.get_height()/8,'{:1.0f}'.format(p.get_width()))\n",
    "  initialx+=1\n"
   ]
  },
  {
   "cell_type": "code",
   "execution_count": 31,
   "metadata": {
    "id": "SvPxX45Huz85"
   },
   "outputs": [],
   "source": [
    "initialx=0\n",
    "for p in ax.patches:\n",
    "  ax.text(p.get_width(),initialx+p.get_height()/8,'{:1.0f}'.format(p.get_width()))\n",
    "  initialx+=1"
   ]
  },
  {
   "cell_type": "code",
   "execution_count": 32,
   "metadata": {
    "id": "z-WLa3T0uzEL"
   },
   "outputs": [],
   "source": [
    "initialx=0\n",
    "for p in ax.patches:\n",
    "  ax.text(p.get_width(),initialx+p.get_height()/8,'{:1.0f}'.format(p.get_width()))\n",
    "  initialx+=1"
   ]
  },
  {
   "cell_type": "code",
   "execution_count": 33,
   "metadata": {
    "id": "G3sSwHmwuJ3n"
   },
   "outputs": [],
   "source": [
    "initialx=0\n",
    "for p in ax.patches:\n",
    "  ax.text(p.get_width(),initialx+p.get_height()/8,'{:1.0f}'.format(p.get_width()))\n",
    "  initialx+=1"
   ]
  },
  {
   "cell_type": "code",
   "execution_count": 34,
   "metadata": {
    "colab": {
     "base_uri": "https://localhost:8080/",
     "height": 17
    },
    "id": "YL120Bj4yIUh",
    "outputId": "48e8e78a-185b-49e9-8340-389b79cb2baa"
   },
   "outputs": [
    {
     "ename": "ModuleNotFoundError",
     "evalue": "No module named 'google'",
     "output_type": "error",
     "traceback": [
      "\u001b[1;31m---------------------------------------------------------------------------\u001b[0m",
      "\u001b[1;31mModuleNotFoundError\u001b[0m                       Traceback (most recent call last)",
      "\u001b[1;32m<ipython-input-34-7f5599d8a33d>\u001b[0m in \u001b[0;36m<module>\u001b[1;34m\u001b[0m\n\u001b[1;32m----> 1\u001b[1;33m \u001b[1;32mfrom\u001b[0m \u001b[0mgoogle\u001b[0m\u001b[1;33m.\u001b[0m\u001b[0mcolab\u001b[0m \u001b[1;32mimport\u001b[0m \u001b[0mfiles\u001b[0m\u001b[1;33m\u001b[0m\u001b[1;33m\u001b[0m\u001b[0m\n\u001b[0m\u001b[0;32m      2\u001b[0m \u001b[1;33m\u001b[0m\u001b[0m\n\u001b[0;32m      3\u001b[0m \u001b[0mdf\u001b[0m\u001b[1;33m.\u001b[0m\u001b[0mto_csv\u001b[0m\u001b[1;33m(\u001b[0m\u001b[1;34m'df.csv'\u001b[0m\u001b[1;33m)\u001b[0m\u001b[1;33m\u001b[0m\u001b[1;33m\u001b[0m\u001b[0m\n\u001b[0;32m      4\u001b[0m \u001b[0mfiles\u001b[0m\u001b[1;33m.\u001b[0m\u001b[0mdownload\u001b[0m\u001b[1;33m(\u001b[0m\u001b[1;34m'df.csv'\u001b[0m\u001b[1;33m)\u001b[0m\u001b[1;33m\u001b[0m\u001b[1;33m\u001b[0m\u001b[0m\n",
      "\u001b[1;31mModuleNotFoundError\u001b[0m: No module named 'google'"
     ]
    }
   ],
   "source": [
    "from google.colab import files\n",
    "\n",
    "df.to_csv('df.csv')\n",
    "files.download('df.csv')"
   ]
  },
  {
   "cell_type": "markdown",
   "metadata": {
    "id": "xapFrMWSdR_f"
   },
   "source": [
    "## API Built"
   ]
  },
  {
   "cell_type": "code",
   "execution_count": null,
   "metadata": {
    "colab": {
     "base_uri": "https://localhost:8080/",
     "height": 299
    },
    "id": "LQ042p_3C8ZK",
    "outputId": "f7bc4d24-90f1-46f7-856d-e01f71d15cf7"
   },
   "outputs": [],
   "source": [
    "\n",
    "files.download('df.json')"
   ]
  },
  {
   "cell_type": "code",
   "execution_count": null,
   "metadata": {
    "id": "lqNdZH8Tc9RI"
   },
   "outputs": [],
   "source": [
    "df_api = temp_location_df['location'].value_counts(normalize=True)"
   ]
  },
  {
   "cell_type": "code",
   "execution_count": null,
   "metadata": {
    "id": "C5c1W-9pdQJB"
   },
   "outputs": [],
   "source": [
    "print(df_api)"
   ]
  },
  {
   "cell_type": "code",
   "execution_count": null,
   "metadata": {
    "id": "RBrigY0vdzpA"
   },
   "outputs": [],
   "source": [
    "df_api.to_csv('df1.csv')"
   ]
  },
  {
   "cell_type": "code",
   "execution_count": null,
   "metadata": {
    "id": "NFKCrwyGd90g"
   },
   "outputs": [],
   "source": [
    "files.download('df1.csv')"
   ]
  },
  {
   "cell_type": "code",
   "execution_count": null,
   "metadata": {},
   "outputs": [],
   "source": [
    "pip install spacy"
   ]
  },
  {
   "cell_type": "code",
   "execution_count": null,
   "metadata": {},
   "outputs": [],
   "source": [
    "python -m spacy download en_core_web_sm"
   ]
  },
  {
   "cell_type": "code",
   "execution_count": null,
   "metadata": {},
   "outputs": [],
   "source": []
  },
  {
   "cell_type": "code",
   "execution_count": null,
   "metadata": {},
   "outputs": [],
   "source": []
  }
 ],
 "metadata": {
  "colab": {
   "name": "Copy of extend_work.ipynb",
   "provenance": []
  },
  "kernelspec": {
   "display_name": "Python 3",
   "language": "python",
   "name": "python3"
  },
  "language_info": {
   "codemirror_mode": {
    "name": "ipython",
    "version": 3
   },
   "file_extension": ".py",
   "mimetype": "text/x-python",
   "name": "python",
   "nbconvert_exporter": "python",
   "pygments_lexer": "ipython3",
   "version": "3.7.6"
  }
 },
 "nbformat": 4,
 "nbformat_minor": 1
}
