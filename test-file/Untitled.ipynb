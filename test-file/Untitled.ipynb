{
 "cells": [
  {
   "source": [
    "## Get Tweet "
   ],
   "cell_type": "markdown",
   "metadata": {}
  },
  {
   "cell_type": "code",
   "execution_count": 3,
   "metadata": {
    "tags": [
     "outputPrepend"
    ]
   },
   "outputs": [
    {
     "output_type": "stream",
     "name": "stdout",
     "text": [
      "BettejanelB> @gerrylev @Scaramucci decades of tax EVASION btw he even admitted in 80's and never once pd price by irs  , attack on capital hill , all bad things that happened in past 4years you choose\n",
      "1348627176363474947 2021-01-11 19:45:49 +0600 <Crysanne1> #Goodnews #Golf #NoTrumpCourses #PGA #LPGA #sayNotoDomesticTerrorism  #CapitalHill #Washingtondc #PebbleBeach #Florida #Augusta #Scottland\n",
      "1348627098513108995 2021-01-11 19:45:31 +0600 <Christo52317208> @WPGC This might expose capital hill police Trump supporters. She may need protection. Wow! Haters will come out and show their faces....\n",
      "1348626991776485376 2021-01-11 19:45:05 +0600 <MullStacy> How sickening is it to blame 1 person for others action. Our constitution is being torn to shreds, right before our eyes. I condemn violence but why punish, the other one for peacefully protest. Democrats and left's are destroying America.!#constitutionrights ,#CapitalHill\n",
      "1348626417148424194 2021-01-11 19:42:48 +0600 <AkiLi_Zulu> Rosewood,Tulsa, Memphis and  many other cities, before AmeriKKKa's racist mobs destroyed the #CapitolBuilding they destroyed black communities with no punishment whatsoever, so excuse me while I continue to laugh, it was fine until the mob turned! #CapitalHill #BlackLivesMatter\n",
      "1348626400245403649 2021-01-11 19:42:44 +0600 <Hill70329321> @runxthexjewels @phil_h001 @SRodd_CPR @Apple @Google @amazon Armed insurrection a bunch of arse holes stormed the capital building and you believe those of us on the right of politics supported this action. The right not the    arse hole far right if you cannot see the difference it is because you do not want to see the difference.\n",
      "1348626191524229122 2021-01-11 19:41:54 +0600 <GoldenEmperorXO> Why didn't the Capital Hill have metal doors with bullet proof glass? With all the riots we had for 2020 know body increases a secure infrastructure. I bet they do a vote on that! - RIP @SenateFloor\n",
      "1348626181961105412 2021-01-11 19:41:52 +0600 <Jerome_Gillain> @CFCJIMMY14 Well the guy's BEEN on Capital Hill for over 40+ years ... He didn't do anything all that time so... WE'RE STILL WAITING!\n",
      "1348626069901946882 2021-01-11 19:41:25 +0600 <IyawoOkafor> This tells you everything you need to know about white supremacy! He knows.. they all know! #CapitalHill #BlackLivesMatter\n",
      "1348625936787369985 2021-01-11 19:40:54 +0600 <JudyFStanley> @WhiteHouse   ARE YOU KIDDING ME  It took until YESTERDAY for you to lower the flag FOR THE CAPITAL HILL COP WHO WAS KILLED BY THE PRES SUPPORTERS.   MY GOD  SHAME ON YOU\n",
      "1348625864603414528 2021-01-11 19:40:37 +0600 <factcheckyou1> This.  I haven’t experienced domestic violence, but this menacing call for @SpeakerPelosi by terrorists who’d already broken her door, ransacked her office, and who were roaming Capital Hill, looking to shoot or string Pelosi up on their homemade gallows, is horrific.\n",
      "1348625648248643594 2021-01-11 19:39:45 +0600 <bdriver645> @seanhannity morning my deepest sympathy goes out to the police who lost there lives on the capital hill riots but I just wanted to say do you know how many people officers lost their lives over the summer who you don’t even know there names was there just a big deal made for tm\n",
      "1348624749644165120 2021-01-11 19:36:11 +0600 <RebuildDestiny> Very important timeline on the rioting at the Capital. It was not possible for the MAGA people to be present at the first breach of the building. It started at 12.40pm. They had to leave 15min into Trump's speech to reach the Hill. Capital &amp; Pentagon refused additional security\n",
      "1348624524829450240 2021-01-11 19:35:17 +0600 <fireman452a> So now we see that the real victim in the Wed attack on the capital was ms trump.  THAT is funny, very very funny!!  Critics slam Melania Trump's self-centered statement on Capitol Hill riots  https://t.co/HVaMe0sabW\n",
      "1348624462296526855 2021-01-11 19:35:02 +0600 <Wat_the_deuce> @GeorgeA44045559 @lproctoruc @kimje2020 @michaeltdresser @jovibon7 He didn't call the terrorists to capital hill like trump did.👍\n",
      "1348623966278201346 2021-01-11 19:33:04 +0600 <Azzygayglasses> Oh Im just a bill, yes Im just a bill And I'm sitting here on capital hill\n",
      "1348623383509020674 2021-01-11 19:30:45 +0600 <Billy___Hill> @djvlad Do not trust this guy, total narc.  If you were involved in the storming of the capital building please join us here at the Fuck Biden Initiative.   For more information please contact us @FBI\n",
      "1348623174355849221 2021-01-11 19:29:55 +0600 <josiah_gv> It’s funny how everywhere I look the protests at capital hill are called riots (don’t get me wrong, they are) but all the BLM riots that caused way more violence across the entire country, are just “protests”\n",
      "1348623141308952580 2021-01-11 19:29:47 +0600 <geascanca> \"I “redditi bassi” sono una parte sterminata di popolazione – non solo negli Usa – e nemmeno sappiamo come nominarli senza cadere in concetti ottocenteschi o pudichi imbarazzi\". Il pezzo migliore scritto su #CapitalHill, magistrale   https://t.co/DAW2oJD6pU\n",
      "1348622906646003719 2021-01-11 19:28:51 +0600 <1105_penny> Did they descend on Capital Hill.  Just saw a policeman getting beaten up.  Do you not think it’s time to heal.  The election is over.\n",
      "1348622450402222081 2021-01-11 19:27:03 +0600 <AkiLi_Zulu> The irony of a black man fending off a white mob to protect a mostly white mob that passes laws and legislation that continues to oppress black people. AmeriKKKa we've ALWAYS loved you more than you love us! #MAGATerrorists #CapitalHill #CapitolRiots\n",
      "1348622448107905024 2021-01-11 19:27:02 +0600 <10affirmative> @GovParsonMO You should refuse to seat Justin Hill in the legislature.  He skipped his swearing in to participate in sedition and violence at the capital.  Also, please censure the  6 Republicans of our DC delegation who refused to certify Trump's election loss.\n",
      "1348622243530764288 2021-01-11 19:26:13 +0600 <angelfire623> @lianhna @politico I agree. Nancy started this drama long before Capital Hill. From the day he took office she was out to destroy him. She had not then nor now the ability to be a peacemaker.\n",
      "1348622166951043074 2021-01-11 19:25:55 +0600 <bayish510> Eric Gavelek Munchel was arrested in Tennessee after the Capital Riots.  His image was captured by a Capital Hill Photographer.  He was wearing zip ties and a weapon.  He’s facing multiple federal charges. #EricGavelekMunchel #ericmunchel. #ziptieguy  https://t.co/k7dvRaFdVU\n",
      "1348622117919711232 2021-01-11 19:25:43 +0600 <AliN68784404> @CNNPolitics @IvankaTrump  Trump not only deserve for impeachment but crook Trump deserve to hold them accountable for the killings of 5 ppl including 1 capital police officer.Openly &amp; front of cameras he instigated his supporters for violence against elected representatives in capital hill.\n",
      "1348621993453580291 2021-01-11 19:25:14 +0600 <Christo68496882> @LindaMottram True no Children died on Capital Hill did they unlike the BLM Protests.\n",
      "1348621824104357890 2021-01-11 19:24:33 +0600 <alanjoh1949> NOW REPUBLICANS &amp; their TV &amp; Radio supporters want everyone to work together to unite the country What hypocrites  Until every treacherous Republican is removed I would say go to hell Nothing healthy will ever grow on Capital Hill while any of today’s Republican traitors remain\n",
      "1348621624849952774 2021-01-11 19:23:46 +0600 <peteLU1456> @EdwardTHardy This was not a random mob.this was a MAGA rally organized at the White House.incited for hrs by trump,Rudy,don jr.and other speakers,that where then deliberately sent to capital hill to attempt a coup.\n",
      "1348621582143541250 2021-01-11 19:23:36 +0600 <MSmeowsie> @Msbmoran I'd feel far more comfortable if:  CLOSED= January 17 thru January 21 State capital bldgs closed DC = no one in or out (🚫MMM) White House &amp; agencies  SCOTUS Capitol Hill   National Security Safety Holiday  CSPAN'd 📽 Pandemic🦠 Inauguration...secure, sophisticated, undisclosed\n",
      "1348621517370781698 2021-01-11 19:23:20 +0600 <SouthernLadyK98> @FLOTUS You included protestors, rioters and insurrectionist in the same sentence as the capital hill police officer that was killed and you listed the aggressors FIRST.   What kind of person thinks that’s appropriate?   Please go back to taking picture of furniture and vases.\n",
      "1348621458923253760 2021-01-11 19:23:06 +0600 <ScottKe12897412> To the white guy in the video, “you broke the law. Shut up and cooperate with the police.” From one white guy to another, did you think you were above the law? Dumbass! #CapitalHill #CapitolRiots #Sedition @johncusack John Cusack, Thanks for the photo. #FerrisBueller\n",
      "1348621363381215246 2021-01-11 19:22:43 +0600 <1blahgger> #18USC373     #18USC2384  these laws exist for a reason #CapitalHill #Accountability #ArrestDonaldTrump #ArrestTrump #ArrestTrumpNow\n",
      "1348621141523496961 2021-01-11 19:21:50 +0600 <LeafLover7> @LloydPMacKay1 @FoxNews This Canadian agrees. They did not use weapons to get entry to Capital Hill building. They did not shoot people inside building but were shot. Those politicians are afraid of facing protesters and MSM has been extremely biased.\n",
      "1348620980583886848 2021-01-11 19:21:12 +0600 <clarissadane> In case anyone was doubting... #WhitePrivilege #CapitalHill #BlackLivesMatter #CapitolBuilding #CrimeAndJustice #NoFlyList #JusticeMatters #DomesticTerrorists #SilenceEqualsCompliance #Jesus #stormtheCapitol\n",
      "1348620934123425792 2021-01-11 19:21:01 +0600 <sidney_chest> Pelosi spent 4 years attempting to destroy Trump  The Old HAG, now wants to impeach.  ANTIFA CONTROLLED BY THE DEMOCRATS  brought in by BUS, overtook Capital Hill.  So much for Democracy  Propaganda rules in NORTH AMERICA\n",
      "1348620920953384962 2021-01-11 19:20:58 +0600 <TerryHi58866121> @JennaDodd5 @SecPompeo You’re right.... and I cannot let myself believe his work is done. No way 500,000 marched on the Capital for nothing!\n",
      "1348620752074002434 2021-01-11 19:20:18 +0600 <manishk24335833> @Grace4NY @nytimes And yet Squad members want defund the police ! The very police who died while defending them at capital hill terrorist attack ! Shame on squad ! They are same like trump !\n",
      "1348620716770537474 2021-01-11 19:20:09 +0600 <TiredMom3boys> As an American I am glad that companies &amp; organizations are pulling away from Trump &amp; those that support him. Yet I am saddened that it took the horrific attack on Capital Hill for this to finally happen. People should have stood up to him a long time ago. #AbandonTrump\n",
      "1348620475522555905 2021-01-11 19:19:12 +0600 <thall40> Pelosi is a piece of shit! I'm sick of her lies! And the DEMONS ON CAPITAL LINE HILL! THE STORM IS COMING PEOPLE! THIS TRASH IS THE MINION OF HER FATHER LUCIFER!\n",
      "1348620453200474113 2021-01-11 19:19:06 +0600 <davidva23495272> all those Rioters or so called in my book TERRORIST-TOUGS, that Stormed Capital Hill, should be Put in Jail, charges brought to them, PUT them all in a Space Ship, and SHIP Them to Space, They are NOT Americans ...\n",
      "1348620231003025408 2021-01-11 19:18:13 +0600 <jayden46070829> Would you rather have are rights and go to war or lose are rights??#Americans #CapitalHill #SteveSmith #worldwar3 #AUSvIND #AnushkaSharma #SarkOnWavy #XRPCommunity #EndSARS #farmersrprotest #HWAAoutNOW #parlershutdown\n",
      "1348619863540035589 2021-01-11 19:16:46 +0600 <HailCesr> @verge Now my friends get why I said 2 years ago that #DonaldTrump was here to usher in the antiChrist. #Trump has normalized lies, hate, hypocrisy, spite, lustful words, and disloyalty. Bible says \"Many will be deceived\"...I bet the many are #GOP! #CapitalHill #capitalriots #trumpcult\n",
      "1348619668844634112 2021-01-11 19:15:59 +0600 <sitav2009> Wonder where @KellyannePolls is with her alternative facts.  Those mofos have been quiet as church mice.  #TrumpIsACompleteFailure #insurrection #CapitolBuilding #CapitalHill\n",
      "1348619539311898624 2021-01-11 19:15:28 +0600 <c2snow> Extremists are extremists   #WhitePrivilege #CapitalHill #terrorist  https://t.co/x1Lx1CpJ73\n",
      "1348619496320360449 2021-01-11 19:15:18 +0600 <bling_golden> @kilmeade I can’t seem to find where the @POTUS said go to Capital Hill and create havoc, can you have Fox show it!  https://t.co/10A2RdxPFH\n",
      "1348619420592201728 2021-01-11 19:15:00 +0600 <ccahart> Because we Patriots know what happens on Capital Hill and this staged debacle\n",
      "1348619377848049665 2021-01-11 19:14:50 +0600 <LogicCouncil> @Bholenath \"A mere trespassing on capital hill\" multiple cops beaten, one to death, brought BOMBS and rifles, erected a gallows and hunted for poloticians with zip ties yeah dont try to vindicate full on terrorism as simple protests.\n",
      "1348619306574217218 2021-01-11 19:14:33 +0600 <TiredMom3boys> @washingtonpost There is simply no excuse for the behavior &amp; mob mentality that happened on Capital Hill in response to Trump's requests. He needs to be punished &amp; so do all the people that went to the Capital to cause harm.\n",
      "1348619245102526465 2021-01-11 19:14:18 +0600 <SEGodfrey3> Politicians have used inflammatory language for years (take to the streets, bullseye on opponents, etc), but the difference here was people took trump literally. Is that a failure of the followers or the leader? #CapitalHill #MAGATerrorists\n",
      "1348619216279240705 2021-01-11 19:14:11 +0600 <celanbryant> @LotharBirkner @Micrograma Plus, I listened to Trump's full speech,  can you tell me exactly what he said that incited violence? He told people to go down to Capital Hill --that's it. Under what circumstance is a revolution acceptable for you? Democracy is a precious thing and we must fight for it.\n",
      "1348619116790362115 2021-01-11 19:13:48 +0600 <pad4truth> The Batchelor News Radio Network is now playing \"The Batchelor News Radio Show discussing Trump supporters staging a coup at Capital Hill\"! Check it out!  https://t.co/hoNwn2gkOc. by going to the Batchelor News Radio Show Page  https://t.co/AUYY3BbopM\n",
      "1348619037148925952 2021-01-11 19:13:29 +0600 <Pedro_ChosenOne> @HawaiiDelilah @joncoopertweets It is alledge that Supreme Court Justice Clarence Thomas wife paid fees for 70 buses with hundreds of rioters that damage Capital Hill, if this is true she should be held responsible and accountable for the actions of the rioters on January 6 2021!  https://t.co/EqoS4DMGG7\n",
      "1348619033369845763 2021-01-11 19:13:28 +0600 <Lux_fae> @HelvidiusPrisc @TMIWITW @BirdRespecter Minorities get doxxed by fascists for existing, which you then use to hun minorities down  Fascists get doxxed after attempting to overthrow the government and murdering ppl while breaking into Capital Hill  See the difference?\n",
      "1348618983239544832 2021-01-11 19:13:16 +0600 <SlBoekbinder> Resigning from this Death Star as it begins to explode  https://t.co/UW6tBwd7ky via @The Total Report  #InsurrectionAct #Capitol #CapitolBuilding #CapitalHill #CapitolRiot in the #usacapitol and all the other #CapitolRiots that happened all over the #USA last week\n",
      "1348618816037728258 2021-01-11 19:12:36 +0600 <Jennife46529881> @BeschlossDC She's in hiding she has been shamed and embarrassed by the domestic terrorism that took place in Washington D.C &amp; on Capital Hill She spoke out against the Domestic Terrorist and denounced them I feel for her she was not the one who is responsible for his actions or their actions\n",
      "1348618747150524416 2021-01-11 19:12:20 +0600 <Bill2Taz14> More extreme media control by the Democratic Fascist Party. Nazism is alive and well in Capital Hill. The Democrats have continued their coup. Traitors need to be removed from our government. FB banned me for thirty days, how long before Twitter does.  https://t.co/fKe9j2GRF9\n",
      "1348618523535355904 2021-01-11 19:11:26 +0600 <pad4truth> The Batchelor News Radio Network is now playing \"The Batchelor News Radio Show discussing Trump supporters staging a coup at Capital Hill\"! Check it out!  https://t.co/hoNwn2gkOc. by going to the Batchelor News Radio Show Page  https://t.co/TN01tjpSIY\n",
      "1348618408800243712 2021-01-11 19:10:59 +0600 <vickieohio> This. On Parler. We need to secure the #Inauguration2021 They're planning to do it again. @FBI @DOJPH @JoeBiden #CapitalHill  https://t.co/jsKOwsgPCN\n",
      "1348618357990449155 2021-01-11 19:10:47 +0600 <Dilbybeer> Neoliberal Democrat passing legislation a Republican from the 90s would support = COMMUNIST! RADICAL! Literal Nazi in a Camp Auschwitz shirt = good people. We love you. You’re Special. #antisemitism #CapitolBuilding #CapitalHill #CoupAttempt #TrumpCult #Trump\n",
      "1348618201962319872 2021-01-11 19:10:10 +0600 <Dbender22> NEVER TAKE THE BAIT PEOPLE. These are a bunch of drug addicted LOSERS. They're trying to provoke us. This is their \"job\". Remember: they are getting paid for this. IGNORE THEM. #KAG #MAGA #CapitalHill #ASHLEYBABBIT #BlueLivesMatter #StopTheSteaI2021 #BlackVoicesForTrump\n",
      "1348618007166283777 2021-01-11 19:09:23 +0600 <lnyousif> Now America understand that what Iraqi looting after 2003 was simply Iraqis Making Iraq Great Again #America #CapitalHill\n",
      "1348617991563472896 2021-01-11 19:09:19 +0600 <Linda50068703> @thehill @tedcruz Why didn't they ask to have her removed when they cities were being destroyed and she said it was justifiable.  Where is it not right for Ted Cruz to speak up.  He didn't ask for the riot on capital hill.  Democrats are asking for trouble and need to be removed from office.\n",
      "1348617829394870272 2021-01-11 19:08:41 +0600 <sandralester> Trump orders flags to half-staff in wake of Capitol Hill riot  https://t.co/Dw4frceeSg.  This of course is a lie. This was ONLY DONE &amp; probably not by Trump when the left wing media brought up the fact the Capital was flying our flag at half staff but NOT THE WHITE-HOUSE!\n",
      "1348617717323091969 2021-01-11 19:08:14 +0600 <Pedro_ChosenOne> @unleashthetea @joncoopertweets It is alledge that Supreme Court Justice Clarence Thomas wife paid fees for 70 buses with hundreds of rioters that damage Capital Hill, if this is true she should be held responsible and accountable for the actions of the rioters on January 6 2021!  https://t.co/aSZOIfj4Ux\n",
      "1348617525916037121 2021-01-11 19:07:28 +0600 <india24x7livetv> अपने पति ट्रंप के हिंसक समर्थकों पर पहली बार खुलकर बोलीं मेलानिया  ट्रंप, की हिंसा की आलोचना #news #india247livetv #MelaniaTrump #DonaldJTrump #CapitalHill #USElections #JoeBiden #USriot #USCapitol #USA #America #supporters #protest #CapitalRiots #CapitalBuilding  https://t.co/nss3olHRRK\n",
      "1348617423801483266 2021-01-11 19:07:04 +0600 <Padnation2> The Batchelor News Radio Network is now playing \"The Batchelor News Radio Show discussing Trump supporters staging a coup at Capital Hill\"! Check it out!  https://t.co/Ki61rkIoZm. by going to the Batchelor News Radio Show Page\n",
      "1348617407351369729 2021-01-11 19:07:00 +0600 <Loraine41988209> Thank you President Trump for taking the slings and arrows. Without you this deceitful quagmire would have continued. Breaching the Capital wrong. Shouting to the highest hill for corrupt to stop - right.\n",
      "1348617370827448321 2021-01-11 19:06:51 +0600 <cabell_eames> You can’t call us “snowflakes” and blame us for the senseless violence that happened on Wednesday at the same time.     Deflection doesn’t work that way. #AntifaWho #CapitalHill #Accountability #TrumpSupporters\n",
      "1348617142606950401 2021-01-11 19:05:57 +0600 <SamanthaSAS> I’d like to know what Anti-American airlines this is👇🏻 #Americans #CapitalHill #1776Again   https://t.co/aglIfn9Nja\n",
      "1348617132272189440 2021-01-11 19:05:55 +0600 <unityarvut> The problem is that there is NO true heart in the system!  It has all dried up &amp; needs to be energized through our UNITY!! #mondaythoughts #MondayMotivation #MondayVibes #Soul #Capitol #CapitolBuilding #CapitalHill #Peace #usacapitol #racism #FreedomOfSpeech #Freedom #world #feel\n",
      "1348617020875661313 2021-01-11 19:05:28 +0600 <octane220> @Jim_Jordan Do these idiots on Capital hill not realize that if you force The President out that what you seen on the 6th is just a drop in the bucket as to what may happen these ppl have no idea what they are doing obviously, I feel for you Mr Jordan dealing with fools daily!!!\n"
     ]
    }
   ],
   "source": [
    "import nest_asyncio\n",
    "nest_asyncio.apply()\n",
    "\n",
    "import twint\n",
    "import pandas\n",
    "#configuration\n",
    "\n",
    "TweetKeyword=\"Capital Hill\"\n",
    "config = twint.Config()\n",
    "config.Search = TweetKeyword\n",
    "config.Lang = \"en\"\n",
    "config.Limit = 10\n",
    "# config.Since = \"2019–04–29\"\n",
    "# config.Until = \"2020–04–29\"\n",
    "# config.Store_json = True\n",
    "config.Store_csv = True\n",
    "config.Output = \"tweet_data.csv\"\n",
    "# running search\n",
    "twint.run.Search(config)"
   ]
  },
  {
   "cell_type": "code",
   "execution_count": null,
   "metadata": {},
   "outputs": [],
   "source": []
  }
 ],
 "metadata": {
  "kernelspec": {
   "display_name": "Python 3",
   "language": "python",
   "name": "python3"
  },
  "language_info": {
   "codemirror_mode": {
    "name": "ipython",
    "version": 3
   },
   "file_extension": ".py",
   "mimetype": "text/x-python",
   "name": "python",
   "nbconvert_exporter": "python",
   "pygments_lexer": "ipython3",
   "version": "3.7.6-final"
  }
 },
 "nbformat": 4,
 "nbformat_minor": 4
}