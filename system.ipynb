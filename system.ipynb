{
 "cells": [
  {
   "cell_type": "code",
   "execution_count": 1,
   "metadata": {},
   "outputs": [
    {
     "output_type": "stream",
     "name": "stderr",
     "text": [
      "[nltk_data] Downloading package wordnet to\n[nltk_data]     C:\\Users\\User\\AppData\\Roaming\\nltk_data...\n[nltk_data]   Package wordnet is already up-to-date!\n"
     ]
    }
   ],
   "source": [
    "import pandas as pd\n",
    "import numpy as np\n",
    "import missingno as msno \n",
    "import seaborn as sns\n",
    "import plotly.express as px\n",
    "import matplotlib.pyplot as plt\n",
    "import re\n",
    "import string\n",
    "import nltk\n",
    "nltk.download('wordnet')\n",
    "from nltk.tokenize import word_tokenize,RegexpTokenizer\n",
    "from nltk.corpus import stopwords\n",
    "from nltk.stem import WordNetLemmatizer \n",
    "from nltk.stem import PorterStemmer \n",
    "\n",
    "from sklearn.feature_extraction.text import CountVectorizer,TfidfVectorizer\n",
    "\n",
    "from sklearn.model_selection import train_test_split,GridSearchCV\n",
    "\n",
    "\n",
    "#For Clasification Model Built\n",
    "from sklearn.model_selection import train_test_split,GridSearchCV\n",
    "from sklearn.naive_bayes import MultinomialNB\n",
    "from sklearn.metrics import f1_score\n",
    "from sklearn.metrics import classification_report, confusion_matrix, accuracy_score\n",
    "from sklearn.pipeline import Pipeline\n",
    "from sklearn.feature_extraction.text import TfidfTransformer\n",
    "from sklearn.linear_model import LogisticRegression\n",
    "from sklearn.svm import SVC\n",
    "from sklearn.neighbors import KNeighborsClassifier\n",
    "from sklearn.tree import DecisionTreeClassifier\n",
    "from sklearn.ensemble import RandomForestClassifier\n",
    "from sklearn.multioutput import MultiOutputClassifier\n",
    "from sklearn.model_selection import RepeatedStratifiedKFold"
   ]
  },
  {
   "cell_type": "code",
   "execution_count": 2,
   "metadata": {},
   "outputs": [],
   "source": [
    "# For Algorithm\n",
    "\n",
    "from sklearn.ensemble import GradientBoostingClassifier\n",
    "\n",
    "from sklearn.cluster import KMeans\n",
    "from sklearn.naive_bayes import GaussianNB\n",
    "from sklearn.naive_bayes import MultinomialNB\n",
    "from sklearn.linear_model import LogisticRegression\n",
    "from sklearn.ensemble import RandomForestClassifier\n",
    "from sklearn.ensemble import GradientBoostingClassifier\n",
    "from sklearn.neighbors import KNeighborsClassifier\n",
    "from sklearn.linear_model import Perceptron\n",
    "\n",
    "from sklearn.linear_model import RidgeClassifier\n",
    "from sklearn.ensemble import AdaBoostClassifier\n",
    "\n",
    "from sklearn.svm import SVC\n",
    "from sklearn.tree import DecisionTreeClassifier\n",
    "from sklearn import svm\n",
    "\n",
    "from sklearn.model_selection import train_test_split\n",
    "from sklearn.model_selection import StratifiedShuffleSplit"
   ]
  },
  {
   "cell_type": "code",
   "execution_count": 3,
   "metadata": {},
   "outputs": [],
   "source": [
    "#Location & Keyword Extraction Module\n",
    "import pandas as pd\n",
    "import numpy as np\n",
    "\n",
    "import spacy\n",
    "import en_core_web_sm\n",
    "from textrank4zh import TextRank4Keyword\n",
    "\n",
    "import seaborn as sns\n",
    "import plotly.express as px\n",
    "import matplotlib.pyplot as plt\n",
    "\n",
    "import re\n",
    "import string\n",
    "import nltk\n",
    "\n",
    "from nltk.tokenize import word_tokenize,RegexpTokenizer\n",
    "from nltk.corpus import stopwords\n",
    "from nltk.stem import WordNetLemmatizer "
   ]
  },
  {
   "cell_type": "code",
   "execution_count": 4,
   "metadata": {
    "tags": [
     "outputPrepend"
    ]
   },
   "outputs": [
    {
     "output_type": "stream",
     "name": "stdout",
     "text": [
      "hspuhXQdI\n",
      "1142985300911841280 2019-06-24 08:38:26 +0600 <unbnewsroom> #Banani Fire: Rupayan Group chairman gets bail #bananiFire #RupayanGroup  https://t.co/qh1Jk6HQbS\n",
      "1125341237056118784 2019-05-06 16:07:13 +0600 <dailystarnews> A #Dhaka court grants bail to FR Tower's land owner SMHI Faruque #BananiFire  https://t.co/G1SwxCGXQw\n",
      "1118976261639016453 2019-04-19 02:35:05 +0600 <gvenespanol> #Incendios consecutivos en #Daca generan preocupación por regulaciones y seguridad en #Bangladesh  #Dhaka #DhakaFire #BananiFire #DhakaBananiFire #Banani  De @prsanyal  Trad.: @GabrielaenLima  https://t.co/cuhqLpLgmM\n",
      "1116576224636129280 2019-04-12 11:38:11 +0600 <NewAgeBDcom> 3 probe bodies fail to submit report, time extended  https://t.co/GRQUShHVKo #bananifire\n",
      "1116418236042506240 2019-04-12 01:10:24 +0600 <banglatribune> এই শহর যেন মৃত্যুকূপ না হয় #bananifire @BRACworld  https://t.co/nhvFvNOmMt\n",
      "1115674372818128896 2019-04-09 23:54:33 +0600 <DDulal2> May Allah place him in Jannah #firefighter #BANGLADESH #bananifire  https://t.co/Urf7h0fI61\n",
      "1115610784661295104 2019-04-09 19:41:52 +0600 <banglalivenews> বনানী অগ্নিকান্ডে আহত দমকলকর্মীকে সিঙ্গাপুরে নিয়েও বাঁচানো গেলো না  https://t.co/EneuFTZCZ5 #Banani #BananiFire\n",
      "1115527937535569920 2019-04-09 14:12:40 +0600 <dailystarnews> মৃত্যুবরণকারী ফায়ারম্যান সোহেল রানার পরিবারের উপযুক্ত কেউ থাকলে তাকে চাকরি দেওয়ার ব্যবস্থা করা হবে বলে জানিয়েছেন স্বরাষ্ট্রমন্ত্রী #Bangladesh #bananifire  https://t.co/vJuNV0TwW7\n",
      "1115523754803769344 2019-04-09 13:56:03 +0600 <banglatribune> চোখের জলে সোহেলকে বিদায় জানালেন সহকর্মীরা #bananifire  https://t.co/YciruzAVIm\n",
      "1115511228313501696 2019-04-09 13:06:16 +0600 <momtarin> hey, i am looking for this service #Vector #line_art #Business_card ?  Just check out here,,   https://t.co/3YDuWOWR60  #Barack_Obama #DhakaFire #BananiFire #FridayThoughts #friyay #Agnès_Varda #BrexitDay #PersonaTracklist #BTS_PAVED_THE_WAY #banani #TuesdayMotivation #Rohingya  https://t.co/zgUB9zLZg6\n",
      "1115507944466989057 2019-04-09 12:53:13 +0600 <dailystarnews> #Bangladesh Home Minister Kamal assures a job for a family member of firefighter Sohel Rana #bananifire  https://t.co/QcvEE63dRc\n",
      "1115390565611237377 2019-04-09 05:06:48 +0600 <banglatribune> সোহেল রানারা সামান্য বেতনে ত্যাগ স্বীকারের এত শক্তি কোথায় পান? #FRTower #bananifire  https://t.co/l9VitSdcbR\n",
      "1115332117783810048 2019-04-09 01:14:33 +0600 <im_musafir> ফায়ার ফাইটার সোহেল রানার মৃত্যুতে গভীর শোক ও অন্তরের অন্তস্থল থেকে জানাই গভীর শ্রদ্ধা । আল্লাহ তাকে জান্নাতের মেহমান বানিয়ে নিও! আমীন... #bananifire #দেশপ্রেমিক #আত্মত্যাগী  https://t.co/nKYhbXPOS3\n",
      "1115300373474840576 2019-04-08 23:08:24 +0600 <banglalivenews> ফায়ারম্যান সোহেল মারা গেলেন, বনানীর আগ্নিকাণ্ডের ঘটনার মোট মৃতের সংখ্যা এখন ২৭  https://t.co/UfuriwKUAG #bananifire #banani\n",
      "1115238627469082624 2019-04-08 19:03:03 +0600 <HY0USUKE> May Allah rest him in Jannah. #RIP #Sohel_Rana #Our_Hero #Bangladesh #Dhaka #BananiFire  https://t.co/QQojXDOS7M\n",
      "1115229733208248321 2019-04-08 18:27:43 +0600 <xunaed> #SohelRana-The Super hero we need. (A brave fireman who died after saving several lives in the line of duty during #dhakafire. RIP)  #SuperHero #bananifire #banani #Bangladesh  https://t.co/gZOAYcyd6O\n",
      "1115213036447518722 2019-04-08 17:21:22 +0600 <Farzanta> The untimely demise of a promising life. My heart goes out to his family. #bananifire #respect #salutebdfirefighters #restinpeace @fscd_bd\n",
      "1115199486819569670 2019-04-08 16:27:31 +0600 <IUis360> আপনার প্রতিষ্ঠানের জন্য ওয়েবসাইট বানাতে যোগাযোগ করুন ইউএস আইটি সল্যুশন এর সাথে। আমরা দিচ্ছি স্বল্প খরচে আপনার বাজেটের ভেতরে ডায়নামিক ওয়েবসাইট ডিজাইন। আমাদের পুর্বের কাজের স্যাম্পলঃ  https://t.co/QMF4wgNddY … #Bangladesh #Dhakanews #dhakafire #Dharamshala #bananifire @OxfaminBD  https://t.co/lmyrZsI21l\n",
      "1115179065047228416 2019-04-08 15:06:22 +0600 <AZIZ__AMIRUL> #banani fireman Sohel dies at #Singapore #hospital   https://t.co/RtY6KyDwZg via @dailystarnews #Fire #firefighters #firefighter #Emergency #EmergencyServices #accident #bananifire #Bangladesh #dhaka #dhakafire #SouthAsia #Infernus\n",
      "1115173576598884352 2019-04-08 14:44:34 +0600 <dailystarnews> সিঙ্গাপুরের একটি হাসপাতালে শেষনিঃশ্বাস ত্যাগ করলেন বনানীতে অবস্থিত এফআর টাওয়ারে উদ্ধার কাজ করতে গিয়ে আহত সোহেল #Bangladesh #bananifire  https://t.co/swMH7mJI3g\n",
      "1115170834224537600 2019-04-08 14:33:40 +0600 <taznsaz> Heroes never die! RIP Sohel :( #sohel #firefighter #bananifire #firefighterdies #Bangladesh   https://t.co/w2BxiX75DA\n",
      "1115156888520286208 2019-04-08 13:38:15 +0600 <najiur_akash> #FireFighter Sohel Rana died today.He is a hero. #bananifire\n",
      "1115152465010126848 2019-04-08 13:20:40 +0600 <Real_Tanimul> বীরপুরুষ দমকলকর্মী সোহেল রানার মৃত্যুতে আমি গভীরভাবে শোক প্রকাশ করছি। #bananifire\n",
      "1115146107179470855 2019-04-08 12:55:25 +0600 <unbnewsroom> PM mourns death of #firefighter Sohel  #sheikhHasina #bananiFire  https://t.co/l1hX5lSaty\n",
      "1115124179332784133 2019-04-08 11:28:17 +0600 <banglatribune> ফায়ারম্যান সোহেল রানা মারা গেছেন #FRTower #BananiFire  https://t.co/5PRru5Mkfq\n",
      "1115121822121385990 2019-04-08 11:18:55 +0600 <labu8080> Sohel Rana, The #Firefighter, who rescued dozens of trapped people from FR Tower, a #High-Rise blaze of upscale area Banani, #Dhaka had died today in Singapore Hospital. He sustained serious injuries during #rescueoperation on 28th March. #Bananifire  https://t.co/iDHFFruZQd\n",
      "1115113880919977984 2019-04-08 10:47:21 +0600 <NewAgeBDcom> #BananiFire Injured firefighter Sohel dies at Singapore Hospital  https://t.co/shW157pAzQ\n",
      "1115111408822308864 2019-04-08 10:37:32 +0600 <banglalivenews> ফায়ারম্যান সোহেল মারা গেলেন, বনানীর আগ্নিকাণ্ডের ঘটনার মোট মৃতের সংখ্যা এখন ২৭  https://t.co/UfuriwtjJ8 #DhakaFire #Banani #BananiFire\n",
      "1115102502305849345 2019-04-08 10:02:08 +0600 <unbnewsroom> Banani fire: Injured firefighter dies at Singapore Hospital   #Bananifire #Firefighter   https://t.co/AaJbOPhA9n\n",
      "1115082387082358785 2019-04-08 08:42:12 +0600 <SJpapabear> #bananifire hero, injured #fireman Sohel Rana dies in Singapore hospital. Rest In Peace dear brother! We will remember you.\n",
      "1114454749028466693 2019-04-06 15:08:12 +0600 <IUis360> আপনার প্রতিষ্ঠানের জন্য ওয়েবসাইট বানাতে যোগাযোগ করুন ইউএস আইটি সল্যুশন এর সাথে। আমরা দিচ্ছি স্বল্প খরচে আপনার বাজেটের ভেতরে ডায়নামিক ওয়েবসাইট ডিজাইন। আমাদের পুর্বের কাজের স্যাম্পলঃ  https://t.co/QMF4wgvCmq  #Bangladesh #Dhakanews #dhakafire #Dharamshala #bananifire @OxfaminBD  https://t.co/8jNMBvtzGv\n",
      "1114240952254717952 2019-04-06 00:58:39 +0600 <DhakaTribune> PM criticizes gathering of #spectators during fire #BananiFire  https://t.co/7ghlJPpXLk\n",
      "1114192425138786304 2019-04-05 21:45:49 +0600 <DhakaTribune> Injured #firefighter Sohel Rana flies to Singapore for treatment #BananiFire  https://t.co/mjhULmEdkk\n",
      "1114154790995386368 2019-04-05 19:16:16 +0600 <banglatribune> সহকর্মীদের উদ্ধারে আবারও এফ আর টাওয়ারের ভেতরে যান তারা #FRTower #bananifire  https://t.co/8E7HaFJlyy\n",
      "1114060414424240128 2019-04-05 13:01:15 +0600 <ayeshakabir> Consumed in the flames of greed. Anisul Hoque writes on how corruption and greed lead to the fires we have been seeing in Dhaka City, where building codes are violated and fire safety is a joke.  https://t.co/Ur64mZhfNR @anisulhoque1971 @ProthomAlo #dhakafire #bananifire\n",
      "1113879632896389120 2019-04-05 01:02:54 +0600 <DhakaTribune> Fire service chief: Helicopters helped spread FR Tower fire #BananiFire  https://t.co/dITdn7fm2V\n",
      "1113878580671303685 2019-04-05 00:58:43 +0600 <DhakaTribune> Fire alarms could have saved more lives, claim FR Tower survivors #BananiFire  https://t.co/2ZMmQAldWB\n",
      "1113787416018423808 2019-04-04 18:56:27 +0600 <banglatribune> এফ আর টাওয়ারের ১৯ থেকে ২৩ তলা অবৈধ: রাজউক-বুয়েটের তদন্ত কমিটি #FRTower #BananiFire   https://t.co/vLZfYmLJBG\n",
      "1113763595991404544 2019-04-04 17:21:48 +0600 <dailystarnews> ACC sends letters to 9 different government authorities a day after the commission itself initiated investigation into the alleged irregularities and corruption in FR Tower #Bangladesh #bananifire #banani    https://t.co/Nz5xII5Afw\n",
      "1113703789255467008 2019-04-04 13:24:09 +0600 <ayeshakabir> Following a spate of devastating fires in Dhaka, engineers and experts write about how to escape from fires, prevention and so on...  https://t.co/okzduzMzLF #dhakafire #fire #Dhaka #bananifire @ProthomAlo #disaster\n",
      "1113603213977161728 2019-04-04 06:44:30 +0600 <NajmulH27700205> Along with #Corruption, poverty, #poverty, #bananifire, #rape, #murder, disappearance, loading #questionpapersLeaked etc. #VCAkhtar, #CECHuda,#VPNuru, Nayeem, Nayeem's parents - Shahriar Jai is suffering from problems of #Bangladesh, I think the state is broken\n",
      "1113566265547689984 2019-04-04 04:17:41 +0600 <imtiaz2006> The real hero of dhaka banani fr tower fire incident. #bananifire #spidermanofbangladesh Heroes save Girls during Banani FR Tower Fire...  https://t.co/Lu9t4Q6NOP via @YouTube\n",
      "1113518094570336256 2019-04-04 01:06:16 +0600 <TusarWahid> যে দেশের ফায়ার সার্ভিসের টুলস আট তলার উপরে যেতে পারে না, সে দেশের প্রতিনিধিদের মুখে মহাকাশ জয়ের হাসি...  আমরা আর কবে সভ্য হবো...?   #ওয়াহিদ_তুষার #WahidTusar #bananifire  https://t.co/dpEEHSq67U\n",
      "1113355633187729410 2019-04-03 14:20:42 +0600 <dailystarnews> Let’s not forget the people who lost their lives in Thursday’s Banani FR Tower fire #Bangladesh #DhakaFire #BananiFire  https://t.co/lGaR5KM7P7\n",
      "1113104830581489664 2019-04-02 21:44:06 +0600 <Robi6869> #Bangladesh PM #SheikhHasina has issued a set of directives for the authorities concerned to ensure building codes and #FireSafety regulations are implemented in #HighRise buildings and other large establishments.  Details-  https://t.co/DIVBgQepiM  #BananiFire #DhakaFire\n",
      "1113104788441378816 2019-04-02 21:43:56 +0600 <ROBIULISLAM1996> #Bangladesh PM #SheikhHasina has issued a set of directives for the authorities concerned to ensure building codes and #FireSafety regulations are implemented in #HighRise buildings and other large establishments.  Details-  https://t.co/1e2e68wm9j  #BananiFire #DhakaFire\n",
      "1113089970871328768 2019-04-02 20:45:03 +0600 <dailystarnews> A firefighter who sustained serious injuries during the FR Tower fire rescue operation, remains in critical condition at CMH #Bangladesh #Banani #bananifire   https://t.co/MhKY4fnHkI\n",
      "1113068248604434432 2019-04-02 19:18:44 +0600 <ZaidKalam> Interactive with a note of sadness and caution! The loved ones we lost in #BananiFire &gt;&gt;&gt;  https://t.co/xXLKnfa4uY #ddj #dataviz #interactive #Datavisualization\n",
      "1113031487387926529 2019-04-02 16:52:40 +0600 <AminTehmina> Prime Minister Sheikh Hasina has asked the fire department to inspect high-rises, and commercial buildings every year and issue fire safety certificates.  The directives came at a cabinet meeting as the nation is still recovering from the shock of devastating #BananiFire.  https://t.co/jXlkJmLW6F\n",
      "1112950426746253312 2019-04-02 11:30:34 +0600 <Tanziaafrin23> শুনুন বনানী ট্রাজেডিতে মিডিয়ার বানানো শিশু নাঈমের কথা!  বাংলাদেশের ছোট পর্দার সস্তা সেলিব্রেটি জয় সমালোচনায় আসতে এবং শেখ হাসিনা কতৃক প্লটটা বাগিয়ে নিতে তাকে কিভাবে ব্যবহার করেছে!  আমাদের উচিৎ এসকল ভন্ড,প্রতারকদের বয়কট করা!  #bananifire  #boycott_Shahriar_Nazim_Joy  https://t.co/JOxor0TCqN\n",
      "1112814398924521473 2019-04-02 02:30:02 +0600 <TabassumTanzu> #Bangladesh PM #SheikhHasina has issued a set of directives for the authorities concerned to ensure building codes and #FireSafety regulations are implemented in #HighRise buildings and other large establishments.  Details-  https://t.co/NclVJeXjLF  #BananiFire #dhakafire\n",
      "1112729714357985285 2019-04-01 20:53:32 +0600 <dailystarnews> [WATCH]: “My mother wanted to see me for the last time when I informed them. I tried to make a video call, but it was not possible. So, I took three selfies and posted it in Facebook around 2:40pm,” #bananifire #Banani   https://t.co/yfNykK57xh\n",
      "1112725139320242176 2019-04-01 20:35:21 +0600 <shamimrahmankh1> #Bangladesh PM #SheikhHasina has issued a set of directives for the authorities concerned to ensure building codes and #FireSafety regulations are implemented in #HighRise buildings and other large establishments.  Details-  https://t.co/gsA8m7ZFmS  #BananiFire #DhakaFire\n",
      "1112724808574226432 2019-04-01 20:34:02 +0600 <Abdulka60844859> #Bangladesh PM #SheikhHasina has issued a set of directives for the authorities concerned to ensure building codes and #FireSafety regulations are implemented in #HighRise buildings and other large establishments.  Details-  https://t.co/4r9MBwy7yz  #BananiFire #DhakaFire\n",
      "1112721693951156224 2019-04-01 20:21:39 +0600 <himel_shajid> #Bangladesh PM #SheikhHasina has issued a set of directives for the authorities concerned to ensure building codes and #FireSafety regulations are implemented in #HighRise buildings and other large establishments.  Details-  https://t.co/MTodLhreKR  #BananiFire #DhakaFire\n",
      "1112701977224372225 2019-04-01 19:03:19 +0600 <arafat1201314> #Bangladesh PM #SheikhHasina has issued a set of directives for the authorities concerned to ensure building codes and #FireSafety regulations are implemented in #HighRise buildings and other large establishments.  Details-  https://t.co/cYZR8Hqtqf  #BananiFire #DhakaFire\n",
      "1112699796152860672 2019-04-01 18:54:39 +0600 <KaeshEmon> #Bangladesh PM #SheikhHasina has issued a set of directives for the authorities concerned to ensure building codes and #FireSafety regulations are implemented in #HighRise buildings and other large establishments.  Details-  https://t.co/8uP7GfOPCN  #BananiFire #DhakaFire\n",
      "1112699653277941761 2019-04-01 18:54:04 +0600 <jhfahim_bd> #Bangladesh PM #SheikhHasina has issued a set of directives for the authorities concerned to ensure building codes and #FireSafety regulations are implemented in #HighRise buildings and other large establishments.  Details-  https://t.co/hJD9xGMkhk  #BananiFire #DhakaFire\n",
      "1112699578833346562 2019-04-01 18:53:47 +0600 <DeadTonmoy> #Bangladesh PM #SheikhHasina has issued a set of directives for the authorities concerned to ensure building codes and #FireSafety regulations are implemented in #HighRise buildings and other large establishments.  Details-  https://t.co/76yx5tuZMc  #BananiFire #DhakaFire\n",
      "1112663308081913856 2019-04-01 16:29:39 +0600 <BdPukur> Surma  https://t.co/iGqMkAhT1G  #onlinefishmarketbd #bangladesh #seafish #dryfish #riverfish #chalanbeel #natore  #fishmarket #beautyfullbangladesh #pukurbd  #bananifire #frtower #bananifire #firebrigade #highrisefire #firesurvivor  #fire #gulshan #DNCC #dnccmarketfire  https://t.co/VIKHwjOSov\n",
      "1112648281769697282 2019-04-01 15:29:57 +0600 <banglatribune> সেই ফায়ারম্যান রানাকে বাঁচাতে রক্ত দিচ্ছেন সহকর্মীরা #bananifire  https://t.co/nqvuOt432U\n",
      "1112628115757371393 2019-04-01 14:09:49 +0600 <banglatribune> এফ আর টাওয়ার থেকে মালামাল সরিয়ে নিচ্ছে প্রতিষ্ঠানগুলো #FRTower #bananifire  https://t.co/VNEfSYaOCo\n",
      "1112551970802487296 2019-04-01 09:07:14 +0600 <urumurum> probe team finds FR Tower risky, two owners on seven-day remand  https://t.co/6SShUYpFKo #BananiFire #Dhaka #FEreport via @febdonline\n",
      "1112536505573093376 2019-04-01 08:05:47 +0600 <TajwarChowdhury> Hey Everyone,, There was a tragic event that took place in Bangladesh few days back. Please check out my blog- ( https://t.co/ZbRyxfdSVm) #UBeng212 #DhakaTribune #bananifire\n",
      "1112422102454263809 2019-04-01 00:31:11 +0600 <DhakaTribune> Lungful of smoke, escape routes closed #BananiFire  https://t.co/bpfrHC3kHJ\n",
      "1112413679008382976 2019-03-31 23:57:43 +0600 <prithulmahmud> শুনলাম কাইল থেইকা ঢাকায় ২৪ টা স্পিশাল টিম নামবো,উল্টাপাল্টা বিল্ডিং দেখলেই বলে কোপাবে,বলি স্যার রাজউক এর বিল্ডিং যেখানে ফেরেশতা জন্ম নেয় সেখানে কি কোন টিম যাইবো?? না ওইটা আরশ মহল্লা না কৈশাল পর্বত না ভ্যাটিকান সিটি, যেখানে কোন অভিযান হইতে পারেনা!!#BananiFire #Dhaka #Bangladesh\n",
      "1112410722279936000 2019-03-31 23:45:58 +0600 <DhakaTribune> FR Tower Fire: Rizvi blasts govt for trying to shift blame over to BNP #BananiFire  https://t.co/f0lRDgz0qN\n",
      "1112391973741056000 2019-03-31 22:31:28 +0600 <Bangladesh_BN> Additional Secretary Faijur Rahman, head of the probe body, came up with the information while talking to reporters after ending the public hearing on #BananiFire incident at a temporary police control room near FR Tower, where statements of 24 witnesses were recorded on Sunday.\n",
      "1112390138342998016 2019-03-31 22:24:10 +0600 <Bangladesh_BN> The probe committee formed by the #Bangladesh Home and Disaster Management and Relief Ministries suspected that the #BananiFire at FR Tower in #Dhaka originated from an electric short-circuit on the 7th floor of the building that killed 26 people. | #DhakaFire🔥 RT@BengalNewz\n",
      "1112339014667980800 2019-03-31 19:01:02 +0600 <unbnewsroom> #BananiFire: #BNP accuses govt of shifting blame   https://t.co/DfgHGiPNyr\n",
      "1112324203951345664 2019-03-31 18:02:10 +0600 <unbnewsroom> #BananiFire: Faruk, Tasveer put on 7-day remand   https://t.co/eupyKCIp0y\n",
      "1112315270792568832 2019-03-31 17:26:41 +0600 <banglatribune> ফারুক ও তাসভির সাতদিনের রিমান্ডে #BananiFire   https://t.co/o4cWbamrFU\n",
      "1112313932675313664 2019-03-31 17:21:22 +0600 <dailystarnews> #UPDATE: Faruque, FR Tower's land owner and Tasvirul, one of the owners placed on 7-day remand each #Banani #BananiFire #Bangladesh   https://t.co/8XR6DeoSO0\n",
      "1112312768277811200 2019-03-31 17:16:44 +0600 <dailystarnews> সরকার ক্ষমতা খাটিয়ে তাসভীরকে গ্রেপ্তার করেছে শুধুমাত্র জনগণের কাছে বিএনপিকে দোষী করার জন্য, বলেছেন মির্জা ফখরুল  #Bangladesh #BananiFire #Banani #dhakafire  https://t.co/MVLyDORpzb\n",
      "1112310079091437568 2019-03-31 17:06:03 +0600 <BengalNewz> The land owner of #Banani FR Tower, where a deadly blaze killed 26 people last week, was arrested on Sunday from @BashundharaCity residential area in #Dhaka. Engineer SMHI Faruk Hossain was named in a case filed over the #BananiFire incident. | #DhakaFire 🔥 RT@Bangladesh_BN\n",
      "1112306437714141184 2019-03-31 16:51:35 +0600 <BdPukur> চাপিলা  https://t.co/iGqMkAhT1G  #onlinefishmarketbd #bangladesh #seafish #dryfish #riverfish  #aquariumfish #chalanbeel #natore #rajshahi #sirajganj #fishmarket   #pukurbd  #bananifire #frtower #bananifire #firebrigade #highrisefire  #fire #gulshan #DNCC #dnccmarketfire  https://t.co/n1aQ5updMA\n",
      "1112301357510201346 2019-03-31 16:31:23 +0600 <dailystarnews> #UPDATE: #bananifire survivor narrates the battle for survival #Bangladesh #dhakafire  https://t.co/w4iM0gD7Od\n",
      "1112297089378201601 2019-03-31 16:14:26 +0600 <jagonews24>  https://t.co/brRn2yZRcv #bananifire\n",
      "1112290068129968129 2019-03-31 15:46:32 +0600 <adamthaque> BD Fire Service &amp; Civil Defence needs immediate review of their equipments &amp; available supports. More training is needed for our fire fighters to handle crisis in a larger magnitude   #bananifire #fire #Bangladesh #safety #WeCare #dhakafire #restructure #support #urbanfire #BD  https://t.co/hUrf7qFquW\n",
      "1112280090178711552 2019-03-31 15:06:53 +0600 <jagonews24>  https://t.co/TkUyYbdmad #bananifire\n",
      "1112265019360632832 2019-03-31 14:07:00 +0600 <Tanziaafrin23> চমৎকার প্রকাশ...!  দূর্নিতীর উন্নয়নে যে এই দেশের সরকার তারই এক বহিঃপ্রকাশ!  #bangladesh  #BananiFire   #Corruption  https://t.co/jbJlLW2MoZ\n",
      "1112259579461672960 2019-03-31 13:45:23 +0600 <banglatribune> ‘এফ আর টাওয়ার ব্যবহার উপযোগী নয়, হেলে পড়েছে’ #BananiFire #FRTower  https://t.co/kJiPfB7R0m\n",
      "1112259171758604288 2019-03-31 13:43:45 +0600 <NewAgeBDcom> DB to probe Banani fire  https://t.co/FQXneWfhnq #BananiFire  https://t.co/OMW8jcQMU7\n",
      "1112244818133114880 2019-03-31 12:46:43 +0600 <unbnewsroom> DB to investigate Banani fire case #BananiFire #DetectiveBranch   https://t.co/crGCWpLpbj\n",
      "1112242144360587265 2019-03-31 12:36:06 +0600 <tiniskwerl> ⚡️#Dhaka #Bangladesh #Fire Update #Police #Arrest 2 #FRTower Owners 26 Dead/~70 Inj LastWk No FireProtectedStairs Some TopFloors Illegal #Construction Search for ConstructionCo Chief  https://t.co/tXTVy67fI6 #BangladeshFire #DhakaFire #Banani #BananiFire #FRTowerFire Tweet4/Thread\n",
      "1112240535601704963 2019-03-31 12:29:42 +0600 <banglatribune> ‘তাসভির ও ফারুকের ১০ দিন করে রিমান্ড চাওয়া হবে’ #Bananifire  https://t.co/KkCEjbXV2A\n"
     ]
    }
   ],
   "source": [
    "import nest_asyncio\n",
    "nest_asyncio.apply()\n",
    "\n",
    "import twint\n",
    "import pandas\n",
    "#configuration\n",
    "\n",
    "TweetKeyword=\"#BananiFire\"\n",
    "config = twint.Config()\n",
    "config.Search = TweetKeyword\n",
    "config.Lang = \"en\"\n",
    "config.Limit = 10\n",
    "# config.Since = \"2019–04–29\"\n",
    "# config.Until = \"2020–04–29\"\n",
    "# config.Store_json = True\n",
    "config.Store_csv = True\n",
    "config.Output = \"get_tweet_data.csv\"\n",
    "# running search\n",
    "twint.run.Search(config)"
   ]
  },
  {
   "cell_type": "code",
   "execution_count": 5,
   "metadata": {
    "tags": []
   },
   "outputs": [
    {
     "output_type": "stream",
     "name": "stdout",
     "text": [
      "Train and Test data sets are imported successfully\n"
     ]
    }
   ],
   "source": [
    "# Read the dataset csv files and create pandas datframes\n",
    "\n",
    "train_df=pd.read_csv(\"train.csv\")\n",
    "test_df=pd.read_csv(\"get_tweet_data.csv\", error_bad_lines=False)\n",
    "print(\"Train and Test data sets are imported successfully\")"
   ]
  },
  {
   "cell_type": "code",
   "execution_count": 6,
   "metadata": {},
   "outputs": [],
   "source": [
    "test_df.rename({\"tweet\": \"text\"},axis='columns',inplace =True)"
   ]
  },
  {
   "cell_type": "markdown",
   "metadata": {},
   "source": [
    "## 1. Data Analysis and Exploration"
   ]
  },
  {
   "cell_type": "markdown",
   "metadata": {},
   "source": [
    "### 1.1 Explore Data"
   ]
  },
  {
   "cell_type": "code",
   "execution_count": 7,
   "metadata": {},
   "outputs": [],
   "source": [
    "# Define a function to explore the train and test dataframes\n",
    "\n",
    "def explore_data(df):\n",
    "    print(\"-\"*100)\n",
    "    print(\"Shape of dataframe: \",df.shape)\n",
    "    print(\"Number of records in data set\",df.shape[0])\n",
    "    print(\"Information of Dataset\")\n",
    "    df.info()\n",
    "    print(\"-\"*100)\n",
    "    print(\"First 5 records of dataset:\")\n",
    "    return df.head(10)\n",
    "    print(\"-\"*100)\n"
   ]
  },
  {
   "cell_type": "code",
   "execution_count": 8,
   "metadata": {
    "tags": []
   },
   "outputs": [
    {
     "output_type": "stream",
     "name": "stdout",
     "text": [
      "----------------------------------------------------------------------------------------------------\n",
      "Shape of dataframe:  (7613, 5)\n",
      "Number of records in data set 7613\n",
      "Information of Dataset\n",
      "<class 'pandas.core.frame.DataFrame'>\n",
      "RangeIndex: 7613 entries, 0 to 7612\n",
      "Data columns (total 5 columns):\n",
      " #   Column    Non-Null Count  Dtype \n",
      "---  ------    --------------  ----- \n",
      " 0   id        7613 non-null   int64 \n",
      " 1   keyword   7552 non-null   object\n",
      " 2   location  5080 non-null   object\n",
      " 3   text      7613 non-null   object\n",
      " 4   target    7613 non-null   int64 \n",
      "dtypes: int64(2), object(3)\n",
      "memory usage: 297.5+ KB\n",
      "----------------------------------------------------------------------------------------------------\n",
      "First 5 records of dataset:\n"
     ]
    },
    {
     "output_type": "execute_result",
     "data": {
      "text/plain": [
       "   id keyword location                                               text  \\\n",
       "0   1     NaN      NaN  Our Deeds are the Reason of this #earthquake M...   \n",
       "1   4     NaN      NaN             Forest fire near La Ronge Sask. Canada   \n",
       "2   5     NaN      NaN  All residents asked to 'shelter in place' are ...   \n",
       "3   6     NaN      NaN  13,000 people receive #wildfires evacuation or...   \n",
       "4   7     NaN      NaN  Just got sent this photo from Ruby #Alaska as ...   \n",
       "5   8     NaN      NaN  #RockyFire Update => California Hwy. 20 closed...   \n",
       "6  10     NaN      NaN  #flood #disaster Heavy rain causes flash flood...   \n",
       "7  13     NaN      NaN  I'm on top of the hill and I can see a fire in...   \n",
       "8  14     NaN      NaN  There's an emergency evacuation happening now ...   \n",
       "9  15     NaN      NaN  I'm afraid that the tornado is coming to our a...   \n",
       "\n",
       "   target  \n",
       "0       1  \n",
       "1       1  \n",
       "2       1  \n",
       "3       1  \n",
       "4       1  \n",
       "5       1  \n",
       "6       1  \n",
       "7       1  \n",
       "8       1  \n",
       "9       1  "
      ],
      "text/html": "<div>\n<style scoped>\n    .dataframe tbody tr th:only-of-type {\n        vertical-align: middle;\n    }\n\n    .dataframe tbody tr th {\n        vertical-align: top;\n    }\n\n    .dataframe thead th {\n        text-align: right;\n    }\n</style>\n<table border=\"1\" class=\"dataframe\">\n  <thead>\n    <tr style=\"text-align: right;\">\n      <th></th>\n      <th>id</th>\n      <th>keyword</th>\n      <th>location</th>\n      <th>text</th>\n      <th>target</th>\n    </tr>\n  </thead>\n  <tbody>\n    <tr>\n      <th>0</th>\n      <td>1</td>\n      <td>NaN</td>\n      <td>NaN</td>\n      <td>Our Deeds are the Reason of this #earthquake M...</td>\n      <td>1</td>\n    </tr>\n    <tr>\n      <th>1</th>\n      <td>4</td>\n      <td>NaN</td>\n      <td>NaN</td>\n      <td>Forest fire near La Ronge Sask. Canada</td>\n      <td>1</td>\n    </tr>\n    <tr>\n      <th>2</th>\n      <td>5</td>\n      <td>NaN</td>\n      <td>NaN</td>\n      <td>All residents asked to 'shelter in place' are ...</td>\n      <td>1</td>\n    </tr>\n    <tr>\n      <th>3</th>\n      <td>6</td>\n      <td>NaN</td>\n      <td>NaN</td>\n      <td>13,000 people receive #wildfires evacuation or...</td>\n      <td>1</td>\n    </tr>\n    <tr>\n      <th>4</th>\n      <td>7</td>\n      <td>NaN</td>\n      <td>NaN</td>\n      <td>Just got sent this photo from Ruby #Alaska as ...</td>\n      <td>1</td>\n    </tr>\n    <tr>\n      <th>5</th>\n      <td>8</td>\n      <td>NaN</td>\n      <td>NaN</td>\n      <td>#RockyFire Update =&gt; California Hwy. 20 closed...</td>\n      <td>1</td>\n    </tr>\n    <tr>\n      <th>6</th>\n      <td>10</td>\n      <td>NaN</td>\n      <td>NaN</td>\n      <td>#flood #disaster Heavy rain causes flash flood...</td>\n      <td>1</td>\n    </tr>\n    <tr>\n      <th>7</th>\n      <td>13</td>\n      <td>NaN</td>\n      <td>NaN</td>\n      <td>I'm on top of the hill and I can see a fire in...</td>\n      <td>1</td>\n    </tr>\n    <tr>\n      <th>8</th>\n      <td>14</td>\n      <td>NaN</td>\n      <td>NaN</td>\n      <td>There's an emergency evacuation happening now ...</td>\n      <td>1</td>\n    </tr>\n    <tr>\n      <th>9</th>\n      <td>15</td>\n      <td>NaN</td>\n      <td>NaN</td>\n      <td>I'm afraid that the tornado is coming to our a...</td>\n      <td>1</td>\n    </tr>\n  </tbody>\n</table>\n</div>"
     },
     "metadata": {},
     "execution_count": 8
    }
   ],
   "source": [
    "explore_data(train_df)"
   ]
  },
  {
   "cell_type": "code",
   "execution_count": 9,
   "metadata": {
    "tags": []
   },
   "outputs": [
    {
     "output_type": "stream",
     "name": "stdout",
     "text": [
      "----------------------------------------------------------------------------------------------------\nShape of dataframe:  (180, 37)\nNumber of records in data set 180\nInformation of Dataset\n<class 'pandas.core.frame.DataFrame'>\nRangeIndex: 180 entries, 0 to 179\nData columns (total 37 columns):\n #   Column           Non-Null Count  Dtype  \n---  ------           --------------  -----  \n 0   id               180 non-null    int64  \n 1   conversation_id  180 non-null    int64  \n 2   created_at       180 non-null    object \n 3   date             180 non-null    object \n 4   time             180 non-null    object \n 5   timezone         180 non-null    int64  \n 6   user_id          180 non-null    int64  \n 7   username         180 non-null    object \n 8   name             180 non-null    object \n 9   place            0 non-null      float64\n 10  text             180 non-null    object \n 11  language         180 non-null    object \n 12  mentions         180 non-null    object \n 13  urls             180 non-null    object \n 14  photos           180 non-null    object \n 15  replies_count    180 non-null    int64  \n 16  retweets_count   180 non-null    int64  \n 17  likes_count      180 non-null    int64  \n 18  hashtags         180 non-null    object \n 19  cashtags         180 non-null    object \n 20  link             180 non-null    object \n 21  retweet          180 non-null    bool   \n 22  quote_url        4 non-null      object \n 23  video            180 non-null    int64  \n 24  thumbnail        36 non-null     object \n 25  near             0 non-null      float64\n 26  geo              0 non-null      float64\n 27  source           0 non-null      float64\n 28  user_rt_id       0 non-null      float64\n 29  user_rt          0 non-null      float64\n 30  retweet_id       0 non-null      float64\n 31  reply_to         180 non-null    object \n 32  retweet_date     0 non-null      float64\n 33  translate        0 non-null      float64\n 34  trans_src        0 non-null      float64\n 35  trans_dest       0 non-null      float64\n 36  target           91 non-null     float64\ndtypes: bool(1), float64(12), int64(8), object(16)\nmemory usage: 50.9+ KB\n----------------------------------------------------------------------------------------------------\nFirst 5 records of dataset:\n"
     ]
    },
    {
     "output_type": "execute_result",
     "data": {
      "text/plain": [
       "                    id      conversation_id  \\\n",
       "0  1226200862499885057  1226200862499885057   \n",
       "1  1174725533457899521  1174725533457899521   \n",
       "2  1144552741273927680  1144552741273927680   \n",
       "3  1142985300911841280  1142985300911841280   \n",
       "4  1125341237056118784  1125341237056118784   \n",
       "5  1121946547464413186  1121946547464413186   \n",
       "6  1121060425465040903  1121060425465040903   \n",
       "7  1120882576451829760  1120882576451829760   \n",
       "8  1120579462456926208  1120579462456926208   \n",
       "9  1120359197881847808  1120359197881847808   \n",
       "\n",
       "                                     created_at        date      time  \\\n",
       "0  2020-02-08 23:47:21 Bangladesh Standard Time  2020-02-08  23:47:21   \n",
       "1  2019-09-19 22:42:47 Bangladesh Standard Time  2019-09-19  22:42:47   \n",
       "2  2019-06-28 16:26:52 Bangladesh Standard Time  2019-06-28  16:26:52   \n",
       "3  2019-06-24 08:38:26 Bangladesh Standard Time  2019-06-24  08:38:26   \n",
       "4  2019-05-06 16:07:13 Bangladesh Standard Time  2019-05-06  16:07:13   \n",
       "5  2019-04-27 07:17:56 Bangladesh Standard Time  2019-04-27  07:17:56   \n",
       "6  2019-04-24 20:36:48 Bangladesh Standard Time  2019-04-24  20:36:48   \n",
       "7  2019-04-24 08:50:05 Bangladesh Standard Time  2019-04-24  08:50:05   \n",
       "8  2019-04-23 12:45:37 Bangladesh Standard Time  2019-04-23  12:45:37   \n",
       "9  2019-04-22 22:10:22 Bangladesh Standard Time  2019-04-22  22:10:22   \n",
       "\n",
       "   timezone              user_id        username  \\\n",
       "0       600           1069776049  banglalivenews   \n",
       "1       600           2510356369   banglatribune   \n",
       "2       600           2510356369   banglatribune   \n",
       "3       600           3306545726     unbnewsroom   \n",
       "4       600             77696645   dailystarnews   \n",
       "5       600  1102172150629306368        shoheler   \n",
       "6       600  1102172150629306368        shoheler   \n",
       "7       600  1102172150629306368        shoheler   \n",
       "8       600  1102172150629306368        shoheler   \n",
       "9       600  1102172150629306368        shoheler   \n",
       "\n",
       "                              name  place  ... source user_rt_id user_rt  \\\n",
       "0              Bangladesh Livenews    NaN  ...    NaN        NaN     NaN   \n",
       "1                   Bangla Tribune    NaN  ...    NaN        NaN     NaN   \n",
       "2                   Bangla Tribune    NaN  ...    NaN        NaN     NaN   \n",
       "3  UNB - United News of Bangladesh    NaN  ...    NaN        NaN     NaN   \n",
       "4                   The Daily Star    NaN  ...    NaN        NaN     NaN   \n",
       "5                 Shohel(Designer)    NaN  ...    NaN        NaN     NaN   \n",
       "6                 Shohel(Designer)    NaN  ...    NaN        NaN     NaN   \n",
       "7                 Shohel(Designer)    NaN  ...    NaN        NaN     NaN   \n",
       "8                 Shohel(Designer)    NaN  ...    NaN        NaN     NaN   \n",
       "9                 Shohel(Designer)    NaN  ...    NaN        NaN     NaN   \n",
       "\n",
       "  retweet_id reply_to  retweet_date  translate  trans_src trans_dest target  \n",
       "0        NaN       []           NaN        NaN        NaN        NaN    0.0  \n",
       "1        NaN       []           NaN        NaN        NaN        NaN    0.0  \n",
       "2        NaN       []           NaN        NaN        NaN        NaN    0.0  \n",
       "3        NaN       []           NaN        NaN        NaN        NaN    1.0  \n",
       "4        NaN       []           NaN        NaN        NaN        NaN    0.0  \n",
       "5        NaN       []           NaN        NaN        NaN        NaN    0.0  \n",
       "6        NaN       []           NaN        NaN        NaN        NaN    0.0  \n",
       "7        NaN       []           NaN        NaN        NaN        NaN    0.0  \n",
       "8        NaN       []           NaN        NaN        NaN        NaN    0.0  \n",
       "9        NaN       []           NaN        NaN        NaN        NaN    0.0  \n",
       "\n",
       "[10 rows x 37 columns]"
      ],
      "text/html": "<div>\n<style scoped>\n    .dataframe tbody tr th:only-of-type {\n        vertical-align: middle;\n    }\n\n    .dataframe tbody tr th {\n        vertical-align: top;\n    }\n\n    .dataframe thead th {\n        text-align: right;\n    }\n</style>\n<table border=\"1\" class=\"dataframe\">\n  <thead>\n    <tr style=\"text-align: right;\">\n      <th></th>\n      <th>id</th>\n      <th>conversation_id</th>\n      <th>created_at</th>\n      <th>date</th>\n      <th>time</th>\n      <th>timezone</th>\n      <th>user_id</th>\n      <th>username</th>\n      <th>name</th>\n      <th>place</th>\n      <th>...</th>\n      <th>source</th>\n      <th>user_rt_id</th>\n      <th>user_rt</th>\n      <th>retweet_id</th>\n      <th>reply_to</th>\n      <th>retweet_date</th>\n      <th>translate</th>\n      <th>trans_src</th>\n      <th>trans_dest</th>\n      <th>target</th>\n    </tr>\n  </thead>\n  <tbody>\n    <tr>\n      <th>0</th>\n      <td>1226200862499885057</td>\n      <td>1226200862499885057</td>\n      <td>2020-02-08 23:47:21 Bangladesh Standard Time</td>\n      <td>2020-02-08</td>\n      <td>23:47:21</td>\n      <td>600</td>\n      <td>1069776049</td>\n      <td>banglalivenews</td>\n      <td>Bangladesh Livenews</td>\n      <td>NaN</td>\n      <td>...</td>\n      <td>NaN</td>\n      <td>NaN</td>\n      <td>NaN</td>\n      <td>NaN</td>\n      <td>[]</td>\n      <td>NaN</td>\n      <td>NaN</td>\n      <td>NaN</td>\n      <td>NaN</td>\n      <td>0.0</td>\n    </tr>\n    <tr>\n      <th>1</th>\n      <td>1174725533457899521</td>\n      <td>1174725533457899521</td>\n      <td>2019-09-19 22:42:47 Bangladesh Standard Time</td>\n      <td>2019-09-19</td>\n      <td>22:42:47</td>\n      <td>600</td>\n      <td>2510356369</td>\n      <td>banglatribune</td>\n      <td>Bangla Tribune</td>\n      <td>NaN</td>\n      <td>...</td>\n      <td>NaN</td>\n      <td>NaN</td>\n      <td>NaN</td>\n      <td>NaN</td>\n      <td>[]</td>\n      <td>NaN</td>\n      <td>NaN</td>\n      <td>NaN</td>\n      <td>NaN</td>\n      <td>0.0</td>\n    </tr>\n    <tr>\n      <th>2</th>\n      <td>1144552741273927680</td>\n      <td>1144552741273927680</td>\n      <td>2019-06-28 16:26:52 Bangladesh Standard Time</td>\n      <td>2019-06-28</td>\n      <td>16:26:52</td>\n      <td>600</td>\n      <td>2510356369</td>\n      <td>banglatribune</td>\n      <td>Bangla Tribune</td>\n      <td>NaN</td>\n      <td>...</td>\n      <td>NaN</td>\n      <td>NaN</td>\n      <td>NaN</td>\n      <td>NaN</td>\n      <td>[]</td>\n      <td>NaN</td>\n      <td>NaN</td>\n      <td>NaN</td>\n      <td>NaN</td>\n      <td>0.0</td>\n    </tr>\n    <tr>\n      <th>3</th>\n      <td>1142985300911841280</td>\n      <td>1142985300911841280</td>\n      <td>2019-06-24 08:38:26 Bangladesh Standard Time</td>\n      <td>2019-06-24</td>\n      <td>08:38:26</td>\n      <td>600</td>\n      <td>3306545726</td>\n      <td>unbnewsroom</td>\n      <td>UNB - United News of Bangladesh</td>\n      <td>NaN</td>\n      <td>...</td>\n      <td>NaN</td>\n      <td>NaN</td>\n      <td>NaN</td>\n      <td>NaN</td>\n      <td>[]</td>\n      <td>NaN</td>\n      <td>NaN</td>\n      <td>NaN</td>\n      <td>NaN</td>\n      <td>1.0</td>\n    </tr>\n    <tr>\n      <th>4</th>\n      <td>1125341237056118784</td>\n      <td>1125341237056118784</td>\n      <td>2019-05-06 16:07:13 Bangladesh Standard Time</td>\n      <td>2019-05-06</td>\n      <td>16:07:13</td>\n      <td>600</td>\n      <td>77696645</td>\n      <td>dailystarnews</td>\n      <td>The Daily Star</td>\n      <td>NaN</td>\n      <td>...</td>\n      <td>NaN</td>\n      <td>NaN</td>\n      <td>NaN</td>\n      <td>NaN</td>\n      <td>[]</td>\n      <td>NaN</td>\n      <td>NaN</td>\n      <td>NaN</td>\n      <td>NaN</td>\n      <td>0.0</td>\n    </tr>\n    <tr>\n      <th>5</th>\n      <td>1121946547464413186</td>\n      <td>1121946547464413186</td>\n      <td>2019-04-27 07:17:56 Bangladesh Standard Time</td>\n      <td>2019-04-27</td>\n      <td>07:17:56</td>\n      <td>600</td>\n      <td>1102172150629306368</td>\n      <td>shoheler</td>\n      <td>Shohel(Designer)</td>\n      <td>NaN</td>\n      <td>...</td>\n      <td>NaN</td>\n      <td>NaN</td>\n      <td>NaN</td>\n      <td>NaN</td>\n      <td>[]</td>\n      <td>NaN</td>\n      <td>NaN</td>\n      <td>NaN</td>\n      <td>NaN</td>\n      <td>0.0</td>\n    </tr>\n    <tr>\n      <th>6</th>\n      <td>1121060425465040903</td>\n      <td>1121060425465040903</td>\n      <td>2019-04-24 20:36:48 Bangladesh Standard Time</td>\n      <td>2019-04-24</td>\n      <td>20:36:48</td>\n      <td>600</td>\n      <td>1102172150629306368</td>\n      <td>shoheler</td>\n      <td>Shohel(Designer)</td>\n      <td>NaN</td>\n      <td>...</td>\n      <td>NaN</td>\n      <td>NaN</td>\n      <td>NaN</td>\n      <td>NaN</td>\n      <td>[]</td>\n      <td>NaN</td>\n      <td>NaN</td>\n      <td>NaN</td>\n      <td>NaN</td>\n      <td>0.0</td>\n    </tr>\n    <tr>\n      <th>7</th>\n      <td>1120882576451829760</td>\n      <td>1120882576451829760</td>\n      <td>2019-04-24 08:50:05 Bangladesh Standard Time</td>\n      <td>2019-04-24</td>\n      <td>08:50:05</td>\n      <td>600</td>\n      <td>1102172150629306368</td>\n      <td>shoheler</td>\n      <td>Shohel(Designer)</td>\n      <td>NaN</td>\n      <td>...</td>\n      <td>NaN</td>\n      <td>NaN</td>\n      <td>NaN</td>\n      <td>NaN</td>\n      <td>[]</td>\n      <td>NaN</td>\n      <td>NaN</td>\n      <td>NaN</td>\n      <td>NaN</td>\n      <td>0.0</td>\n    </tr>\n    <tr>\n      <th>8</th>\n      <td>1120579462456926208</td>\n      <td>1120579462456926208</td>\n      <td>2019-04-23 12:45:37 Bangladesh Standard Time</td>\n      <td>2019-04-23</td>\n      <td>12:45:37</td>\n      <td>600</td>\n      <td>1102172150629306368</td>\n      <td>shoheler</td>\n      <td>Shohel(Designer)</td>\n      <td>NaN</td>\n      <td>...</td>\n      <td>NaN</td>\n      <td>NaN</td>\n      <td>NaN</td>\n      <td>NaN</td>\n      <td>[]</td>\n      <td>NaN</td>\n      <td>NaN</td>\n      <td>NaN</td>\n      <td>NaN</td>\n      <td>0.0</td>\n    </tr>\n    <tr>\n      <th>9</th>\n      <td>1120359197881847808</td>\n      <td>1120359197881847808</td>\n      <td>2019-04-22 22:10:22 Bangladesh Standard Time</td>\n      <td>2019-04-22</td>\n      <td>22:10:22</td>\n      <td>600</td>\n      <td>1102172150629306368</td>\n      <td>shoheler</td>\n      <td>Shohel(Designer)</td>\n      <td>NaN</td>\n      <td>...</td>\n      <td>NaN</td>\n      <td>NaN</td>\n      <td>NaN</td>\n      <td>NaN</td>\n      <td>[]</td>\n      <td>NaN</td>\n      <td>NaN</td>\n      <td>NaN</td>\n      <td>NaN</td>\n      <td>0.0</td>\n    </tr>\n  </tbody>\n</table>\n<p>10 rows × 37 columns</p>\n</div>"
     },
     "metadata": {},
     "execution_count": 9
    }
   ],
   "source": [
    "explore_data(test_df)"
   ]
  },
  {
   "cell_type": "markdown",
   "metadata": {},
   "source": [
    "## 2. Data Pre-processing"
   ]
  },
  {
   "cell_type": "markdown",
   "metadata": {},
   "source": [
    "### 2.1 Data Normalization\n",
    "- Removing URL\n",
    "- Removing all irrelevant characters (Numbers and Punctuation)\n",
    "- Convert all characters into lowercase"
   ]
  },
  {
   "cell_type": "code",
   "execution_count": 10,
   "metadata": {},
   "outputs": [],
   "source": [
    "def clean_text(text):\n",
    "    \n",
    "    text = text.lower()\n",
    "    text = re.sub('\\[.*?\\]', '', text)\n",
    "    text = re.sub('https?://\\S+|www\\.\\S+', '', text)\n",
    "    text = re.sub('<.*?>+', '', text)\n",
    "    text = re.sub('[%s]' % re.escape(string.punctuation), '', text)\n",
    "    text = re.sub('\\n', '', text)\n",
    "    text = re.sub('\\w*\\d\\w*', '', text)\n",
    "    return text"
   ]
  },
  {
   "cell_type": "code",
   "execution_count": 11,
   "metadata": {},
   "outputs": [],
   "source": [
    "train_df1=train_df.copy()\n",
    "test_df1=test_df.copy()\n",
    "\n",
    "\n",
    "train_df1['text'] = train_df1['text'].apply(lambda x: clean_text(x))\n",
    "test_df1['text'] = test_df1['text'].apply(lambda x: clean_text(x))"
   ]
  },
  {
   "cell_type": "code",
   "execution_count": 12,
   "metadata": {},
   "outputs": [],
   "source": [
    "def text_after_preprocess(before_text,after_text):\n",
    "    print(\"-\"*50)\n",
    "    print(\"Before Clean Text\")\n",
    "    print(\"-\"*50)\n",
    "    print(before_text.head(10))\n",
    "    print(\"-\"*50)\n",
    "    print(\"After Clean Text\")\n",
    "    print(\"-\"*50)\n",
    "    print(after_text.head(10))\n",
    "    "
   ]
  },
  {
   "cell_type": "code",
   "execution_count": 13,
   "metadata": {
    "tags": []
   },
   "outputs": [],
   "source": [
    "# text_after_preprocess(test_df['text'],test_df1['text'])\n",
    "# text_after_preprocess(train_df['text'],train_df1['text'])"
   ]
  },
  {
   "cell_type": "markdown",
   "metadata": {},
   "source": [
    "### 2.2 Tokenization"
   ]
  },
  {
   "cell_type": "code",
   "execution_count": 14,
   "metadata": {},
   "outputs": [],
   "source": [
    "# Lets Tokenize the training and the test dataset copies with RegEx tokenizer\n",
    "tokenizer = nltk.tokenize.RegexpTokenizer(r'\\w+')\n",
    "train_df1['text'] = train_df1['text'].apply(lambda x: tokenizer.tokenize(x))\n",
    "test_df1['text'] = test_df1['text'].apply(lambda x: tokenizer.tokenize(x))"
   ]
  },
  {
   "cell_type": "code",
   "execution_count": 15,
   "metadata": {},
   "outputs": [],
   "source": [
    "# train_df1['text'].head(5)\n",
    "# test_df1['text'].head(5)"
   ]
  },
  {
   "cell_type": "markdown",
   "metadata": {},
   "source": [
    "### 2.3 Remove Stopwords"
   ]
  },
  {
   "cell_type": "code",
   "execution_count": 16,
   "metadata": {},
   "outputs": [],
   "source": [
    "# Remove Stop Words Function\n",
    "def remove_stopwords(text):\n",
    "    words = [w for w in text if w not in stopwords.words('english')]\n",
    "    return words"
   ]
  },
  {
   "cell_type": "code",
   "execution_count": 17,
   "metadata": {},
   "outputs": [],
   "source": [
    "train_df1['text'] = train_df1['text'].apply(lambda x: remove_stopwords(x))\n",
    "test_df1['text'] = test_df1['text'].apply(lambda x: remove_stopwords(x))"
   ]
  },
  {
   "cell_type": "markdown",
   "metadata": {},
   "source": [
    "### 2.4 Convert the list of tokens into back to the string"
   ]
  },
  {
   "cell_type": "code",
   "execution_count": 18,
   "metadata": {},
   "outputs": [],
   "source": [
    "def combine_text(text):\n",
    "    all_text = ' '.join(text)\n",
    "    return all_text"
   ]
  },
  {
   "cell_type": "code",
   "execution_count": 19,
   "metadata": {},
   "outputs": [],
   "source": [
    "train_df1['text'] = train_df1['text'].apply(lambda x: combine_text(x))\n",
    "test_df1['text'] = test_df1['text'].apply(lambda x: combine_text(x))"
   ]
  },
  {
   "cell_type": "markdown",
   "metadata": {},
   "source": [
    "### 2.5 Lemmatization"
   ]
  },
  {
   "cell_type": "code",
   "execution_count": 20,
   "metadata": {},
   "outputs": [],
   "source": [
    "def stem_lem(text):\n",
    "    tokenizer = nltk.tokenize.TreebankWordTokenizer()\n",
    "    tokens = tokenizer.tokenize(text)\n",
    "    lemmatizer = nltk.stem.WordNetLemmatizer()\n",
    "    lemm_text =  \" \".join(lemmatizer.lemmatize(token) for token in tokens)\n",
    "    return lemm_text\n"
   ]
  },
  {
   "cell_type": "code",
   "execution_count": 21,
   "metadata": {},
   "outputs": [],
   "source": [
    "train_df1['text'] = train_df1['text'].apply(lambda x: stem_lem(x))\n",
    "test_df1['text'] = test_df1['text'].apply(lambda x: stem_lem(x))"
   ]
  },
  {
   "cell_type": "markdown",
   "metadata": {},
   "source": [
    "## 3. Vectorization of text"
   ]
  },
  {
   "cell_type": "code",
   "execution_count": 22,
   "metadata": {},
   "outputs": [],
   "source": [
    "# Vectorize the text using CountVectorizer\n",
    "count_vectorizer = CountVectorizer()\n",
    "train_cv = count_vectorizer.fit_transform(train_df1['text'])\n",
    "test_cv = count_vectorizer.transform(test_df1[\"text\"])\n"
   ]
  },
  {
   "cell_type": "code",
   "execution_count": 23,
   "metadata": {},
   "outputs": [],
   "source": [
    "# Vectorize the text using TFIDF\n",
    "tfidf = TfidfVectorizer(min_df=2, max_df=0.5, ngram_range=(1, 2))\n",
    "train_tf = tfidf.fit_transform(train_df1['text'])\n",
    "test_tf = tfidf.transform(test_df1[\"text\"])"
   ]
  },
  {
   "cell_type": "markdown",
   "metadata": {},
   "source": [
    "### Model List For Classifire"
   ]
  },
  {
   "cell_type": "code",
   "execution_count": 24,
   "metadata": {},
   "outputs": [],
   "source": [
    "#Split TFDIF vectorize data\n",
    "\n",
    "x_train_tf,x_test_tf,y_train_tf,y_test_tf = train_test_split(train_tf,train_df.target,test_size=0.2,random_state=2020)"
   ]
  },
  {
   "cell_type": "markdown",
   "metadata": {},
   "source": [
    "## 5. Best Classifire"
   ]
  },
  {
   "cell_type": "code",
   "execution_count": 25,
   "metadata": {},
   "outputs": [
    {
     "output_type": "stream",
     "name": "stdout",
     "text": [
      "              precision    recall  f1-score   support\n\n           0       0.77      0.91      0.84       849\n           1       0.85      0.66      0.74       674\n\n    accuracy                           0.80      1523\n   macro avg       0.81      0.79      0.79      1523\nweighted avg       0.81      0.80      0.80      1523\n\n"
     ]
    }
   ],
   "source": [
    "# After all classifires test LogisticRegression() with TfidfVectorizer work best\n",
    "\n",
    "clf_logreg = LogisticRegression(C=1.0,penalty = 'l2',solver='lbfgs')\n",
    "clf_logreg.fit(x_train_tf, y_train_tf)\n",
    "prediction = clf_logreg.predict(x_test_tf)\n",
    "confusion_matrix(y_test_tf,prediction)\n",
    "print(classification_report(y_test_tf,prediction))"
   ]
  },
  {
   "cell_type": "markdown",
   "metadata": {},
   "source": [
    "## Submission File"
   ]
  },
  {
   "cell_type": "code",
   "execution_count": 26,
   "metadata": {},
   "outputs": [],
   "source": [
    "def submission(file_loc,model,text_vector):\n",
    "    \n",
    "    sub_df = pd.read_csv(file_loc)\n",
    "    sub_df['target'] = model.predict(text_vector)\n",
    "    sub_df.to_csv(\"get_tweet_data.csv\",index=False)\n"
   ]
  },
  {
   "cell_type": "code",
   "execution_count": 27,
   "metadata": {},
   "outputs": [],
   "source": [
    "file_loc = 'get_tweet_data.csv'\n",
    "test_vector = test_tf\n",
    "submission(file_loc,clf_logreg,test_vector)"
   ]
  },
  {
   "cell_type": "markdown",
   "metadata": {},
   "source": [
    "## Read Prediction"
   ]
  },
  {
   "cell_type": "code",
   "execution_count": 28,
   "metadata": {},
   "outputs": [],
   "source": [
    "#Read CSV\n",
    "df=pd.read_csv(\"get_tweet_data.csv\")\n",
    "#print(df.count())\n",
    "\n",
    "#Remove Not Disaster Tweet\n",
    "#df = df.drop(0, axis=0)\n",
    "\n"
   ]
  },
  {
   "cell_type": "code",
   "execution_count": 29,
   "metadata": {},
   "outputs": [],
   "source": [
    "df_target = df[ df['target'] == 0 ] # Step 1\n",
    "df = df.drop(df_target.index, axis=0) # Step 2"
   ]
  },
  {
   "cell_type": "code",
   "execution_count": 30,
   "metadata": {},
   "outputs": [
    {
     "output_type": "stream",
     "name": "stdout",
     "text": [
      "date        74\ntime        74\nusername    74\nname        74\ntext        74\nphotos      74\ndtype: int64\n"
     ]
    }
   ],
   "source": [
    "#Remove Column\n",
    "df = df.drop(['target','id','conversation_id', 'created_at', 'timezone', 'user_id', 'place', 'language', 'mentions', 'urls', 'replies_count', 'retweets_count', 'likes_count', 'hashtags', 'cashtags', 'link', 'retweet', 'video', 'quote_url', 'thumbnail', 'near', 'geo', 'source', 'user_rt_id', 'user_rt', 'retweet_id', 'reply_to', 'retweet_date', 'translate', 'trans_src', 'trans_dest'], axis = 1) \n",
    "\n",
    "df.rename({\"tweet\": \"text\"},axis='columns',inplace =True)\n",
    "\n",
    "print(df.count())"
   ]
  },
  {
   "cell_type": "markdown",
   "metadata": {},
   "source": [
    "## Again Clean Data"
   ]
  },
  {
   "cell_type": "code",
   "execution_count": 31,
   "metadata": {},
   "outputs": [],
   "source": [
    "def clean_text(text):\n",
    "    \n",
    "    text = text.lower()\n",
    "    text = re.sub('\\[.*?\\]', '', text)\n",
    "    text = re.sub('https?://\\S+|www\\.\\S+', '', text)\n",
    "    text = re.sub('<.*?>+', '', text)\n",
    "    text = re.sub('[%s]' % re.escape(string.punctuation), '', text)\n",
    "    text = re.sub('\\n', '', text)\n",
    "    text = re.sub('\\w*\\d\\w*', '', text)\n",
    "    return text\n",
    "\n",
    "\n",
    "df['text'] = df['text'].apply(lambda x: clean_text(x))"
   ]
  },
  {
   "cell_type": "code",
   "execution_count": 32,
   "metadata": {},
   "outputs": [],
   "source": [
    "def clean_text(text):\n",
    "    \n",
    "    text = text.lower()\n",
    "    text = re.sub('\\[.*?\\]', '', text)\n",
    "    text = re.sub('https?://\\S+|www\\.\\S+', '', text)\n",
    "    text = re.sub('<.*?>+', '', text)\n",
    "    text = re.sub('[%s]' % re.escape(string.punctuation), '', text)\n",
    "    text = re.sub('\\n', '', text)\n",
    "    text = re.sub('\\w*\\d\\w*', '', text)\n",
    "    return text\n",
    "\n",
    "\n",
    "df['text'] = df['text'].apply(lambda x: clean_text(x))"
   ]
  },
  {
   "cell_type": "code",
   "execution_count": 33,
   "metadata": {},
   "outputs": [],
   "source": [
    "tokenizer = nltk.tokenize.RegexpTokenizer(r'\\w+')\n",
    "df['text'] = df['text'].apply(lambda x: tokenizer.tokenize(x))\n"
   ]
  },
  {
   "cell_type": "code",
   "execution_count": 34,
   "metadata": {},
   "outputs": [],
   "source": [
    "def remove_stopwords(text):\n",
    "    words = [w for w in text if w not in stopwords.words('english')]\n",
    "    return words"
   ]
  },
  {
   "cell_type": "code",
   "execution_count": 35,
   "metadata": {},
   "outputs": [],
   "source": [
    "df['text'] = df['text'].apply(lambda x: remove_stopwords(x))"
   ]
  },
  {
   "cell_type": "code",
   "execution_count": 36,
   "metadata": {},
   "outputs": [],
   "source": [
    "def combine_text(text):\n",
    "    all_text = ' '.join(text)\n",
    "    return all_text"
   ]
  },
  {
   "cell_type": "code",
   "execution_count": 37,
   "metadata": {},
   "outputs": [],
   "source": [
    "df['text'] = df['text'].apply(lambda x: combine_text(x))"
   ]
  },
  {
   "cell_type": "code",
   "execution_count": 38,
   "metadata": {},
   "outputs": [],
   "source": [
    "def stem_lem(text):\n",
    "    tokenizer = nltk.tokenize.TreebankWordTokenizer()\n",
    "    tokens = tokenizer.tokenize(text)\n",
    "    lemmatizer = nltk.stem.WordNetLemmatizer()\n",
    "    lemm_text =  \" \".join(lemmatizer.lemmatize(token) for token in tokens)\n",
    "    return lemm_text"
   ]
  },
  {
   "cell_type": "code",
   "execution_count": 39,
   "metadata": {},
   "outputs": [],
   "source": [
    "df['text'] = df['text'].apply(lambda x: stem_lem(x))"
   ]
  },
  {
   "cell_type": "markdown",
   "metadata": {},
   "source": [
    "## Location Extraction"
   ]
  },
  {
   "cell_type": "code",
   "execution_count": 40,
   "metadata": {},
   "outputs": [],
   "source": [
    "#Location Extraction Using SpaCy\n",
    "\n",
    "nlp = en_core_web_sm.load()\n",
    "def location(df_text):\n",
    "    text = df_text\n",
    "    doc = nlp(text)\n",
    "    location = []\n",
    "    for entity in doc.ents:\n",
    "        if entity.label_ == \"LOC\" or entity.label_ == \"GPE\":\n",
    "            location.append(entity.text) \n",
    "    return location"
   ]
  },
  {
   "cell_type": "code",
   "execution_count": 41,
   "metadata": {},
   "outputs": [],
   "source": [
    "df['location'] = df['text'].apply(lambda x: location(x))"
   ]
  },
  {
   "cell_type": "code",
   "execution_count": 42,
   "metadata": {},
   "outputs": [],
   "source": [
    "#convert location column to a list\n",
    "location_list = df['location'].to_numpy()\n",
    "#print(location_list)\n",
    "\n",
    "#remove none and null value\n",
    "location_list = list(filter(None, location_list))\n",
    "#print(location_list)"
   ]
  },
  {
   "cell_type": "code",
   "execution_count": 43,
   "metadata": {},
   "outputs": [],
   "source": [
    "#Convert all list location to a list for better calculation\n",
    "list_location = []\n",
    "for x in range(len(location_list)):\n",
    "    list_location.extend(location_list[x])"
   ]
  },
  {
   "cell_type": "code",
   "execution_count": 44,
   "metadata": {},
   "outputs": [
    {
     "output_type": "stream",
     "name": "stdout",
     "text": [
      "0    dailystarnews\n1        singapore\n2    dailystarnews\n3        singapore\nName: location, dtype: object\n"
     ]
    }
   ],
   "source": [
    "#Built a temp location dataframe\n",
    "temp_location_df = pd.DataFrame(columns=['location'])\n",
    "temp_location_df['location'] = list_location\n",
    "\n",
    "#check output\n",
    "print(temp_location_df['location'])"
   ]
  },
  {
   "cell_type": "code",
   "execution_count": 45,
   "metadata": {},
   "outputs": [
    {
     "output_type": "stream",
     "name": "stdout",
     "text": [
      "dailystarnews    2\nsingapore        2\nName: location, dtype: int64\n"
     ]
    }
   ],
   "source": [
    "#Location Count \n",
    "feat = temp_location_df['location'].value_counts()\n",
    "print(feat.head(20))"
   ]
  },
  {
   "cell_type": "code",
   "execution_count": 46,
   "metadata": {},
   "outputs": [
    {
     "output_type": "display_data",
     "data": {
      "text/plain": "<Figure size 432x288 with 1 Axes>",
      "image/svg+xml": "<?xml version=\"1.0\" encoding=\"utf-8\" standalone=\"no\"?>\r\n<!DOCTYPE svg PUBLIC \"-//W3C//DTD SVG 1.1//EN\"\r\n  \"http://www.w3.org/Graphics/SVG/1.1/DTD/svg11.dtd\">\r\n<!-- Created with matplotlib (https://matplotlib.org/) -->\r\n<svg height=\"261.130625pt\" version=\"1.1\" viewBox=\"0 0 416.778125 261.130625\" width=\"416.778125pt\" xmlns=\"http://www.w3.org/2000/svg\" xmlns:xlink=\"http://www.w3.org/1999/xlink\">\r\n <defs>\r\n  <style type=\"text/css\">\r\n*{stroke-linecap:butt;stroke-linejoin:round;}\r\n  </style>\r\n </defs>\r\n <g id=\"figure_1\">\r\n  <g id=\"patch_1\">\r\n   <path d=\"M 0 261.130625 \r\nL 416.778125 261.130625 \r\nL 416.778125 0 \r\nL 0 0 \r\nz\r\n\" style=\"fill:none;\"/>\r\n  </g>\r\n  <g id=\"axes_1\">\r\n   <g id=\"patch_2\">\r\n    <path d=\"M 74.778125 224.64 \r\nL 409.578125 224.64 \r\nL 409.578125 7.2 \r\nL 74.778125 7.2 \r\nz\r\n\" style=\"fill:#ffffff;\"/>\r\n   </g>\r\n   <g id=\"patch_3\">\r\n    <path clip-path=\"url(#p79dd2f7fa2)\" d=\"M 74.778125 18.072 \r\nL 393.635268 18.072 \r\nL 393.635268 105.048 \r\nL 74.778125 105.048 \r\nz\r\n\" style=\"fill:#3274a1;\"/>\r\n   </g>\r\n   <g id=\"patch_4\">\r\n    <path clip-path=\"url(#p79dd2f7fa2)\" d=\"M 74.778125 126.792 \r\nL 393.635268 126.792 \r\nL 393.635268 213.768 \r\nL 74.778125 213.768 \r\nz\r\n\" style=\"fill:#e1812c;\"/>\r\n   </g>\r\n   <g id=\"matplotlib.axis_1\">\r\n    <g id=\"xtick_1\">\r\n     <g id=\"line2d_1\">\r\n      <defs>\r\n       <path d=\"M 0 0 \r\nL 0 3.5 \r\n\" id=\"mbadccdaecd\" style=\"stroke:#000000;stroke-width:0.8;\"/>\r\n      </defs>\r\n      <g>\r\n       <use style=\"stroke:#000000;stroke-width:0.8;\" x=\"74.778125\" xlink:href=\"#mbadccdaecd\" y=\"224.64\"/>\r\n      </g>\r\n     </g>\r\n     <g id=\"text_1\">\r\n      <!-- 0.00 -->\r\n      <defs>\r\n       <path d=\"M 4.15625 35.296875 \r\nQ 4.15625 48 6.765625 55.734375 \r\nQ 9.375 63.484375 14.515625 67.671875 \r\nQ 19.671875 71.875 27.484375 71.875 \r\nQ 33.25 71.875 37.59375 69.546875 \r\nQ 41.9375 67.234375 44.765625 62.859375 \r\nQ 47.609375 58.5 49.21875 52.21875 \r\nQ 50.828125 45.953125 50.828125 35.296875 \r\nQ 50.828125 22.703125 48.234375 14.96875 \r\nQ 45.65625 7.234375 40.5 3 \r\nQ 35.359375 -1.21875 27.484375 -1.21875 \r\nQ 17.140625 -1.21875 11.234375 6.203125 \r\nQ 4.15625 15.140625 4.15625 35.296875 \r\nz\r\nM 13.1875 35.296875 \r\nQ 13.1875 17.671875 17.3125 11.828125 \r\nQ 21.4375 6 27.484375 6 \r\nQ 33.546875 6 37.671875 11.859375 \r\nQ 41.796875 17.71875 41.796875 35.296875 \r\nQ 41.796875 52.984375 37.671875 58.78125 \r\nQ 33.546875 64.59375 27.390625 64.59375 \r\nQ 21.34375 64.59375 17.71875 59.46875 \r\nQ 13.1875 52.9375 13.1875 35.296875 \r\nz\r\n\" id=\"ArialMT-48\"/>\r\n       <path d=\"M 9.078125 0 \r\nL 9.078125 10.015625 \r\nL 19.09375 10.015625 \r\nL 19.09375 0 \r\nz\r\n\" id=\"ArialMT-46\"/>\r\n      </defs>\r\n      <g transform=\"translate(65.047656 238.797812)scale(0.1 -0.1)\">\r\n       <use xlink:href=\"#ArialMT-48\"/>\r\n       <use x=\"55.615234\" xlink:href=\"#ArialMT-46\"/>\r\n       <use x=\"83.398438\" xlink:href=\"#ArialMT-48\"/>\r\n       <use x=\"139.013672\" xlink:href=\"#ArialMT-48\"/>\r\n      </g>\r\n     </g>\r\n    </g>\r\n    <g id=\"xtick_2\">\r\n     <g id=\"line2d_2\">\r\n      <g>\r\n       <use style=\"stroke:#000000;stroke-width:0.8;\" x=\"114.635268\" xlink:href=\"#mbadccdaecd\" y=\"224.64\"/>\r\n      </g>\r\n     </g>\r\n     <g id=\"text_2\">\r\n      <!-- 0.25 -->\r\n      <defs>\r\n       <path d=\"M 50.34375 8.453125 \r\nL 50.34375 0 \r\nL 3.03125 0 \r\nQ 2.9375 3.171875 4.046875 6.109375 \r\nQ 5.859375 10.9375 9.828125 15.625 \r\nQ 13.8125 20.3125 21.34375 26.46875 \r\nQ 33.015625 36.03125 37.109375 41.625 \r\nQ 41.21875 47.21875 41.21875 52.203125 \r\nQ 41.21875 57.421875 37.46875 61 \r\nQ 33.734375 64.59375 27.734375 64.59375 \r\nQ 21.390625 64.59375 17.578125 60.78125 \r\nQ 13.765625 56.984375 13.71875 50.25 \r\nL 4.6875 51.171875 \r\nQ 5.609375 61.28125 11.65625 66.578125 \r\nQ 17.71875 71.875 27.9375 71.875 \r\nQ 38.234375 71.875 44.234375 66.15625 \r\nQ 50.25 60.453125 50.25 52 \r\nQ 50.25 47.703125 48.484375 43.546875 \r\nQ 46.734375 39.40625 42.65625 34.8125 \r\nQ 38.578125 30.21875 29.109375 22.21875 \r\nQ 21.1875 15.578125 18.9375 13.203125 \r\nQ 16.703125 10.84375 15.234375 8.453125 \r\nz\r\n\" id=\"ArialMT-50\"/>\r\n       <path d=\"M 4.15625 18.75 \r\nL 13.375 19.53125 \r\nQ 14.40625 12.796875 18.140625 9.390625 \r\nQ 21.875 6 27.15625 6 \r\nQ 33.5 6 37.890625 10.78125 \r\nQ 42.28125 15.578125 42.28125 23.484375 \r\nQ 42.28125 31 38.0625 35.34375 \r\nQ 33.84375 39.703125 27 39.703125 \r\nQ 22.75 39.703125 19.328125 37.765625 \r\nQ 15.921875 35.84375 13.96875 32.765625 \r\nL 5.71875 33.84375 \r\nL 12.640625 70.609375 \r\nL 48.25 70.609375 \r\nL 48.25 62.203125 \r\nL 19.671875 62.203125 \r\nL 15.828125 42.96875 \r\nQ 22.265625 47.46875 29.34375 47.46875 \r\nQ 38.71875 47.46875 45.15625 40.96875 \r\nQ 51.609375 34.46875 51.609375 24.265625 \r\nQ 51.609375 14.546875 45.953125 7.46875 \r\nQ 39.0625 -1.21875 27.15625 -1.21875 \r\nQ 17.390625 -1.21875 11.203125 4.25 \r\nQ 5.03125 9.71875 4.15625 18.75 \r\nz\r\n\" id=\"ArialMT-53\"/>\r\n      </defs>\r\n      <g transform=\"translate(104.904799 238.797812)scale(0.1 -0.1)\">\r\n       <use xlink:href=\"#ArialMT-48\"/>\r\n       <use x=\"55.615234\" xlink:href=\"#ArialMT-46\"/>\r\n       <use x=\"83.398438\" xlink:href=\"#ArialMT-50\"/>\r\n       <use x=\"139.013672\" xlink:href=\"#ArialMT-53\"/>\r\n      </g>\r\n     </g>\r\n    </g>\r\n    <g id=\"xtick_3\">\r\n     <g id=\"line2d_3\">\r\n      <g>\r\n       <use style=\"stroke:#000000;stroke-width:0.8;\" x=\"154.492411\" xlink:href=\"#mbadccdaecd\" y=\"224.64\"/>\r\n      </g>\r\n     </g>\r\n     <g id=\"text_3\">\r\n      <!-- 0.50 -->\r\n      <g transform=\"translate(144.761942 238.797812)scale(0.1 -0.1)\">\r\n       <use xlink:href=\"#ArialMT-48\"/>\r\n       <use x=\"55.615234\" xlink:href=\"#ArialMT-46\"/>\r\n       <use x=\"83.398438\" xlink:href=\"#ArialMT-53\"/>\r\n       <use x=\"139.013672\" xlink:href=\"#ArialMT-48\"/>\r\n      </g>\r\n     </g>\r\n    </g>\r\n    <g id=\"xtick_4\">\r\n     <g id=\"line2d_4\">\r\n      <g>\r\n       <use style=\"stroke:#000000;stroke-width:0.8;\" x=\"194.349554\" xlink:href=\"#mbadccdaecd\" y=\"224.64\"/>\r\n      </g>\r\n     </g>\r\n     <g id=\"text_4\">\r\n      <!-- 0.75 -->\r\n      <defs>\r\n       <path d=\"M 4.734375 62.203125 \r\nL 4.734375 70.65625 \r\nL 51.078125 70.65625 \r\nL 51.078125 63.8125 \r\nQ 44.234375 56.546875 37.515625 44.484375 \r\nQ 30.8125 32.421875 27.15625 19.671875 \r\nQ 24.515625 10.6875 23.78125 0 \r\nL 14.75 0 \r\nQ 14.890625 8.453125 18.0625 20.40625 \r\nQ 21.234375 32.375 27.171875 43.484375 \r\nQ 33.109375 54.59375 39.796875 62.203125 \r\nz\r\n\" id=\"ArialMT-55\"/>\r\n      </defs>\r\n      <g transform=\"translate(184.619085 238.797812)scale(0.1 -0.1)\">\r\n       <use xlink:href=\"#ArialMT-48\"/>\r\n       <use x=\"55.615234\" xlink:href=\"#ArialMT-46\"/>\r\n       <use x=\"83.398438\" xlink:href=\"#ArialMT-55\"/>\r\n       <use x=\"139.013672\" xlink:href=\"#ArialMT-53\"/>\r\n      </g>\r\n     </g>\r\n    </g>\r\n    <g id=\"xtick_5\">\r\n     <g id=\"line2d_5\">\r\n      <g>\r\n       <use style=\"stroke:#000000;stroke-width:0.8;\" x=\"234.206696\" xlink:href=\"#mbadccdaecd\" y=\"224.64\"/>\r\n      </g>\r\n     </g>\r\n     <g id=\"text_5\">\r\n      <!-- 1.00 -->\r\n      <defs>\r\n       <path d=\"M 37.25 0 \r\nL 28.46875 0 \r\nL 28.46875 56 \r\nQ 25.296875 52.984375 20.140625 49.953125 \r\nQ 14.984375 46.921875 10.890625 45.40625 \r\nL 10.890625 53.90625 \r\nQ 18.265625 57.375 23.78125 62.296875 \r\nQ 29.296875 67.234375 31.59375 71.875 \r\nL 37.25 71.875 \r\nz\r\n\" id=\"ArialMT-49\"/>\r\n      </defs>\r\n      <g transform=\"translate(224.476228 238.797812)scale(0.1 -0.1)\">\r\n       <use xlink:href=\"#ArialMT-49\"/>\r\n       <use x=\"55.615234\" xlink:href=\"#ArialMT-46\"/>\r\n       <use x=\"83.398438\" xlink:href=\"#ArialMT-48\"/>\r\n       <use x=\"139.013672\" xlink:href=\"#ArialMT-48\"/>\r\n      </g>\r\n     </g>\r\n    </g>\r\n    <g id=\"xtick_6\">\r\n     <g id=\"line2d_6\">\r\n      <g>\r\n       <use style=\"stroke:#000000;stroke-width:0.8;\" x=\"274.063839\" xlink:href=\"#mbadccdaecd\" y=\"224.64\"/>\r\n      </g>\r\n     </g>\r\n     <g id=\"text_6\">\r\n      <!-- 1.25 -->\r\n      <g transform=\"translate(264.333371 238.797812)scale(0.1 -0.1)\">\r\n       <use xlink:href=\"#ArialMT-49\"/>\r\n       <use x=\"55.615234\" xlink:href=\"#ArialMT-46\"/>\r\n       <use x=\"83.398438\" xlink:href=\"#ArialMT-50\"/>\r\n       <use x=\"139.013672\" xlink:href=\"#ArialMT-53\"/>\r\n      </g>\r\n     </g>\r\n    </g>\r\n    <g id=\"xtick_7\">\r\n     <g id=\"line2d_7\">\r\n      <g>\r\n       <use style=\"stroke:#000000;stroke-width:0.8;\" x=\"313.920982\" xlink:href=\"#mbadccdaecd\" y=\"224.64\"/>\r\n      </g>\r\n     </g>\r\n     <g id=\"text_7\">\r\n      <!-- 1.50 -->\r\n      <g transform=\"translate(304.190513 238.797812)scale(0.1 -0.1)\">\r\n       <use xlink:href=\"#ArialMT-49\"/>\r\n       <use x=\"55.615234\" xlink:href=\"#ArialMT-46\"/>\r\n       <use x=\"83.398438\" xlink:href=\"#ArialMT-53\"/>\r\n       <use x=\"139.013672\" xlink:href=\"#ArialMT-48\"/>\r\n      </g>\r\n     </g>\r\n    </g>\r\n    <g id=\"xtick_8\">\r\n     <g id=\"line2d_8\">\r\n      <g>\r\n       <use style=\"stroke:#000000;stroke-width:0.8;\" x=\"353.778125\" xlink:href=\"#mbadccdaecd\" y=\"224.64\"/>\r\n      </g>\r\n     </g>\r\n     <g id=\"text_8\">\r\n      <!-- 1.75 -->\r\n      <g transform=\"translate(344.047656 238.797812)scale(0.1 -0.1)\">\r\n       <use xlink:href=\"#ArialMT-49\"/>\r\n       <use x=\"55.615234\" xlink:href=\"#ArialMT-46\"/>\r\n       <use x=\"83.398438\" xlink:href=\"#ArialMT-55\"/>\r\n       <use x=\"139.013672\" xlink:href=\"#ArialMT-53\"/>\r\n      </g>\r\n     </g>\r\n    </g>\r\n    <g id=\"xtick_9\">\r\n     <g id=\"line2d_9\">\r\n      <g>\r\n       <use style=\"stroke:#000000;stroke-width:0.8;\" x=\"393.635268\" xlink:href=\"#mbadccdaecd\" y=\"224.64\"/>\r\n      </g>\r\n     </g>\r\n     <g id=\"text_9\">\r\n      <!-- 2.00 -->\r\n      <g transform=\"translate(383.904799 238.797812)scale(0.1 -0.1)\">\r\n       <use xlink:href=\"#ArialMT-50\"/>\r\n       <use x=\"55.615234\" xlink:href=\"#ArialMT-46\"/>\r\n       <use x=\"83.398438\" xlink:href=\"#ArialMT-48\"/>\r\n       <use x=\"139.013672\" xlink:href=\"#ArialMT-48\"/>\r\n      </g>\r\n     </g>\r\n    </g>\r\n    <g id=\"text_10\">\r\n     <!-- location -->\r\n     <defs>\r\n      <path d=\"M 6.390625 0 \r\nL 6.390625 71.578125 \r\nL 15.1875 71.578125 \r\nL 15.1875 0 \r\nz\r\n\" id=\"ArialMT-108\"/>\r\n      <path d=\"M 3.328125 25.921875 \r\nQ 3.328125 40.328125 11.328125 47.265625 \r\nQ 18.015625 53.03125 27.640625 53.03125 \r\nQ 38.328125 53.03125 45.109375 46.015625 \r\nQ 51.90625 39.015625 51.90625 26.65625 \r\nQ 51.90625 16.65625 48.90625 10.90625 \r\nQ 45.90625 5.171875 40.15625 2 \r\nQ 34.421875 -1.171875 27.640625 -1.171875 \r\nQ 16.75 -1.171875 10.03125 5.8125 \r\nQ 3.328125 12.796875 3.328125 25.921875 \r\nz\r\nM 12.359375 25.921875 \r\nQ 12.359375 15.96875 16.703125 11.015625 \r\nQ 21.046875 6.0625 27.640625 6.0625 \r\nQ 34.1875 6.0625 38.53125 11.03125 \r\nQ 42.875 16.015625 42.875 26.21875 \r\nQ 42.875 35.84375 38.5 40.796875 \r\nQ 34.125 45.75 27.640625 45.75 \r\nQ 21.046875 45.75 16.703125 40.8125 \r\nQ 12.359375 35.890625 12.359375 25.921875 \r\nz\r\n\" id=\"ArialMT-111\"/>\r\n      <path d=\"M 40.4375 19 \r\nL 49.078125 17.875 \r\nQ 47.65625 8.9375 41.8125 3.875 \r\nQ 35.984375 -1.171875 27.484375 -1.171875 \r\nQ 16.84375 -1.171875 10.375 5.78125 \r\nQ 3.90625 12.75 3.90625 25.734375 \r\nQ 3.90625 34.125 6.6875 40.421875 \r\nQ 9.46875 46.734375 15.15625 49.875 \r\nQ 20.84375 53.03125 27.546875 53.03125 \r\nQ 35.984375 53.03125 41.359375 48.75 \r\nQ 46.734375 44.484375 48.25 36.625 \r\nL 39.703125 35.296875 \r\nQ 38.484375 40.53125 35.375 43.15625 \r\nQ 32.28125 45.796875 27.875 45.796875 \r\nQ 21.234375 45.796875 17.078125 41.03125 \r\nQ 12.9375 36.28125 12.9375 25.984375 \r\nQ 12.9375 15.53125 16.9375 10.796875 \r\nQ 20.953125 6.0625 27.390625 6.0625 \r\nQ 32.5625 6.0625 36.03125 9.234375 \r\nQ 39.5 12.40625 40.4375 19 \r\nz\r\n\" id=\"ArialMT-99\"/>\r\n      <path d=\"M 40.4375 6.390625 \r\nQ 35.546875 2.25 31.03125 0.53125 \r\nQ 26.515625 -1.171875 21.34375 -1.171875 \r\nQ 12.796875 -1.171875 8.203125 3 \r\nQ 3.609375 7.171875 3.609375 13.671875 \r\nQ 3.609375 17.484375 5.34375 20.625 \r\nQ 7.078125 23.78125 9.890625 25.6875 \r\nQ 12.703125 27.59375 16.21875 28.5625 \r\nQ 18.796875 29.25 24.03125 29.890625 \r\nQ 34.671875 31.15625 39.703125 32.90625 \r\nQ 39.75 34.71875 39.75 35.203125 \r\nQ 39.75 40.578125 37.25 42.78125 \r\nQ 33.890625 45.75 27.25 45.75 \r\nQ 21.046875 45.75 18.09375 43.578125 \r\nQ 15.140625 41.40625 13.71875 35.890625 \r\nL 5.125 37.0625 \r\nQ 6.296875 42.578125 8.984375 45.96875 \r\nQ 11.671875 49.359375 16.75 51.1875 \r\nQ 21.828125 53.03125 28.515625 53.03125 \r\nQ 35.15625 53.03125 39.296875 51.46875 \r\nQ 43.453125 49.90625 45.40625 47.53125 \r\nQ 47.359375 45.171875 48.140625 41.546875 \r\nQ 48.578125 39.3125 48.578125 33.453125 \r\nL 48.578125 21.734375 \r\nQ 48.578125 9.46875 49.140625 6.21875 \r\nQ 49.703125 2.984375 51.375 0 \r\nL 42.1875 0 \r\nQ 40.828125 2.734375 40.4375 6.390625 \r\nz\r\nM 39.703125 26.03125 \r\nQ 34.90625 24.078125 25.34375 22.703125 \r\nQ 19.921875 21.921875 17.671875 20.9375 \r\nQ 15.4375 19.96875 14.203125 18.09375 \r\nQ 12.984375 16.21875 12.984375 13.921875 \r\nQ 12.984375 10.40625 15.640625 8.0625 \r\nQ 18.3125 5.71875 23.4375 5.71875 \r\nQ 28.515625 5.71875 32.46875 7.9375 \r\nQ 36.421875 10.15625 38.28125 14.015625 \r\nQ 39.703125 17 39.703125 22.796875 \r\nz\r\n\" id=\"ArialMT-97\"/>\r\n      <path d=\"M 25.78125 7.859375 \r\nL 27.046875 0.09375 \r\nQ 23.34375 -0.6875 20.40625 -0.6875 \r\nQ 15.625 -0.6875 12.984375 0.828125 \r\nQ 10.359375 2.34375 9.28125 4.8125 \r\nQ 8.203125 7.28125 8.203125 15.1875 \r\nL 8.203125 45.015625 \r\nL 1.765625 45.015625 \r\nL 1.765625 51.859375 \r\nL 8.203125 51.859375 \r\nL 8.203125 64.703125 \r\nL 16.9375 69.96875 \r\nL 16.9375 51.859375 \r\nL 25.78125 51.859375 \r\nL 25.78125 45.015625 \r\nL 16.9375 45.015625 \r\nL 16.9375 14.703125 \r\nQ 16.9375 10.9375 17.40625 9.859375 \r\nQ 17.875 8.796875 18.921875 8.15625 \r\nQ 19.96875 7.515625 21.921875 7.515625 \r\nQ 23.390625 7.515625 25.78125 7.859375 \r\nz\r\n\" id=\"ArialMT-116\"/>\r\n      <path d=\"M 6.640625 61.46875 \r\nL 6.640625 71.578125 \r\nL 15.4375 71.578125 \r\nL 15.4375 61.46875 \r\nz\r\nM 6.640625 0 \r\nL 6.640625 51.859375 \r\nL 15.4375 51.859375 \r\nL 15.4375 0 \r\nz\r\n\" id=\"ArialMT-105\"/>\r\n      <path d=\"M 6.59375 0 \r\nL 6.59375 51.859375 \r\nL 14.5 51.859375 \r\nL 14.5 44.484375 \r\nQ 20.21875 53.03125 31 53.03125 \r\nQ 35.6875 53.03125 39.625 51.34375 \r\nQ 43.5625 49.65625 45.515625 46.921875 \r\nQ 47.46875 44.1875 48.25 40.4375 \r\nQ 48.734375 37.984375 48.734375 31.890625 \r\nL 48.734375 0 \r\nL 39.9375 0 \r\nL 39.9375 31.546875 \r\nQ 39.9375 36.921875 38.90625 39.578125 \r\nQ 37.890625 42.234375 35.28125 43.8125 \r\nQ 32.671875 45.40625 29.15625 45.40625 \r\nQ 23.53125 45.40625 19.453125 41.84375 \r\nQ 15.375 38.28125 15.375 28.328125 \r\nL 15.375 0 \r\nz\r\n\" id=\"ArialMT-110\"/>\r\n     </defs>\r\n     <g transform=\"translate(224.945313 251.943125)scale(0.1 -0.1)\">\r\n      <use xlink:href=\"#ArialMT-108\"/>\r\n      <use x=\"22.216797\" xlink:href=\"#ArialMT-111\"/>\r\n      <use x=\"77.832031\" xlink:href=\"#ArialMT-99\"/>\r\n      <use x=\"127.832031\" xlink:href=\"#ArialMT-97\"/>\r\n      <use x=\"183.447266\" xlink:href=\"#ArialMT-116\"/>\r\n      <use x=\"211.230469\" xlink:href=\"#ArialMT-105\"/>\r\n      <use x=\"233.447266\" xlink:href=\"#ArialMT-111\"/>\r\n      <use x=\"289.0625\" xlink:href=\"#ArialMT-110\"/>\r\n     </g>\r\n    </g>\r\n   </g>\r\n   <g id=\"matplotlib.axis_2\">\r\n    <g id=\"ytick_1\">\r\n     <g id=\"line2d_10\">\r\n      <defs>\r\n       <path d=\"M 0 0 \r\nL -3.5 0 \r\n\" id=\"m86b249a047\" style=\"stroke:#000000;stroke-width:0.8;\"/>\r\n      </defs>\r\n      <g>\r\n       <use style=\"stroke:#000000;stroke-width:0.8;\" x=\"74.778125\" xlink:href=\"#m86b249a047\" y=\"61.56\"/>\r\n      </g>\r\n     </g>\r\n     <g id=\"text_11\">\r\n      <!-- dailystarnews -->\r\n      <defs>\r\n       <path d=\"M 40.234375 0 \r\nL 40.234375 6.546875 \r\nQ 35.296875 -1.171875 25.734375 -1.171875 \r\nQ 19.53125 -1.171875 14.328125 2.25 \r\nQ 9.125 5.671875 6.265625 11.796875 \r\nQ 3.421875 17.921875 3.421875 25.875 \r\nQ 3.421875 33.640625 6 39.96875 \r\nQ 8.59375 46.296875 13.765625 49.65625 \r\nQ 18.953125 53.03125 25.34375 53.03125 \r\nQ 30.03125 53.03125 33.6875 51.046875 \r\nQ 37.359375 49.078125 39.65625 45.90625 \r\nL 39.65625 71.578125 \r\nL 48.390625 71.578125 \r\nL 48.390625 0 \r\nz\r\nM 12.453125 25.875 \r\nQ 12.453125 15.921875 16.640625 10.984375 \r\nQ 20.84375 6.0625 26.5625 6.0625 \r\nQ 32.328125 6.0625 36.34375 10.765625 \r\nQ 40.375 15.484375 40.375 25.140625 \r\nQ 40.375 35.796875 36.265625 40.765625 \r\nQ 32.171875 45.75 26.171875 45.75 \r\nQ 20.3125 45.75 16.375 40.96875 \r\nQ 12.453125 36.1875 12.453125 25.875 \r\nz\r\n\" id=\"ArialMT-100\"/>\r\n       <path d=\"M 6.203125 -19.96875 \r\nL 5.21875 -11.71875 \r\nQ 8.109375 -12.5 10.25 -12.5 \r\nQ 13.1875 -12.5 14.9375 -11.515625 \r\nQ 16.703125 -10.546875 17.828125 -8.796875 \r\nQ 18.65625 -7.46875 20.515625 -2.25 \r\nQ 20.75 -1.515625 21.296875 -0.09375 \r\nL 1.609375 51.859375 \r\nL 11.078125 51.859375 \r\nL 21.875 21.828125 \r\nQ 23.96875 16.109375 25.640625 9.8125 \r\nQ 27.15625 15.875 29.25 21.625 \r\nL 40.328125 51.859375 \r\nL 49.125 51.859375 \r\nL 29.390625 -0.875 \r\nQ 26.21875 -9.421875 24.46875 -12.640625 \r\nQ 22.125 -17 19.09375 -19.015625 \r\nQ 16.0625 -21.046875 11.859375 -21.046875 \r\nQ 9.328125 -21.046875 6.203125 -19.96875 \r\nz\r\n\" id=\"ArialMT-121\"/>\r\n       <path d=\"M 3.078125 15.484375 \r\nL 11.765625 16.84375 \r\nQ 12.5 11.625 15.84375 8.84375 \r\nQ 19.1875 6.0625 25.203125 6.0625 \r\nQ 31.25 6.0625 34.171875 8.515625 \r\nQ 37.109375 10.984375 37.109375 14.3125 \r\nQ 37.109375 17.28125 34.515625 19 \r\nQ 32.71875 20.171875 25.53125 21.96875 \r\nQ 15.875 24.421875 12.140625 26.203125 \r\nQ 8.40625 27.984375 6.46875 31.125 \r\nQ 4.546875 34.28125 4.546875 38.09375 \r\nQ 4.546875 41.546875 6.125 44.5 \r\nQ 7.71875 47.46875 10.453125 49.421875 \r\nQ 12.5 50.921875 16.03125 51.96875 \r\nQ 19.578125 53.03125 23.640625 53.03125 \r\nQ 29.734375 53.03125 34.34375 51.265625 \r\nQ 38.96875 49.515625 41.15625 46.5 \r\nQ 43.359375 43.5 44.1875 38.484375 \r\nL 35.59375 37.3125 \r\nQ 35.015625 41.3125 32.203125 43.546875 \r\nQ 29.390625 45.796875 24.265625 45.796875 \r\nQ 18.21875 45.796875 15.625 43.796875 \r\nQ 13.03125 41.796875 13.03125 39.109375 \r\nQ 13.03125 37.40625 14.109375 36.03125 \r\nQ 15.1875 34.625 17.484375 33.6875 \r\nQ 18.796875 33.203125 25.25 31.453125 \r\nQ 34.578125 28.953125 38.25 27.359375 \r\nQ 41.9375 25.78125 44.03125 22.75 \r\nQ 46.140625 19.734375 46.140625 15.234375 \r\nQ 46.140625 10.84375 43.578125 6.953125 \r\nQ 41.015625 3.078125 36.171875 0.953125 \r\nQ 31.34375 -1.171875 25.25 -1.171875 \r\nQ 15.140625 -1.171875 9.84375 3.03125 \r\nQ 4.546875 7.234375 3.078125 15.484375 \r\nz\r\n\" id=\"ArialMT-115\"/>\r\n       <path d=\"M 6.5 0 \r\nL 6.5 51.859375 \r\nL 14.40625 51.859375 \r\nL 14.40625 44 \r\nQ 17.4375 49.515625 20 51.265625 \r\nQ 22.5625 53.03125 25.640625 53.03125 \r\nQ 30.078125 53.03125 34.671875 50.203125 \r\nL 31.640625 42.046875 \r\nQ 28.421875 43.953125 25.203125 43.953125 \r\nQ 22.3125 43.953125 20.015625 42.21875 \r\nQ 17.71875 40.484375 16.75 37.40625 \r\nQ 15.28125 32.71875 15.28125 27.15625 \r\nL 15.28125 0 \r\nz\r\n\" id=\"ArialMT-114\"/>\r\n       <path d=\"M 42.09375 16.703125 \r\nL 51.171875 15.578125 \r\nQ 49.03125 7.625 43.21875 3.21875 \r\nQ 37.40625 -1.171875 28.375 -1.171875 \r\nQ 17 -1.171875 10.328125 5.828125 \r\nQ 3.65625 12.84375 3.65625 25.484375 \r\nQ 3.65625 38.578125 10.390625 45.796875 \r\nQ 17.140625 53.03125 27.875 53.03125 \r\nQ 38.28125 53.03125 44.875 45.953125 \r\nQ 51.46875 38.875 51.46875 26.03125 \r\nQ 51.46875 25.25 51.421875 23.6875 \r\nL 12.75 23.6875 \r\nQ 13.234375 15.140625 17.578125 10.59375 \r\nQ 21.921875 6.0625 28.421875 6.0625 \r\nQ 33.25 6.0625 36.671875 8.59375 \r\nQ 40.09375 11.140625 42.09375 16.703125 \r\nz\r\nM 13.234375 30.90625 \r\nL 42.1875 30.90625 \r\nQ 41.609375 37.453125 38.875 40.71875 \r\nQ 34.671875 45.796875 27.984375 45.796875 \r\nQ 21.921875 45.796875 17.796875 41.75 \r\nQ 13.671875 37.703125 13.234375 30.90625 \r\nz\r\n\" id=\"ArialMT-101\"/>\r\n       <path d=\"M 16.15625 0 \r\nL 0.296875 51.859375 \r\nL 9.375 51.859375 \r\nL 17.625 21.921875 \r\nL 20.703125 10.796875 \r\nQ 20.90625 11.625 23.390625 21.484375 \r\nL 31.640625 51.859375 \r\nL 40.671875 51.859375 \r\nL 48.4375 21.78125 \r\nL 51.03125 11.859375 \r\nL 54 21.875 \r\nL 62.890625 51.859375 \r\nL 71.4375 51.859375 \r\nL 55.21875 0 \r\nL 46.09375 0 \r\nL 37.84375 31.0625 \r\nL 35.84375 39.890625 \r\nL 25.34375 0 \r\nz\r\n\" id=\"ArialMT-119\"/>\r\n      </defs>\r\n      <g transform=\"translate(7.2 65.138906)scale(0.1 -0.1)\">\r\n       <use xlink:href=\"#ArialMT-100\"/>\r\n       <use x=\"55.615234\" xlink:href=\"#ArialMT-97\"/>\r\n       <use x=\"111.230469\" xlink:href=\"#ArialMT-105\"/>\r\n       <use x=\"133.447266\" xlink:href=\"#ArialMT-108\"/>\r\n       <use x=\"155.664062\" xlink:href=\"#ArialMT-121\"/>\r\n       <use x=\"205.664062\" xlink:href=\"#ArialMT-115\"/>\r\n       <use x=\"255.664062\" xlink:href=\"#ArialMT-116\"/>\r\n       <use x=\"283.447266\" xlink:href=\"#ArialMT-97\"/>\r\n       <use x=\"339.0625\" xlink:href=\"#ArialMT-114\"/>\r\n       <use x=\"372.363281\" xlink:href=\"#ArialMT-110\"/>\r\n       <use x=\"427.978516\" xlink:href=\"#ArialMT-101\"/>\r\n       <use x=\"483.59375\" xlink:href=\"#ArialMT-119\"/>\r\n       <use x=\"555.810547\" xlink:href=\"#ArialMT-115\"/>\r\n      </g>\r\n     </g>\r\n    </g>\r\n    <g id=\"ytick_2\">\r\n     <g id=\"line2d_11\">\r\n      <g>\r\n       <use style=\"stroke:#000000;stroke-width:0.8;\" x=\"74.778125\" xlink:href=\"#m86b249a047\" y=\"170.28\"/>\r\n      </g>\r\n     </g>\r\n     <g id=\"text_12\">\r\n      <!-- singapore -->\r\n      <defs>\r\n       <path d=\"M 4.984375 -4.296875 \r\nL 13.53125 -5.5625 \r\nQ 14.0625 -9.515625 16.5 -11.328125 \r\nQ 19.78125 -13.765625 25.4375 -13.765625 \r\nQ 31.546875 -13.765625 34.859375 -11.328125 \r\nQ 38.1875 -8.890625 39.359375 -4.5 \r\nQ 40.046875 -1.8125 39.984375 6.78125 \r\nQ 34.234375 0 25.640625 0 \r\nQ 14.9375 0 9.078125 7.71875 \r\nQ 3.21875 15.4375 3.21875 26.21875 \r\nQ 3.21875 33.640625 5.90625 39.90625 \r\nQ 8.59375 46.1875 13.6875 49.609375 \r\nQ 18.796875 53.03125 25.6875 53.03125 \r\nQ 34.859375 53.03125 40.828125 45.609375 \r\nL 40.828125 51.859375 \r\nL 48.921875 51.859375 \r\nL 48.921875 7.03125 \r\nQ 48.921875 -5.078125 46.453125 -10.125 \r\nQ 44 -15.1875 38.640625 -18.109375 \r\nQ 33.296875 -21.046875 25.484375 -21.046875 \r\nQ 16.21875 -21.046875 10.5 -16.875 \r\nQ 4.78125 -12.703125 4.984375 -4.296875 \r\nz\r\nM 12.25 26.859375 \r\nQ 12.25 16.65625 16.296875 11.96875 \r\nQ 20.359375 7.28125 26.46875 7.28125 \r\nQ 32.515625 7.28125 36.609375 11.9375 \r\nQ 40.71875 16.609375 40.71875 26.5625 \r\nQ 40.71875 36.078125 36.5 40.90625 \r\nQ 32.28125 45.75 26.3125 45.75 \r\nQ 20.453125 45.75 16.34375 40.984375 \r\nQ 12.25 36.234375 12.25 26.859375 \r\nz\r\n\" id=\"ArialMT-103\"/>\r\n       <path d=\"M 6.59375 -19.875 \r\nL 6.59375 51.859375 \r\nL 14.59375 51.859375 \r\nL 14.59375 45.125 \r\nQ 17.4375 49.078125 21 51.046875 \r\nQ 24.5625 53.03125 29.640625 53.03125 \r\nQ 36.28125 53.03125 41.359375 49.609375 \r\nQ 46.4375 46.1875 49.015625 39.953125 \r\nQ 51.609375 33.734375 51.609375 26.3125 \r\nQ 51.609375 18.359375 48.75 11.984375 \r\nQ 45.90625 5.609375 40.453125 2.21875 \r\nQ 35.015625 -1.171875 29 -1.171875 \r\nQ 24.609375 -1.171875 21.109375 0.6875 \r\nQ 17.625 2.546875 15.375 5.375 \r\nL 15.375 -19.875 \r\nz\r\nM 14.546875 25.640625 \r\nQ 14.546875 15.625 18.59375 10.84375 \r\nQ 22.65625 6.0625 28.421875 6.0625 \r\nQ 34.28125 6.0625 38.453125 11.015625 \r\nQ 42.625 15.96875 42.625 26.375 \r\nQ 42.625 36.28125 38.546875 41.203125 \r\nQ 34.46875 46.140625 28.8125 46.140625 \r\nQ 23.1875 46.140625 18.859375 40.890625 \r\nQ 14.546875 35.640625 14.546875 25.640625 \r\nz\r\n\" id=\"ArialMT-112\"/>\r\n      </defs>\r\n      <g transform=\"translate(23.860937 173.858906)scale(0.1 -0.1)\">\r\n       <use xlink:href=\"#ArialMT-115\"/>\r\n       <use x=\"50\" xlink:href=\"#ArialMT-105\"/>\r\n       <use x=\"72.216797\" xlink:href=\"#ArialMT-110\"/>\r\n       <use x=\"127.832031\" xlink:href=\"#ArialMT-103\"/>\r\n       <use x=\"183.447266\" xlink:href=\"#ArialMT-97\"/>\r\n       <use x=\"239.0625\" xlink:href=\"#ArialMT-112\"/>\r\n       <use x=\"294.677734\" xlink:href=\"#ArialMT-111\"/>\r\n       <use x=\"350.292969\" xlink:href=\"#ArialMT-114\"/>\r\n       <use x=\"383.59375\" xlink:href=\"#ArialMT-101\"/>\r\n      </g>\r\n     </g>\r\n    </g>\r\n   </g>\r\n   <g id=\"line2d_12\">\r\n    <path clip-path=\"url(#p79dd2f7fa2)\" d=\"M 0 0 \r\n\" style=\"fill:none;stroke:#424242;stroke-linecap:square;stroke-width:2.7;\"/>\r\n   </g>\r\n   <g id=\"line2d_13\">\r\n    <path clip-path=\"url(#p79dd2f7fa2)\" d=\"M 0 0 \r\n\" style=\"fill:none;stroke:#424242;stroke-linecap:square;stroke-width:2.7;\"/>\r\n   </g>\r\n   <g id=\"patch_5\">\r\n    <path d=\"M 74.778125 224.64 \r\nL 74.778125 7.2 \r\n\" style=\"fill:none;stroke:#000000;stroke-linecap:square;stroke-linejoin:miter;stroke-width:0.8;\"/>\r\n   </g>\r\n   <g id=\"patch_6\">\r\n    <path d=\"M 409.578125 224.64 \r\nL 409.578125 7.2 \r\n\" style=\"fill:none;stroke:#000000;stroke-linecap:square;stroke-linejoin:miter;stroke-width:0.8;\"/>\r\n   </g>\r\n   <g id=\"patch_7\">\r\n    <path d=\"M 74.778125 224.64 \r\nL 409.578125 224.64 \r\n\" style=\"fill:none;stroke:#000000;stroke-linecap:square;stroke-linejoin:miter;stroke-width:0.8;\"/>\r\n   </g>\r\n   <g id=\"patch_8\">\r\n    <path d=\"M 74.778125 7.2 \r\nL 409.578125 7.2 \r\n\" style=\"fill:none;stroke:#000000;stroke-linecap:square;stroke-linejoin:miter;stroke-width:0.8;\"/>\r\n   </g>\r\n   <g id=\"text_13\">\r\n    <!-- 2 -->\r\n    <g style=\"fill:#262626;\" transform=\"translate(393.635268 72.432)scale(0.12 -0.12)\">\r\n     <use xlink:href=\"#ArialMT-50\"/>\r\n    </g>\r\n   </g>\r\n   <g id=\"text_14\">\r\n    <!-- 2 -->\r\n    <g style=\"fill:#262626;\" transform=\"translate(393.635268 181.152)scale(0.12 -0.12)\">\r\n     <use xlink:href=\"#ArialMT-50\"/>\r\n    </g>\r\n   </g>\r\n  </g>\r\n </g>\r\n <defs>\r\n  <clipPath id=\"p79dd2f7fa2\">\r\n   <rect height=\"217.44\" width=\"334.8\" x=\"74.778125\" y=\"7.2\"/>\r\n  </clipPath>\r\n </defs>\r\n</svg>\r\n",
      "image/png": "[encoded data removed]"
     },
     "metadata": {
      "needs_background": "light"
     }
    }
   ],
   "source": [
    "#Draw Bar Plot\n",
    "ax = sns.barplot(y=temp_location_df['location'].value_counts()[:15].index,x=temp_location_df['location'].value_counts()[:15],orient='h')\n",
    "\n",
    "sns.set(rc={'figure.figsize':(11.7,8.27)})\n",
    "initialx=0\n",
    "for p in ax.patches:\n",
    "  ax.text(p.get_width(),initialx+p.get_height()/8,'{:1.0f}'.format(p.get_width()))\n",
    "  initialx+=1"
   ]
  },
  {
   "cell_type": "markdown",
   "metadata": {},
   "source": [
    "## Keyword Extraction"
   ]
  },
  {
   "cell_type": "code",
   "execution_count": 47,
   "metadata": {},
   "outputs": [],
   "source": [
    "def keyword(df_text):\n",
    "    text = df_text\n",
    "    tr4w = TextRank4Keyword()\n",
    "    keyword = []\n",
    "    tr4w.analyze(text=text, lower=True, window=2)\n",
    "    for item in tr4w.get_keywords(4, word_min_len=5):\n",
    "        keyword.append(item.word)\n",
    "    return keyword"
   ]
  },
  {
   "cell_type": "code",
   "execution_count": 48,
   "metadata": {},
   "outputs": [
    {
     "output_type": "stream",
     "name": "stderr",
     "text": [
      "Building prefix dict from the default dictionary ...\n",
      "DEBUG:jieba:Building prefix dict from the default dictionary ...\n",
      "Dumping model to file cache C:\\Users\\User\\AppData\\Local\\Temp\\jieba.cache\n",
      "DEBUG:jieba:Dumping model to file cache C:\\Users\\User\\AppData\\Local\\Temp\\jieba.cache\n",
      "Loading model cost 7.409 seconds.\n",
      "DEBUG:jieba:Loading model cost 7.409 seconds.\n",
      "Prefix dict has been built successfully.\n",
      "DEBUG:jieba:Prefix dict has been built successfully.\n"
     ]
    }
   ],
   "source": [
    "df['keyword'] = df['text'].apply(lambda x: keyword(x))"
   ]
  },
  {
   "cell_type": "code",
   "execution_count": 49,
   "metadata": {},
   "outputs": [],
   "source": [
    "#convert keyword column to a list\n",
    "keyword_list = df['keyword'].to_numpy()\n",
    "#print(keyword_list)\n",
    "\n",
    "#remove none and null value\n",
    "keyword_list = list(filter(None, keyword_list))\n",
    "#print(keyword_list)"
   ]
  },
  {
   "cell_type": "code",
   "execution_count": 50,
   "metadata": {},
   "outputs": [],
   "source": [
    "#Convert all list location to a list for better calculation\n",
    "list_keyword = []\n",
    "for x in range(len(keyword_list)):\n",
    "    list_keyword.extend(keyword_list[x])"
   ]
  },
  {
   "cell_type": "code",
   "execution_count": 51,
   "metadata": {},
   "outputs": [],
   "source": [
    "temp_keyword_df = pd.DataFrame(columns=['keyword'])\n",
    "temp_keyword_df['keyword'] = list_keyword"
   ]
  },
  {
   "cell_type": "code",
   "execution_count": 52,
   "metadata": {},
   "outputs": [
    {
     "output_type": "stream",
     "name": "stdout",
     "text": [
      "bananifire      38\nsheikhhasina    22\nbuilding        20\ndetail          20\nbangladesh      14\nName: keyword, dtype: int64\n"
     ]
    }
   ],
   "source": [
    "feat =temp_keyword_df['keyword'].value_counts()\n",
    "print(feat.head(5))"
   ]
  },
  {
   "cell_type": "code",
   "execution_count": 53,
   "metadata": {},
   "outputs": [
    {
     "output_type": "display_data",
     "data": {
      "text/plain": "<Figure size 842.4x595.44 with 1 Axes>",
      "image/svg+xml": "<?xml version=\"1.0\" encoding=\"utf-8\" standalone=\"no\"?>\r\n<!DOCTYPE svg PUBLIC \"-//W3C//DTD SVG 1.1//EN\"\r\n  \"http://www.w3.org/Graphics/SVG/1.1/DTD/svg11.dtd\">\r\n<!-- Created with matplotlib (https://matplotlib.org/) -->\r\n<svg height=\"498.632044pt\" version=\"1.1\" viewBox=\"0 0 740.967344 498.632044\" width=\"740.967344pt\" xmlns=\"http://www.w3.org/2000/svg\" xmlns:xlink=\"http://www.w3.org/1999/xlink\">\r\n <defs>\r\n  <style type=\"text/css\">\r\n*{stroke-linecap:butt;stroke-linejoin:round;}\r\n  </style>\r\n </defs>\r\n <g id=\"figure_1\">\r\n  <g id=\"patch_1\">\r\n   <path d=\"M 0 498.632044 \r\nL 740.967344 498.632044 \r\nL 740.967344 0 \r\nL 0 0 \r\nz\r\n\" style=\"fill:#ffffff;\"/>\r\n  </g>\r\n  <g id=\"axes_1\">\r\n   <g id=\"patch_2\">\r\n    <path d=\"M 80.907344 456.7572 \r\nL 733.767344 456.7572 \r\nL 733.767344 7.2 \r\nL 80.907344 7.2 \r\nz\r\n\" style=\"fill:#eaeaf2;\"/>\r\n   </g>\r\n   <g id=\"matplotlib.axis_1\">\r\n    <g id=\"xtick_1\">\r\n     <g id=\"line2d_1\">\r\n      <path clip-path=\"url(#p7295d7beb0)\" d=\"M 80.907344 456.7572 \r\nL 80.907344 7.2 \r\n\" style=\"fill:none;stroke:#ffffff;stroke-linecap:round;\"/>\r\n     </g>\r\n     <g id=\"text_1\">\r\n      <!-- 0 -->\r\n      <defs>\r\n       <path d=\"M 4.15625 35.296875 \r\nQ 4.15625 48 6.765625 55.734375 \r\nQ 9.375 63.484375 14.515625 67.671875 \r\nQ 19.671875 71.875 27.484375 71.875 \r\nQ 33.25 71.875 37.59375 69.546875 \r\nQ 41.9375 67.234375 44.765625 62.859375 \r\nQ 47.609375 58.5 49.21875 52.21875 \r\nQ 50.828125 45.953125 50.828125 35.296875 \r\nQ 50.828125 22.703125 48.234375 14.96875 \r\nQ 45.65625 7.234375 40.5 3 \r\nQ 35.359375 -1.21875 27.484375 -1.21875 \r\nQ 17.140625 -1.21875 11.234375 6.203125 \r\nQ 4.15625 15.140625 4.15625 35.296875 \r\nz\r\nM 13.1875 35.296875 \r\nQ 13.1875 17.671875 17.3125 11.828125 \r\nQ 21.4375 6 27.484375 6 \r\nQ 33.546875 6 37.671875 11.859375 \r\nQ 41.796875 17.71875 41.796875 35.296875 \r\nQ 41.796875 52.984375 37.671875 58.78125 \r\nQ 33.546875 64.59375 27.390625 64.59375 \r\nQ 21.34375 64.59375 17.71875 59.46875 \r\nQ 13.1875 52.9375 13.1875 35.296875 \r\nz\r\n\" id=\"ArialMT-48\"/>\r\n      </defs>\r\n      <g style=\"fill:#262626;\" transform=\"translate(77.848828 474.130794)scale(0.11 -0.11)\">\r\n       <use xlink:href=\"#ArialMT-48\"/>\r\n      </g>\r\n     </g>\r\n    </g>\r\n    <g id=\"xtick_2\">\r\n     <g id=\"line2d_2\">\r\n      <path clip-path=\"url(#p7295d7beb0)\" d=\"M 162.719374 456.7572 \r\nL 162.719374 7.2 \r\n\" style=\"fill:none;stroke:#ffffff;stroke-linecap:round;\"/>\r\n     </g>\r\n     <g id=\"text_2\">\r\n      <!-- 5 -->\r\n      <defs>\r\n       <path d=\"M 4.15625 18.75 \r\nL 13.375 19.53125 \r\nQ 14.40625 12.796875 18.140625 9.390625 \r\nQ 21.875 6 27.15625 6 \r\nQ 33.5 6 37.890625 10.78125 \r\nQ 42.28125 15.578125 42.28125 23.484375 \r\nQ 42.28125 31 38.0625 35.34375 \r\nQ 33.84375 39.703125 27 39.703125 \r\nQ 22.75 39.703125 19.328125 37.765625 \r\nQ 15.921875 35.84375 13.96875 32.765625 \r\nL 5.71875 33.84375 \r\nL 12.640625 70.609375 \r\nL 48.25 70.609375 \r\nL 48.25 62.203125 \r\nL 19.671875 62.203125 \r\nL 15.828125 42.96875 \r\nQ 22.265625 47.46875 29.34375 47.46875 \r\nQ 38.71875 47.46875 45.15625 40.96875 \r\nQ 51.609375 34.46875 51.609375 24.265625 \r\nQ 51.609375 14.546875 45.953125 7.46875 \r\nQ 39.0625 -1.21875 27.15625 -1.21875 \r\nQ 17.390625 -1.21875 11.203125 4.25 \r\nQ 5.03125 9.71875 4.15625 18.75 \r\nz\r\n\" id=\"ArialMT-53\"/>\r\n      </defs>\r\n      <g style=\"fill:#262626;\" transform=\"translate(159.660858 474.130794)scale(0.11 -0.11)\">\r\n       <use xlink:href=\"#ArialMT-53\"/>\r\n      </g>\r\n     </g>\r\n    </g>\r\n    <g id=\"xtick_3\">\r\n     <g id=\"line2d_3\">\r\n      <path clip-path=\"url(#p7295d7beb0)\" d=\"M 244.531404 456.7572 \r\nL 244.531404 7.2 \r\n\" style=\"fill:none;stroke:#ffffff;stroke-linecap:round;\"/>\r\n     </g>\r\n     <g id=\"text_3\">\r\n      <!-- 10 -->\r\n      <defs>\r\n       <path d=\"M 37.25 0 \r\nL 28.46875 0 \r\nL 28.46875 56 \r\nQ 25.296875 52.984375 20.140625 49.953125 \r\nQ 14.984375 46.921875 10.890625 45.40625 \r\nL 10.890625 53.90625 \r\nQ 18.265625 57.375 23.78125 62.296875 \r\nQ 29.296875 67.234375 31.59375 71.875 \r\nL 37.25 71.875 \r\nz\r\n\" id=\"ArialMT-49\"/>\r\n      </defs>\r\n      <g style=\"fill:#262626;\" transform=\"translate(238.414373 474.130794)scale(0.11 -0.11)\">\r\n       <use xlink:href=\"#ArialMT-49\"/>\r\n       <use x=\"55.615234\" xlink:href=\"#ArialMT-48\"/>\r\n      </g>\r\n     </g>\r\n    </g>\r\n    <g id=\"xtick_4\">\r\n     <g id=\"line2d_4\">\r\n      <path clip-path=\"url(#p7295d7beb0)\" d=\"M 326.343434 456.7572 \r\nL 326.343434 7.2 \r\n\" style=\"fill:none;stroke:#ffffff;stroke-linecap:round;\"/>\r\n     </g>\r\n     <g id=\"text_4\">\r\n      <!-- 15 -->\r\n      <g style=\"fill:#262626;\" transform=\"translate(320.226403 474.130794)scale(0.11 -0.11)\">\r\n       <use xlink:href=\"#ArialMT-49\"/>\r\n       <use x=\"55.615234\" xlink:href=\"#ArialMT-53\"/>\r\n      </g>\r\n     </g>\r\n    </g>\r\n    <g id=\"xtick_5\">\r\n     <g id=\"line2d_5\">\r\n      <path clip-path=\"url(#p7295d7beb0)\" d=\"M 408.155464 456.7572 \r\nL 408.155464 7.2 \r\n\" style=\"fill:none;stroke:#ffffff;stroke-linecap:round;\"/>\r\n     </g>\r\n     <g id=\"text_5\">\r\n      <!-- 20 -->\r\n      <defs>\r\n       <path d=\"M 50.34375 8.453125 \r\nL 50.34375 0 \r\nL 3.03125 0 \r\nQ 2.9375 3.171875 4.046875 6.109375 \r\nQ 5.859375 10.9375 9.828125 15.625 \r\nQ 13.8125 20.3125 21.34375 26.46875 \r\nQ 33.015625 36.03125 37.109375 41.625 \r\nQ 41.21875 47.21875 41.21875 52.203125 \r\nQ 41.21875 57.421875 37.46875 61 \r\nQ 33.734375 64.59375 27.734375 64.59375 \r\nQ 21.390625 64.59375 17.578125 60.78125 \r\nQ 13.765625 56.984375 13.71875 50.25 \r\nL 4.6875 51.171875 \r\nQ 5.609375 61.28125 11.65625 66.578125 \r\nQ 17.71875 71.875 27.9375 71.875 \r\nQ 38.234375 71.875 44.234375 66.15625 \r\nQ 50.25 60.453125 50.25 52 \r\nQ 50.25 47.703125 48.484375 43.546875 \r\nQ 46.734375 39.40625 42.65625 34.8125 \r\nQ 38.578125 30.21875 29.109375 22.21875 \r\nQ 21.1875 15.578125 18.9375 13.203125 \r\nQ 16.703125 10.84375 15.234375 8.453125 \r\nz\r\n\" id=\"ArialMT-50\"/>\r\n      </defs>\r\n      <g style=\"fill:#262626;\" transform=\"translate(402.038433 474.130794)scale(0.11 -0.11)\">\r\n       <use xlink:href=\"#ArialMT-50\"/>\r\n       <use x=\"55.615234\" xlink:href=\"#ArialMT-48\"/>\r\n      </g>\r\n     </g>\r\n    </g>\r\n    <g id=\"xtick_6\">\r\n     <g id=\"line2d_6\">\r\n      <path clip-path=\"url(#p7295d7beb0)\" d=\"M 489.967494 456.7572 \r\nL 489.967494 7.2 \r\n\" style=\"fill:none;stroke:#ffffff;stroke-linecap:round;\"/>\r\n     </g>\r\n     <g id=\"text_6\">\r\n      <!-- 25 -->\r\n      <g style=\"fill:#262626;\" transform=\"translate(483.850463 474.130794)scale(0.11 -0.11)\">\r\n       <use xlink:href=\"#ArialMT-50\"/>\r\n       <use x=\"55.615234\" xlink:href=\"#ArialMT-53\"/>\r\n      </g>\r\n     </g>\r\n    </g>\r\n    <g id=\"xtick_7\">\r\n     <g id=\"line2d_7\">\r\n      <path clip-path=\"url(#p7295d7beb0)\" d=\"M 571.779524 456.7572 \r\nL 571.779524 7.2 \r\n\" style=\"fill:none;stroke:#ffffff;stroke-linecap:round;\"/>\r\n     </g>\r\n     <g id=\"text_7\">\r\n      <!-- 30 -->\r\n      <defs>\r\n       <path d=\"M 4.203125 18.890625 \r\nL 12.984375 20.0625 \r\nQ 14.5 12.59375 18.140625 9.296875 \r\nQ 21.78125 6 27 6 \r\nQ 33.203125 6 37.46875 10.296875 \r\nQ 41.75 14.59375 41.75 20.953125 \r\nQ 41.75 27 37.796875 30.921875 \r\nQ 33.84375 34.859375 27.734375 34.859375 \r\nQ 25.25 34.859375 21.53125 33.890625 \r\nL 22.515625 41.609375 \r\nQ 23.390625 41.5 23.921875 41.5 \r\nQ 29.546875 41.5 34.03125 44.421875 \r\nQ 38.53125 47.359375 38.53125 53.46875 \r\nQ 38.53125 58.296875 35.25 61.46875 \r\nQ 31.984375 64.65625 26.8125 64.65625 \r\nQ 21.6875 64.65625 18.265625 61.421875 \r\nQ 14.84375 58.203125 13.875 51.765625 \r\nL 5.078125 53.328125 \r\nQ 6.6875 62.15625 12.390625 67.015625 \r\nQ 18.109375 71.875 26.609375 71.875 \r\nQ 32.46875 71.875 37.390625 69.359375 \r\nQ 42.328125 66.84375 44.9375 62.5 \r\nQ 47.5625 58.15625 47.5625 53.265625 \r\nQ 47.5625 48.640625 45.0625 44.828125 \r\nQ 42.578125 41.015625 37.703125 38.765625 \r\nQ 44.046875 37.3125 47.5625 32.6875 \r\nQ 51.078125 28.078125 51.078125 21.140625 \r\nQ 51.078125 11.765625 44.234375 5.25 \r\nQ 37.40625 -1.265625 26.953125 -1.265625 \r\nQ 17.53125 -1.265625 11.296875 4.34375 \r\nQ 5.078125 9.96875 4.203125 18.890625 \r\nz\r\n\" id=\"ArialMT-51\"/>\r\n      </defs>\r\n      <g style=\"fill:#262626;\" transform=\"translate(565.662493 474.130794)scale(0.11 -0.11)\">\r\n       <use xlink:href=\"#ArialMT-51\"/>\r\n       <use x=\"55.615234\" xlink:href=\"#ArialMT-48\"/>\r\n      </g>\r\n     </g>\r\n    </g>\r\n    <g id=\"xtick_8\">\r\n     <g id=\"line2d_8\">\r\n      <path clip-path=\"url(#p7295d7beb0)\" d=\"M 653.591554 456.7572 \r\nL 653.591554 7.2 \r\n\" style=\"fill:none;stroke:#ffffff;stroke-linecap:round;\"/>\r\n     </g>\r\n     <g id=\"text_8\">\r\n      <!-- 35 -->\r\n      <g style=\"fill:#262626;\" transform=\"translate(647.474523 474.130794)scale(0.11 -0.11)\">\r\n       <use xlink:href=\"#ArialMT-51\"/>\r\n       <use x=\"55.615234\" xlink:href=\"#ArialMT-53\"/>\r\n      </g>\r\n     </g>\r\n    </g>\r\n    <g id=\"text_9\">\r\n     <!-- keyword -->\r\n     <defs>\r\n      <path d=\"M 6.640625 0 \r\nL 6.640625 71.578125 \r\nL 15.4375 71.578125 \r\nL 15.4375 30.765625 \r\nL 36.234375 51.859375 \r\nL 47.609375 51.859375 \r\nL 27.78125 32.625 \r\nL 49.609375 0 \r\nL 38.765625 0 \r\nL 21.625 26.515625 \r\nL 15.4375 20.5625 \r\nL 15.4375 0 \r\nz\r\n\" id=\"ArialMT-107\"/>\r\n      <path d=\"M 42.09375 16.703125 \r\nL 51.171875 15.578125 \r\nQ 49.03125 7.625 43.21875 3.21875 \r\nQ 37.40625 -1.171875 28.375 -1.171875 \r\nQ 17 -1.171875 10.328125 5.828125 \r\nQ 3.65625 12.84375 3.65625 25.484375 \r\nQ 3.65625 38.578125 10.390625 45.796875 \r\nQ 17.140625 53.03125 27.875 53.03125 \r\nQ 38.28125 53.03125 44.875 45.953125 \r\nQ 51.46875 38.875 51.46875 26.03125 \r\nQ 51.46875 25.25 51.421875 23.6875 \r\nL 12.75 23.6875 \r\nQ 13.234375 15.140625 17.578125 10.59375 \r\nQ 21.921875 6.0625 28.421875 6.0625 \r\nQ 33.25 6.0625 36.671875 8.59375 \r\nQ 40.09375 11.140625 42.09375 16.703125 \r\nz\r\nM 13.234375 30.90625 \r\nL 42.1875 30.90625 \r\nQ 41.609375 37.453125 38.875 40.71875 \r\nQ 34.671875 45.796875 27.984375 45.796875 \r\nQ 21.921875 45.796875 17.796875 41.75 \r\nQ 13.671875 37.703125 13.234375 30.90625 \r\nz\r\n\" id=\"ArialMT-101\"/>\r\n      <path d=\"M 6.203125 -19.96875 \r\nL 5.21875 -11.71875 \r\nQ 8.109375 -12.5 10.25 -12.5 \r\nQ 13.1875 -12.5 14.9375 -11.515625 \r\nQ 16.703125 -10.546875 17.828125 -8.796875 \r\nQ 18.65625 -7.46875 20.515625 -2.25 \r\nQ 20.75 -1.515625 21.296875 -0.09375 \r\nL 1.609375 51.859375 \r\nL 11.078125 51.859375 \r\nL 21.875 21.828125 \r\nQ 23.96875 16.109375 25.640625 9.8125 \r\nQ 27.15625 15.875 29.25 21.625 \r\nL 40.328125 51.859375 \r\nL 49.125 51.859375 \r\nL 29.390625 -0.875 \r\nQ 26.21875 -9.421875 24.46875 -12.640625 \r\nQ 22.125 -17 19.09375 -19.015625 \r\nQ 16.0625 -21.046875 11.859375 -21.046875 \r\nQ 9.328125 -21.046875 6.203125 -19.96875 \r\nz\r\n\" id=\"ArialMT-121\"/>\r\n      <path d=\"M 16.15625 0 \r\nL 0.296875 51.859375 \r\nL 9.375 51.859375 \r\nL 17.625 21.921875 \r\nL 20.703125 10.796875 \r\nQ 20.90625 11.625 23.390625 21.484375 \r\nL 31.640625 51.859375 \r\nL 40.671875 51.859375 \r\nL 48.4375 21.78125 \r\nL 51.03125 11.859375 \r\nL 54 21.875 \r\nL 62.890625 51.859375 \r\nL 71.4375 51.859375 \r\nL 55.21875 0 \r\nL 46.09375 0 \r\nL 37.84375 31.0625 \r\nL 35.84375 39.890625 \r\nL 25.34375 0 \r\nz\r\n\" id=\"ArialMT-119\"/>\r\n      <path d=\"M 3.328125 25.921875 \r\nQ 3.328125 40.328125 11.328125 47.265625 \r\nQ 18.015625 53.03125 27.640625 53.03125 \r\nQ 38.328125 53.03125 45.109375 46.015625 \r\nQ 51.90625 39.015625 51.90625 26.65625 \r\nQ 51.90625 16.65625 48.90625 10.90625 \r\nQ 45.90625 5.171875 40.15625 2 \r\nQ 34.421875 -1.171875 27.640625 -1.171875 \r\nQ 16.75 -1.171875 10.03125 5.8125 \r\nQ 3.328125 12.796875 3.328125 25.921875 \r\nz\r\nM 12.359375 25.921875 \r\nQ 12.359375 15.96875 16.703125 11.015625 \r\nQ 21.046875 6.0625 27.640625 6.0625 \r\nQ 34.1875 6.0625 38.53125 11.03125 \r\nQ 42.875 16.015625 42.875 26.21875 \r\nQ 42.875 35.84375 38.5 40.796875 \r\nQ 34.125 45.75 27.640625 45.75 \r\nQ 21.046875 45.75 16.703125 40.8125 \r\nQ 12.359375 35.890625 12.359375 25.921875 \r\nz\r\n\" id=\"ArialMT-111\"/>\r\n      <path d=\"M 6.5 0 \r\nL 6.5 51.859375 \r\nL 14.40625 51.859375 \r\nL 14.40625 44 \r\nQ 17.4375 49.515625 20 51.265625 \r\nQ 22.5625 53.03125 25.640625 53.03125 \r\nQ 30.078125 53.03125 34.671875 50.203125 \r\nL 31.640625 42.046875 \r\nQ 28.421875 43.953125 25.203125 43.953125 \r\nQ 22.3125 43.953125 20.015625 42.21875 \r\nQ 17.71875 40.484375 16.75 37.40625 \r\nQ 15.28125 32.71875 15.28125 27.15625 \r\nL 15.28125 0 \r\nz\r\n\" id=\"ArialMT-114\"/>\r\n      <path d=\"M 40.234375 0 \r\nL 40.234375 6.546875 \r\nQ 35.296875 -1.171875 25.734375 -1.171875 \r\nQ 19.53125 -1.171875 14.328125 2.25 \r\nQ 9.125 5.671875 6.265625 11.796875 \r\nQ 3.421875 17.921875 3.421875 25.875 \r\nQ 3.421875 33.640625 6 39.96875 \r\nQ 8.59375 46.296875 13.765625 49.65625 \r\nQ 18.953125 53.03125 25.34375 53.03125 \r\nQ 30.03125 53.03125 33.6875 51.046875 \r\nQ 37.359375 49.078125 39.65625 45.90625 \r\nL 39.65625 71.578125 \r\nL 48.390625 71.578125 \r\nL 48.390625 0 \r\nz\r\nM 12.453125 25.875 \r\nQ 12.453125 15.921875 16.640625 10.984375 \r\nQ 20.84375 6.0625 26.5625 6.0625 \r\nQ 32.328125 6.0625 36.34375 10.765625 \r\nQ 40.375 15.484375 40.375 25.140625 \r\nQ 40.375 35.796875 36.265625 40.765625 \r\nQ 32.171875 45.75 26.171875 45.75 \r\nQ 20.3125 45.75 16.375 40.96875 \r\nQ 12.453125 36.1875 12.453125 25.875 \r\nz\r\n\" id=\"ArialMT-100\"/>\r\n     </defs>\r\n     <g style=\"fill:#262626;\" transform=\"translate(384.996719 488.906419)scale(0.12 -0.12)\">\r\n      <use xlink:href=\"#ArialMT-107\"/>\r\n      <use x=\"50\" xlink:href=\"#ArialMT-101\"/>\r\n      <use x=\"105.615234\" xlink:href=\"#ArialMT-121\"/>\r\n      <use x=\"155.615234\" xlink:href=\"#ArialMT-119\"/>\r\n      <use x=\"227.832031\" xlink:href=\"#ArialMT-111\"/>\r\n      <use x=\"283.447266\" xlink:href=\"#ArialMT-114\"/>\r\n      <use x=\"316.748047\" xlink:href=\"#ArialMT-100\"/>\r\n     </g>\r\n    </g>\r\n   </g>\r\n   <g id=\"matplotlib.axis_2\">\r\n    <g id=\"ytick_1\">\r\n     <g id=\"text_10\">\r\n      <!-- bananifire -->\r\n      <defs>\r\n       <path d=\"M 14.703125 0 \r\nL 6.546875 0 \r\nL 6.546875 71.578125 \r\nL 15.328125 71.578125 \r\nL 15.328125 46.046875 \r\nQ 20.90625 53.03125 29.546875 53.03125 \r\nQ 34.328125 53.03125 38.59375 51.09375 \r\nQ 42.875 49.171875 45.625 45.671875 \r\nQ 48.390625 42.1875 49.953125 37.25 \r\nQ 51.515625 32.328125 51.515625 26.703125 \r\nQ 51.515625 13.375 44.921875 6.09375 \r\nQ 38.328125 -1.171875 29.109375 -1.171875 \r\nQ 19.921875 -1.171875 14.703125 6.5 \r\nz\r\nM 14.59375 26.3125 \r\nQ 14.59375 17 17.140625 12.84375 \r\nQ 21.296875 6.0625 28.375 6.0625 \r\nQ 34.125 6.0625 38.328125 11.0625 \r\nQ 42.53125 16.0625 42.53125 25.984375 \r\nQ 42.53125 36.140625 38.5 40.96875 \r\nQ 34.46875 45.796875 28.765625 45.796875 \r\nQ 23 45.796875 18.796875 40.796875 \r\nQ 14.59375 35.796875 14.59375 26.3125 \r\nz\r\n\" id=\"ArialMT-98\"/>\r\n       <path d=\"M 40.4375 6.390625 \r\nQ 35.546875 2.25 31.03125 0.53125 \r\nQ 26.515625 -1.171875 21.34375 -1.171875 \r\nQ 12.796875 -1.171875 8.203125 3 \r\nQ 3.609375 7.171875 3.609375 13.671875 \r\nQ 3.609375 17.484375 5.34375 20.625 \r\nQ 7.078125 23.78125 9.890625 25.6875 \r\nQ 12.703125 27.59375 16.21875 28.5625 \r\nQ 18.796875 29.25 24.03125 29.890625 \r\nQ 34.671875 31.15625 39.703125 32.90625 \r\nQ 39.75 34.71875 39.75 35.203125 \r\nQ 39.75 40.578125 37.25 42.78125 \r\nQ 33.890625 45.75 27.25 45.75 \r\nQ 21.046875 45.75 18.09375 43.578125 \r\nQ 15.140625 41.40625 13.71875 35.890625 \r\nL 5.125 37.0625 \r\nQ 6.296875 42.578125 8.984375 45.96875 \r\nQ 11.671875 49.359375 16.75 51.1875 \r\nQ 21.828125 53.03125 28.515625 53.03125 \r\nQ 35.15625 53.03125 39.296875 51.46875 \r\nQ 43.453125 49.90625 45.40625 47.53125 \r\nQ 47.359375 45.171875 48.140625 41.546875 \r\nQ 48.578125 39.3125 48.578125 33.453125 \r\nL 48.578125 21.734375 \r\nQ 48.578125 9.46875 49.140625 6.21875 \r\nQ 49.703125 2.984375 51.375 0 \r\nL 42.1875 0 \r\nQ 40.828125 2.734375 40.4375 6.390625 \r\nz\r\nM 39.703125 26.03125 \r\nQ 34.90625 24.078125 25.34375 22.703125 \r\nQ 19.921875 21.921875 17.671875 20.9375 \r\nQ 15.4375 19.96875 14.203125 18.09375 \r\nQ 12.984375 16.21875 12.984375 13.921875 \r\nQ 12.984375 10.40625 15.640625 8.0625 \r\nQ 18.3125 5.71875 23.4375 5.71875 \r\nQ 28.515625 5.71875 32.46875 7.9375 \r\nQ 36.421875 10.15625 38.28125 14.015625 \r\nQ 39.703125 17 39.703125 22.796875 \r\nz\r\n\" id=\"ArialMT-97\"/>\r\n       <path d=\"M 6.59375 0 \r\nL 6.59375 51.859375 \r\nL 14.5 51.859375 \r\nL 14.5 44.484375 \r\nQ 20.21875 53.03125 31 53.03125 \r\nQ 35.6875 53.03125 39.625 51.34375 \r\nQ 43.5625 49.65625 45.515625 46.921875 \r\nQ 47.46875 44.1875 48.25 40.4375 \r\nQ 48.734375 37.984375 48.734375 31.890625 \r\nL 48.734375 0 \r\nL 39.9375 0 \r\nL 39.9375 31.546875 \r\nQ 39.9375 36.921875 38.90625 39.578125 \r\nQ 37.890625 42.234375 35.28125 43.8125 \r\nQ 32.671875 45.40625 29.15625 45.40625 \r\nQ 23.53125 45.40625 19.453125 41.84375 \r\nQ 15.375 38.28125 15.375 28.328125 \r\nL 15.375 0 \r\nz\r\n\" id=\"ArialMT-110\"/>\r\n       <path d=\"M 6.640625 61.46875 \r\nL 6.640625 71.578125 \r\nL 15.4375 71.578125 \r\nL 15.4375 61.46875 \r\nz\r\nM 6.640625 0 \r\nL 6.640625 51.859375 \r\nL 15.4375 51.859375 \r\nL 15.4375 0 \r\nz\r\n\" id=\"ArialMT-105\"/>\r\n       <path d=\"M 8.6875 0 \r\nL 8.6875 45.015625 \r\nL 0.921875 45.015625 \r\nL 0.921875 51.859375 \r\nL 8.6875 51.859375 \r\nL 8.6875 57.375 \r\nQ 8.6875 62.59375 9.625 65.140625 \r\nQ 10.890625 68.5625 14.078125 70.671875 \r\nQ 17.28125 72.796875 23.046875 72.796875 \r\nQ 26.765625 72.796875 31.25 71.921875 \r\nL 29.9375 64.265625 \r\nQ 27.203125 64.75 24.75 64.75 \r\nQ 20.75 64.75 19.09375 63.03125 \r\nQ 17.4375 61.328125 17.4375 56.640625 \r\nL 17.4375 51.859375 \r\nL 27.546875 51.859375 \r\nL 27.546875 45.015625 \r\nL 17.4375 45.015625 \r\nL 17.4375 0 \r\nz\r\n\" id=\"ArialMT-102\"/>\r\n      </defs>\r\n      <g style=\"fill:#262626;\" transform=\"translate(23.098438 26.122037)scale(0.11 -0.11)\">\r\n       <use xlink:href=\"#ArialMT-98\"/>\r\n       <use x=\"55.615234\" xlink:href=\"#ArialMT-97\"/>\r\n       <use x=\"111.230469\" xlink:href=\"#ArialMT-110\"/>\r\n       <use x=\"166.845703\" xlink:href=\"#ArialMT-97\"/>\r\n       <use x=\"222.460938\" xlink:href=\"#ArialMT-110\"/>\r\n       <use x=\"278.076172\" xlink:href=\"#ArialMT-105\"/>\r\n       <use x=\"300.292969\" xlink:href=\"#ArialMT-102\"/>\r\n       <use x=\"328.076172\" xlink:href=\"#ArialMT-105\"/>\r\n       <use x=\"350.292969\" xlink:href=\"#ArialMT-114\"/>\r\n       <use x=\"383.59375\" xlink:href=\"#ArialMT-101\"/>\r\n      </g>\r\n     </g>\r\n    </g>\r\n    <g id=\"ytick_2\">\r\n     <g id=\"text_11\">\r\n      <!-- sheikhhasina -->\r\n      <defs>\r\n       <path d=\"M 3.078125 15.484375 \r\nL 11.765625 16.84375 \r\nQ 12.5 11.625 15.84375 8.84375 \r\nQ 19.1875 6.0625 25.203125 6.0625 \r\nQ 31.25 6.0625 34.171875 8.515625 \r\nQ 37.109375 10.984375 37.109375 14.3125 \r\nQ 37.109375 17.28125 34.515625 19 \r\nQ 32.71875 20.171875 25.53125 21.96875 \r\nQ 15.875 24.421875 12.140625 26.203125 \r\nQ 8.40625 27.984375 6.46875 31.125 \r\nQ 4.546875 34.28125 4.546875 38.09375 \r\nQ 4.546875 41.546875 6.125 44.5 \r\nQ 7.71875 47.46875 10.453125 49.421875 \r\nQ 12.5 50.921875 16.03125 51.96875 \r\nQ 19.578125 53.03125 23.640625 53.03125 \r\nQ 29.734375 53.03125 34.34375 51.265625 \r\nQ 38.96875 49.515625 41.15625 46.5 \r\nQ 43.359375 43.5 44.1875 38.484375 \r\nL 35.59375 37.3125 \r\nQ 35.015625 41.3125 32.203125 43.546875 \r\nQ 29.390625 45.796875 24.265625 45.796875 \r\nQ 18.21875 45.796875 15.625 43.796875 \r\nQ 13.03125 41.796875 13.03125 39.109375 \r\nQ 13.03125 37.40625 14.109375 36.03125 \r\nQ 15.1875 34.625 17.484375 33.6875 \r\nQ 18.796875 33.203125 25.25 31.453125 \r\nQ 34.578125 28.953125 38.25 27.359375 \r\nQ 41.9375 25.78125 44.03125 22.75 \r\nQ 46.140625 19.734375 46.140625 15.234375 \r\nQ 46.140625 10.84375 43.578125 6.953125 \r\nQ 41.015625 3.078125 36.171875 0.953125 \r\nQ 31.34375 -1.171875 25.25 -1.171875 \r\nQ 15.140625 -1.171875 9.84375 3.03125 \r\nQ 4.546875 7.234375 3.078125 15.484375 \r\nz\r\n\" id=\"ArialMT-115\"/>\r\n       <path d=\"M 6.59375 0 \r\nL 6.59375 71.578125 \r\nL 15.375 71.578125 \r\nL 15.375 45.90625 \r\nQ 21.53125 53.03125 30.90625 53.03125 \r\nQ 36.671875 53.03125 40.921875 50.75 \r\nQ 45.171875 48.484375 47 44.484375 \r\nQ 48.828125 40.484375 48.828125 32.859375 \r\nL 48.828125 0 \r\nL 40.046875 0 \r\nL 40.046875 32.859375 \r\nQ 40.046875 39.453125 37.1875 42.453125 \r\nQ 34.328125 45.453125 29.109375 45.453125 \r\nQ 25.203125 45.453125 21.75 43.421875 \r\nQ 18.3125 41.40625 16.84375 37.9375 \r\nQ 15.375 34.46875 15.375 28.375 \r\nL 15.375 0 \r\nz\r\n\" id=\"ArialMT-104\"/>\r\n      </defs>\r\n      <g style=\"fill:#262626;\" transform=\"translate(7.2 56.092517)scale(0.11 -0.11)\">\r\n       <use xlink:href=\"#ArialMT-115\"/>\r\n       <use x=\"50\" xlink:href=\"#ArialMT-104\"/>\r\n       <use x=\"105.615234\" xlink:href=\"#ArialMT-101\"/>\r\n       <use x=\"161.230469\" xlink:href=\"#ArialMT-105\"/>\r\n       <use x=\"183.447266\" xlink:href=\"#ArialMT-107\"/>\r\n       <use x=\"233.447266\" xlink:href=\"#ArialMT-104\"/>\r\n       <use x=\"289.0625\" xlink:href=\"#ArialMT-104\"/>\r\n       <use x=\"344.677734\" xlink:href=\"#ArialMT-97\"/>\r\n       <use x=\"400.292969\" xlink:href=\"#ArialMT-115\"/>\r\n       <use x=\"450.292969\" xlink:href=\"#ArialMT-105\"/>\r\n       <use x=\"472.509766\" xlink:href=\"#ArialMT-110\"/>\r\n       <use x=\"528.125\" xlink:href=\"#ArialMT-97\"/>\r\n      </g>\r\n     </g>\r\n    </g>\r\n    <g id=\"ytick_3\">\r\n     <g id=\"text_12\">\r\n      <!-- building -->\r\n      <defs>\r\n       <path d=\"M 40.578125 0 \r\nL 40.578125 7.625 \r\nQ 34.515625 -1.171875 24.125 -1.171875 \r\nQ 19.53125 -1.171875 15.546875 0.578125 \r\nQ 11.578125 2.34375 9.640625 5 \r\nQ 7.71875 7.671875 6.9375 11.53125 \r\nQ 6.390625 14.109375 6.390625 19.734375 \r\nL 6.390625 51.859375 \r\nL 15.1875 51.859375 \r\nL 15.1875 23.09375 \r\nQ 15.1875 16.21875 15.71875 13.8125 \r\nQ 16.546875 10.359375 19.234375 8.375 \r\nQ 21.921875 6.390625 25.875 6.390625 \r\nQ 29.828125 6.390625 33.296875 8.421875 \r\nQ 36.765625 10.453125 38.203125 13.9375 \r\nQ 39.65625 17.4375 39.65625 24.078125 \r\nL 39.65625 51.859375 \r\nL 48.4375 51.859375 \r\nL 48.4375 0 \r\nz\r\n\" id=\"ArialMT-117\"/>\r\n       <path d=\"M 6.390625 0 \r\nL 6.390625 71.578125 \r\nL 15.1875 71.578125 \r\nL 15.1875 0 \r\nz\r\n\" id=\"ArialMT-108\"/>\r\n       <path d=\"M 4.984375 -4.296875 \r\nL 13.53125 -5.5625 \r\nQ 14.0625 -9.515625 16.5 -11.328125 \r\nQ 19.78125 -13.765625 25.4375 -13.765625 \r\nQ 31.546875 -13.765625 34.859375 -11.328125 \r\nQ 38.1875 -8.890625 39.359375 -4.5 \r\nQ 40.046875 -1.8125 39.984375 6.78125 \r\nQ 34.234375 0 25.640625 0 \r\nQ 14.9375 0 9.078125 7.71875 \r\nQ 3.21875 15.4375 3.21875 26.21875 \r\nQ 3.21875 33.640625 5.90625 39.90625 \r\nQ 8.59375 46.1875 13.6875 49.609375 \r\nQ 18.796875 53.03125 25.6875 53.03125 \r\nQ 34.859375 53.03125 40.828125 45.609375 \r\nL 40.828125 51.859375 \r\nL 48.921875 51.859375 \r\nL 48.921875 7.03125 \r\nQ 48.921875 -5.078125 46.453125 -10.125 \r\nQ 44 -15.1875 38.640625 -18.109375 \r\nQ 33.296875 -21.046875 25.484375 -21.046875 \r\nQ 16.21875 -21.046875 10.5 -16.875 \r\nQ 4.78125 -12.703125 4.984375 -4.296875 \r\nz\r\nM 12.25 26.859375 \r\nQ 12.25 16.65625 16.296875 11.96875 \r\nQ 20.359375 7.28125 26.46875 7.28125 \r\nQ 32.515625 7.28125 36.609375 11.9375 \r\nQ 40.71875 16.609375 40.71875 26.5625 \r\nQ 40.71875 36.078125 36.5 40.90625 \r\nQ 32.28125 45.75 26.3125 45.75 \r\nQ 20.453125 45.75 16.34375 40.984375 \r\nQ 12.25 36.234375 12.25 26.859375 \r\nz\r\n\" id=\"ArialMT-103\"/>\r\n      </defs>\r\n      <g style=\"fill:#262626;\" transform=\"translate(33.49 86.062997)scale(0.11 -0.11)\">\r\n       <use xlink:href=\"#ArialMT-98\"/>\r\n       <use x=\"55.615234\" xlink:href=\"#ArialMT-117\"/>\r\n       <use x=\"111.230469\" xlink:href=\"#ArialMT-105\"/>\r\n       <use x=\"133.447266\" xlink:href=\"#ArialMT-108\"/>\r\n       <use x=\"155.664062\" xlink:href=\"#ArialMT-100\"/>\r\n       <use x=\"211.279297\" xlink:href=\"#ArialMT-105\"/>\r\n       <use x=\"233.496094\" xlink:href=\"#ArialMT-110\"/>\r\n       <use x=\"289.111328\" xlink:href=\"#ArialMT-103\"/>\r\n      </g>\r\n     </g>\r\n    </g>\r\n    <g id=\"ytick_4\">\r\n     <g id=\"text_13\">\r\n      <!-- detail -->\r\n      <defs>\r\n       <path d=\"M 25.78125 7.859375 \r\nL 27.046875 0.09375 \r\nQ 23.34375 -0.6875 20.40625 -0.6875 \r\nQ 15.625 -0.6875 12.984375 0.828125 \r\nQ 10.359375 2.34375 9.28125 4.8125 \r\nQ 8.203125 7.28125 8.203125 15.1875 \r\nL 8.203125 45.015625 \r\nL 1.765625 45.015625 \r\nL 1.765625 51.859375 \r\nL 8.203125 51.859375 \r\nL 8.203125 64.703125 \r\nL 16.9375 69.96875 \r\nL 16.9375 51.859375 \r\nL 25.78125 51.859375 \r\nL 25.78125 45.015625 \r\nL 16.9375 45.015625 \r\nL 16.9375 14.703125 \r\nQ 16.9375 10.9375 17.40625 9.859375 \r\nQ 17.875 8.796875 18.921875 8.15625 \r\nQ 19.96875 7.515625 21.921875 7.515625 \r\nQ 23.390625 7.515625 25.78125 7.859375 \r\nz\r\n\" id=\"ArialMT-116\"/>\r\n      </defs>\r\n      <g style=\"fill:#262626;\" transform=\"translate(45.112188 116.033477)scale(0.11 -0.11)\">\r\n       <use xlink:href=\"#ArialMT-100\"/>\r\n       <use x=\"55.615234\" xlink:href=\"#ArialMT-101\"/>\r\n       <use x=\"111.230469\" xlink:href=\"#ArialMT-116\"/>\r\n       <use x=\"139.013672\" xlink:href=\"#ArialMT-97\"/>\r\n       <use x=\"194.628906\" xlink:href=\"#ArialMT-105\"/>\r\n       <use x=\"216.845703\" xlink:href=\"#ArialMT-108\"/>\r\n      </g>\r\n     </g>\r\n    </g>\r\n    <g id=\"ytick_5\">\r\n     <g id=\"text_14\">\r\n      <!-- bangladesh -->\r\n      <g style=\"fill:#262626;\" transform=\"translate(14.527031 146.003957)scale(0.11 -0.11)\">\r\n       <use xlink:href=\"#ArialMT-98\"/>\r\n       <use x=\"55.615234\" xlink:href=\"#ArialMT-97\"/>\r\n       <use x=\"111.230469\" xlink:href=\"#ArialMT-110\"/>\r\n       <use x=\"166.845703\" xlink:href=\"#ArialMT-103\"/>\r\n       <use x=\"222.460938\" xlink:href=\"#ArialMT-108\"/>\r\n       <use x=\"244.677734\" xlink:href=\"#ArialMT-97\"/>\r\n       <use x=\"300.292969\" xlink:href=\"#ArialMT-100\"/>\r\n       <use x=\"355.908203\" xlink:href=\"#ArialMT-101\"/>\r\n       <use x=\"411.523438\" xlink:href=\"#ArialMT-115\"/>\r\n       <use x=\"461.523438\" xlink:href=\"#ArialMT-104\"/>\r\n      </g>\r\n     </g>\r\n    </g>\r\n    <g id=\"ytick_6\">\r\n     <g id=\"text_15\">\r\n      <!-- firefighter -->\r\n      <g style=\"fill:#262626;\" transform=\"translate(25.557969 176.041468)scale(0.11 -0.11)\">\r\n       <use xlink:href=\"#ArialMT-102\"/>\r\n       <use x=\"27.783203\" xlink:href=\"#ArialMT-105\"/>\r\n       <use x=\"50\" xlink:href=\"#ArialMT-114\"/>\r\n       <use x=\"83.300781\" xlink:href=\"#ArialMT-101\"/>\r\n       <use x=\"138.916016\" xlink:href=\"#ArialMT-102\"/>\r\n       <use x=\"166.699219\" xlink:href=\"#ArialMT-105\"/>\r\n       <use x=\"188.916016\" xlink:href=\"#ArialMT-103\"/>\r\n       <use x=\"244.53125\" xlink:href=\"#ArialMT-104\"/>\r\n       <use x=\"300.146484\" xlink:href=\"#ArialMT-116\"/>\r\n       <use x=\"327.929688\" xlink:href=\"#ArialMT-101\"/>\r\n       <use x=\"383.544922\" xlink:href=\"#ArialMT-114\"/>\r\n      </g>\r\n     </g>\r\n    </g>\r\n    <g id=\"ytick_7\">\r\n     <g id=\"text_16\">\r\n      <!-- banani -->\r\n      <g style=\"fill:#262626;\" transform=\"translate(38.378125 205.944917)scale(0.11 -0.11)\">\r\n       <use xlink:href=\"#ArialMT-98\"/>\r\n       <use x=\"55.615234\" xlink:href=\"#ArialMT-97\"/>\r\n       <use x=\"111.230469\" xlink:href=\"#ArialMT-110\"/>\r\n       <use x=\"166.845703\" xlink:href=\"#ArialMT-97\"/>\r\n       <use x=\"222.460938\" xlink:href=\"#ArialMT-110\"/>\r\n       <use x=\"278.076172\" xlink:href=\"#ArialMT-105\"/>\r\n      </g>\r\n     </g>\r\n    </g>\r\n    <g id=\"ytick_8\">\r\n     <g id=\"text_17\">\r\n      <!-- dhakafire -->\r\n      <g style=\"fill:#262626;\" transform=\"translate(26.159531 235.915397)scale(0.11 -0.11)\">\r\n       <use xlink:href=\"#ArialMT-100\"/>\r\n       <use x=\"55.615234\" xlink:href=\"#ArialMT-104\"/>\r\n       <use x=\"111.230469\" xlink:href=\"#ArialMT-97\"/>\r\n       <use x=\"166.845703\" xlink:href=\"#ArialMT-107\"/>\r\n       <use x=\"216.845703\" xlink:href=\"#ArialMT-97\"/>\r\n       <use x=\"272.460938\" xlink:href=\"#ArialMT-102\"/>\r\n       <use x=\"300.244141\" xlink:href=\"#ArialMT-105\"/>\r\n       <use x=\"322.460938\" xlink:href=\"#ArialMT-114\"/>\r\n       <use x=\"355.761719\" xlink:href=\"#ArialMT-101\"/>\r\n      </g>\r\n     </g>\r\n    </g>\r\n    <g id=\"ytick_9\">\r\n     <g id=\"text_18\">\r\n      <!-- sohel -->\r\n      <g style=\"fill:#262626;\" transform=\"translate(45.112188 265.885877)scale(0.11 -0.11)\">\r\n       <use xlink:href=\"#ArialMT-115\"/>\r\n       <use x=\"50\" xlink:href=\"#ArialMT-111\"/>\r\n       <use x=\"105.615234\" xlink:href=\"#ArialMT-104\"/>\r\n       <use x=\"161.230469\" xlink:href=\"#ArialMT-101\"/>\r\n       <use x=\"216.845703\" xlink:href=\"#ArialMT-108\"/>\r\n      </g>\r\n     </g>\r\n    </g>\r\n    <g id=\"ytick_10\">\r\n     <g id=\"text_19\">\r\n      <!-- singapore -->\r\n      <defs>\r\n       <path d=\"M 6.59375 -19.875 \r\nL 6.59375 51.859375 \r\nL 14.59375 51.859375 \r\nL 14.59375 45.125 \r\nQ 17.4375 49.078125 21 51.046875 \r\nQ 24.5625 53.03125 29.640625 53.03125 \r\nQ 36.28125 53.03125 41.359375 49.609375 \r\nQ 46.4375 46.1875 49.015625 39.953125 \r\nQ 51.609375 33.734375 51.609375 26.3125 \r\nQ 51.609375 18.359375 48.75 11.984375 \r\nQ 45.90625 5.609375 40.453125 2.21875 \r\nQ 35.015625 -1.171875 29 -1.171875 \r\nQ 24.609375 -1.171875 21.109375 0.6875 \r\nQ 17.625 2.546875 15.375 5.375 \r\nL 15.375 -19.875 \r\nz\r\nM 14.546875 25.640625 \r\nQ 14.546875 15.625 18.59375 10.84375 \r\nQ 22.65625 6.0625 28.421875 6.0625 \r\nQ 34.28125 6.0625 38.453125 11.015625 \r\nQ 42.625 15.96875 42.625 26.375 \r\nQ 42.625 36.28125 38.546875 41.203125 \r\nQ 34.46875 46.140625 28.8125 46.140625 \r\nQ 23.1875 46.140625 18.859375 40.890625 \r\nQ 14.546875 35.640625 14.546875 25.640625 \r\nz\r\n\" id=\"ArialMT-112\"/>\r\n      </defs>\r\n      <g style=\"fill:#262626;\" transform=\"translate(23.098438 295.856357)scale(0.11 -0.11)\">\r\n       <use xlink:href=\"#ArialMT-115\"/>\r\n       <use x=\"50\" xlink:href=\"#ArialMT-105\"/>\r\n       <use x=\"72.216797\" xlink:href=\"#ArialMT-110\"/>\r\n       <use x=\"127.832031\" xlink:href=\"#ArialMT-103\"/>\r\n       <use x=\"183.447266\" xlink:href=\"#ArialMT-97\"/>\r\n       <use x=\"239.0625\" xlink:href=\"#ArialMT-112\"/>\r\n       <use x=\"294.677734\" xlink:href=\"#ArialMT-111\"/>\r\n       <use x=\"350.292969\" xlink:href=\"#ArialMT-114\"/>\r\n       <use x=\"383.59375\" xlink:href=\"#ArialMT-101\"/>\r\n      </g>\r\n     </g>\r\n    </g>\r\n    <g id=\"ytick_11\">\r\n     <g id=\"text_20\">\r\n      <!-- survivor -->\r\n      <defs>\r\n       <path d=\"M 21 0 \r\nL 1.265625 51.859375 \r\nL 10.546875 51.859375 \r\nL 21.6875 20.796875 \r\nQ 23.484375 15.765625 25 10.359375 \r\nQ 26.171875 14.453125 28.265625 20.21875 \r\nL 39.796875 51.859375 \r\nL 48.828125 51.859375 \r\nL 29.203125 0 \r\nz\r\n\" id=\"ArialMT-118\"/>\r\n      </defs>\r\n      <g style=\"fill:#262626;\" transform=\"translate(32.903906 325.826837)scale(0.11 -0.11)\">\r\n       <use xlink:href=\"#ArialMT-115\"/>\r\n       <use x=\"50\" xlink:href=\"#ArialMT-117\"/>\r\n       <use x=\"105.615234\" xlink:href=\"#ArialMT-114\"/>\r\n       <use x=\"138.916016\" xlink:href=\"#ArialMT-118\"/>\r\n       <use x=\"188.916016\" xlink:href=\"#ArialMT-105\"/>\r\n       <use x=\"211.132812\" xlink:href=\"#ArialMT-118\"/>\r\n       <use x=\"261.132812\" xlink:href=\"#ArialMT-111\"/>\r\n       <use x=\"316.748047\" xlink:href=\"#ArialMT-114\"/>\r\n      </g>\r\n     </g>\r\n    </g>\r\n    <g id=\"ytick_12\">\r\n     <g id=\"text_21\">\r\n      <!-- people -->\r\n      <g style=\"fill:#262626;\" transform=\"translate(38.378125 355.797317)scale(0.11 -0.11)\">\r\n       <use xlink:href=\"#ArialMT-112\"/>\r\n       <use x=\"55.615234\" xlink:href=\"#ArialMT-101\"/>\r\n       <use x=\"111.230469\" xlink:href=\"#ArialMT-111\"/>\r\n       <use x=\"166.845703\" xlink:href=\"#ArialMT-112\"/>\r\n       <use x=\"222.460938\" xlink:href=\"#ArialMT-108\"/>\r\n       <use x=\"244.677734\" xlink:href=\"#ArialMT-101\"/>\r\n      </g>\r\n     </g>\r\n    </g>\r\n    <g id=\"ytick_13\">\r\n     <g id=\"text_22\">\r\n      <!-- devastating -->\r\n      <g style=\"fill:#262626;\" transform=\"translate(15.149219 385.767797)scale(0.11 -0.11)\">\r\n       <use xlink:href=\"#ArialMT-100\"/>\r\n       <use x=\"55.615234\" xlink:href=\"#ArialMT-101\"/>\r\n       <use x=\"111.230469\" xlink:href=\"#ArialMT-118\"/>\r\n       <use x=\"161.230469\" xlink:href=\"#ArialMT-97\"/>\r\n       <use x=\"216.845703\" xlink:href=\"#ArialMT-115\"/>\r\n       <use x=\"266.845703\" xlink:href=\"#ArialMT-116\"/>\r\n       <use x=\"294.628906\" xlink:href=\"#ArialMT-97\"/>\r\n       <use x=\"350.244141\" xlink:href=\"#ArialMT-116\"/>\r\n       <use x=\"378.027344\" xlink:href=\"#ArialMT-105\"/>\r\n       <use x=\"400.244141\" xlink:href=\"#ArialMT-110\"/>\r\n       <use x=\"455.859375\" xlink:href=\"#ArialMT-103\"/>\r\n      </g>\r\n     </g>\r\n    </g>\r\n    <g id=\"ytick_14\">\r\n     <g id=\"text_23\">\r\n      <!-- injured -->\r\n      <defs>\r\n       <path d=\"M 6.546875 61.375 \r\nL 6.546875 71.578125 \r\nL 15.328125 71.578125 \r\nL 15.328125 61.375 \r\nz\r\nM -4.59375 -20.125 \r\nL -2.9375 -12.640625 \r\nQ -0.296875 -13.328125 1.21875 -13.328125 \r\nQ 3.90625 -13.328125 5.21875 -11.546875 \r\nQ 6.546875 -9.765625 6.546875 -2.640625 \r\nL 6.546875 51.859375 \r\nL 15.328125 51.859375 \r\nL 15.328125 -2.828125 \r\nQ 15.328125 -12.40625 12.84375 -16.15625 \r\nQ 9.671875 -21.046875 2.296875 -21.046875 \r\nQ -1.265625 -21.046875 -4.59375 -20.125 \r\nz\r\n\" id=\"ArialMT-106\"/>\r\n      </defs>\r\n      <g style=\"fill:#262626;\" transform=\"translate(38.388438 415.738277)scale(0.11 -0.11)\">\r\n       <use xlink:href=\"#ArialMT-105\"/>\r\n       <use x=\"22.216797\" xlink:href=\"#ArialMT-110\"/>\r\n       <use x=\"77.832031\" xlink:href=\"#ArialMT-106\"/>\r\n       <use x=\"100.048828\" xlink:href=\"#ArialMT-117\"/>\r\n       <use x=\"155.664062\" xlink:href=\"#ArialMT-114\"/>\r\n       <use x=\"188.964844\" xlink:href=\"#ArialMT-101\"/>\r\n       <use x=\"244.580078\" xlink:href=\"#ArialMT-100\"/>\r\n      </g>\r\n     </g>\r\n    </g>\r\n    <g id=\"ytick_15\">\r\n     <g id=\"text_24\">\r\n      <!-- gulshan -->\r\n      <g style=\"fill:#262626;\" transform=\"translate(32.878125 445.708757)scale(0.11 -0.11)\">\r\n       <use xlink:href=\"#ArialMT-103\"/>\r\n       <use x=\"55.615234\" xlink:href=\"#ArialMT-117\"/>\r\n       <use x=\"111.230469\" xlink:href=\"#ArialMT-108\"/>\r\n       <use x=\"133.447266\" xlink:href=\"#ArialMT-115\"/>\r\n       <use x=\"183.447266\" xlink:href=\"#ArialMT-104\"/>\r\n       <use x=\"239.0625\" xlink:href=\"#ArialMT-97\"/>\r\n       <use x=\"294.677734\" xlink:href=\"#ArialMT-110\"/>\r\n      </g>\r\n     </g>\r\n    </g>\r\n   </g>\r\n   <g id=\"patch_3\">\r\n    <path clip-path=\"url(#p7295d7beb0)\" d=\"M 80.907344 10.197048 \r\nL 702.678772 10.197048 \r\nL 702.678772 34.173432 \r\nL 80.907344 34.173432 \r\nz\r\n\" style=\"fill:#ea96a3;stroke:#ffffff;stroke-linejoin:miter;\"/>\r\n   </g>\r\n   <g id=\"patch_4\">\r\n    <path clip-path=\"url(#p7295d7beb0)\" d=\"M 80.907344 40.167528 \r\nL 440.880276 40.167528 \r\nL 440.880276 64.143912 \r\nL 80.907344 64.143912 \r\nz\r\n\" style=\"fill:#e59471;stroke:#ffffff;stroke-linejoin:miter;\"/>\r\n   </g>\r\n   <g id=\"patch_5\">\r\n    <path clip-path=\"url(#p7295d7beb0)\" d=\"M 80.907344 70.138008 \r\nL 408.155464 70.138008 \r\nL 408.155464 94.114392 \r\nL 80.907344 94.114392 \r\nz\r\n\" style=\"fill:#c6994b;stroke:#ffffff;stroke-linejoin:miter;\"/>\r\n   </g>\r\n   <g id=\"patch_6\">\r\n    <path clip-path=\"url(#p7295d7beb0)\" d=\"M 80.907344 100.108488 \r\nL 408.155464 100.108488 \r\nL 408.155464 124.084872 \r\nL 80.907344 124.084872 \r\nz\r\n\" style=\"fill:#ab9e47;stroke:#ffffff;stroke-linejoin:miter;\"/>\r\n   </g>\r\n   <g id=\"patch_7\">\r\n    <path clip-path=\"url(#p7295d7beb0)\" d=\"M 80.907344 130.078968 \r\nL 309.981028 130.078968 \r\nL 309.981028 154.055352 \r\nL 80.907344 154.055352 \r\nz\r\n\" style=\"fill:#91a446;stroke:#ffffff;stroke-linejoin:miter;\"/>\r\n   </g>\r\n   <g id=\"patch_8\">\r\n    <path clip-path=\"url(#p7295d7beb0)\" d=\"M 80.907344 160.049448 \r\nL 309.981028 160.049448 \r\nL 309.981028 184.025832 \r\nL 80.907344 184.025832 \r\nz\r\n\" style=\"fill:#60ae47;stroke:#ffffff;stroke-linejoin:miter;\"/>\r\n   </g>\r\n   <g id=\"patch_9\">\r\n    <path clip-path=\"url(#p7295d7beb0)\" d=\"M 80.907344 190.019928 \r\nL 244.531404 190.019928 \r\nL 244.531404 213.996312 \r\nL 80.907344 213.996312 \r\nz\r\n\" style=\"fill:#49ae83;stroke:#ffffff;stroke-linejoin:miter;\"/>\r\n   </g>\r\n   <g id=\"patch_10\">\r\n    <path clip-path=\"url(#p7295d7beb0)\" d=\"M 80.907344 219.990408 \r\nL 244.531404 219.990408 \r\nL 244.531404 243.966792 \r\nL 80.907344 243.966792 \r\nz\r\n\" style=\"fill:#4aac9b;stroke:#ffffff;stroke-linejoin:miter;\"/>\r\n   </g>\r\n   <g id=\"patch_11\">\r\n    <path clip-path=\"url(#p7295d7beb0)\" d=\"M 80.907344 249.960888 \r\nL 211.806592 249.960888 \r\nL 211.806592 273.937272 \r\nL 80.907344 273.937272 \r\nz\r\n\" style=\"fill:#4cabad;stroke:#ffffff;stroke-linejoin:miter;\"/>\r\n   </g>\r\n   <g id=\"patch_12\">\r\n    <path clip-path=\"url(#p7295d7beb0)\" d=\"M 80.907344 279.931368 \r\nL 179.08178 279.931368 \r\nL 179.08178 303.907752 \r\nL 80.907344 303.907752 \r\nz\r\n\" style=\"fill:#50acc3;stroke:#ffffff;stroke-linejoin:miter;\"/>\r\n   </g>\r\n   <g id=\"patch_13\">\r\n    <path clip-path=\"url(#p7295d7beb0)\" d=\"M 80.907344 309.901848 \r\nL 146.356968 309.901848 \r\nL 146.356968 333.878232 \r\nL 80.907344 333.878232 \r\nz\r\n\" style=\"fill:#6daee2;stroke:#ffffff;stroke-linejoin:miter;\"/>\r\n   </g>\r\n   <g id=\"patch_14\">\r\n    <path clip-path=\"url(#p7295d7beb0)\" d=\"M 80.907344 339.872328 \r\nL 146.356968 339.872328 \r\nL 146.356968 363.848712 \r\nL 80.907344 363.848712 \r\nz\r\n\" style=\"fill:#adabeb;stroke:#ffffff;stroke-linejoin:miter;\"/>\r\n   </g>\r\n   <g id=\"patch_15\">\r\n    <path clip-path=\"url(#p7295d7beb0)\" d=\"M 80.907344 369.842808 \r\nL 146.356968 369.842808 \r\nL 146.356968 393.819192 \r\nL 80.907344 393.819192 \r\nz\r\n\" style=\"fill:#ce9be9;stroke:#ffffff;stroke-linejoin:miter;\"/>\r\n   </g>\r\n   <g id=\"patch_16\">\r\n    <path clip-path=\"url(#p7295d7beb0)\" d=\"M 80.907344 399.813288 \r\nL 146.356968 399.813288 \r\nL 146.356968 423.789672 \r\nL 80.907344 423.789672 \r\nz\r\n\" style=\"fill:#e78bdb;stroke:#ffffff;stroke-linejoin:miter;\"/>\r\n   </g>\r\n   <g id=\"patch_17\">\r\n    <path clip-path=\"url(#p7295d7beb0)\" d=\"M 80.907344 429.783768 \r\nL 146.356968 429.783768 \r\nL 146.356968 453.760152 \r\nL 80.907344 453.760152 \r\nz\r\n\" style=\"fill:#e891bf;stroke:#ffffff;stroke-linejoin:miter;\"/>\r\n   </g>\r\n   <g id=\"line2d_9\">\r\n    <path clip-path=\"url(#p7295d7beb0)\" d=\"M 0 0 \r\n\" style=\"fill:none;stroke:#424242;stroke-linecap:round;stroke-width:2.7;\"/>\r\n   </g>\r\n   <g id=\"line2d_10\">\r\n    <path clip-path=\"url(#p7295d7beb0)\" d=\"M 0 0 \r\n\" style=\"fill:none;stroke:#424242;stroke-linecap:round;stroke-width:2.7;\"/>\r\n   </g>\r\n   <g id=\"line2d_11\">\r\n    <path clip-path=\"url(#p7295d7beb0)\" d=\"M 0 0 \r\n\" style=\"fill:none;stroke:#424242;stroke-linecap:round;stroke-width:2.7;\"/>\r\n   </g>\r\n   <g id=\"line2d_12\">\r\n    <path clip-path=\"url(#p7295d7beb0)\" d=\"M 0 0 \r\n\" style=\"fill:none;stroke:#424242;stroke-linecap:round;stroke-width:2.7;\"/>\r\n   </g>\r\n   <g id=\"line2d_13\">\r\n    <path clip-path=\"url(#p7295d7beb0)\" d=\"M 0 0 \r\n\" style=\"fill:none;stroke:#424242;stroke-linecap:round;stroke-width:2.7;\"/>\r\n   </g>\r\n   <g id=\"line2d_14\">\r\n    <path clip-path=\"url(#p7295d7beb0)\" d=\"M 0 0 \r\n\" style=\"fill:none;stroke:#424242;stroke-linecap:round;stroke-width:2.7;\"/>\r\n   </g>\r\n   <g id=\"line2d_15\">\r\n    <path clip-path=\"url(#p7295d7beb0)\" d=\"M 0 0 \r\n\" style=\"fill:none;stroke:#424242;stroke-linecap:round;stroke-width:2.7;\"/>\r\n   </g>\r\n   <g id=\"line2d_16\">\r\n    <path clip-path=\"url(#p7295d7beb0)\" d=\"M 0 0 \r\n\" style=\"fill:none;stroke:#424242;stroke-linecap:round;stroke-width:2.7;\"/>\r\n   </g>\r\n   <g id=\"line2d_17\">\r\n    <path clip-path=\"url(#p7295d7beb0)\" d=\"M 0 0 \r\n\" style=\"fill:none;stroke:#424242;stroke-linecap:round;stroke-width:2.7;\"/>\r\n   </g>\r\n   <g id=\"line2d_18\">\r\n    <path clip-path=\"url(#p7295d7beb0)\" d=\"M 0 0 \r\n\" style=\"fill:none;stroke:#424242;stroke-linecap:round;stroke-width:2.7;\"/>\r\n   </g>\r\n   <g id=\"line2d_19\">\r\n    <path clip-path=\"url(#p7295d7beb0)\" d=\"M 0 0 \r\n\" style=\"fill:none;stroke:#424242;stroke-linecap:round;stroke-width:2.7;\"/>\r\n   </g>\r\n   <g id=\"line2d_20\">\r\n    <path clip-path=\"url(#p7295d7beb0)\" d=\"M 0 0 \r\n\" style=\"fill:none;stroke:#424242;stroke-linecap:round;stroke-width:2.7;\"/>\r\n   </g>\r\n   <g id=\"line2d_21\">\r\n    <path clip-path=\"url(#p7295d7beb0)\" d=\"M 0 0 \r\n\" style=\"fill:none;stroke:#424242;stroke-linecap:round;stroke-width:2.7;\"/>\r\n   </g>\r\n   <g id=\"line2d_22\">\r\n    <path clip-path=\"url(#p7295d7beb0)\" d=\"M 0 0 \r\n\" style=\"fill:none;stroke:#424242;stroke-linecap:round;stroke-width:2.7;\"/>\r\n   </g>\r\n   <g id=\"line2d_23\">\r\n    <path clip-path=\"url(#p7295d7beb0)\" d=\"M 0 0 \r\n\" style=\"fill:none;stroke:#424242;stroke-linecap:round;stroke-width:2.7;\"/>\r\n   </g>\r\n   <g id=\"patch_18\">\r\n    <path d=\"M 80.907344 456.7572 \r\nL 80.907344 7.2 \r\n\" style=\"fill:none;stroke:#ffffff;stroke-linecap:square;stroke-linejoin:miter;stroke-width:1.25;\"/>\r\n   </g>\r\n   <g id=\"patch_19\">\r\n    <path d=\"M 733.767344 456.7572 \r\nL 733.767344 7.2 \r\n\" style=\"fill:none;stroke:#ffffff;stroke-linecap:square;stroke-linejoin:miter;stroke-width:1.25;\"/>\r\n   </g>\r\n   <g id=\"patch_20\">\r\n    <path d=\"M 80.907344 456.7572 \r\nL 733.767344 456.7572 \r\n\" style=\"fill:none;stroke:#ffffff;stroke-linecap:square;stroke-linejoin:miter;stroke-width:1.25;\"/>\r\n   </g>\r\n   <g id=\"patch_21\">\r\n    <path d=\"M 80.907344 7.2 \r\nL 733.767344 7.2 \r\n\" style=\"fill:none;stroke:#ffffff;stroke-linecap:square;stroke-linejoin:miter;stroke-width:1.25;\"/>\r\n   </g>\r\n   <g id=\"text_25\">\r\n    <!-- 38 -->\r\n    <defs>\r\n     <path d=\"M 17.671875 38.8125 \r\nQ 12.203125 40.828125 9.5625 44.53125 \r\nQ 6.9375 48.25 6.9375 53.421875 \r\nQ 6.9375 61.234375 12.546875 66.546875 \r\nQ 18.171875 71.875 27.484375 71.875 \r\nQ 36.859375 71.875 42.578125 66.421875 \r\nQ 48.296875 60.984375 48.296875 53.171875 \r\nQ 48.296875 48.1875 45.671875 44.5 \r\nQ 43.0625 40.828125 37.75 38.8125 \r\nQ 44.34375 36.671875 47.78125 31.875 \r\nQ 51.21875 27.09375 51.21875 20.453125 \r\nQ 51.21875 11.28125 44.71875 5.03125 \r\nQ 38.234375 -1.21875 27.640625 -1.21875 \r\nQ 17.046875 -1.21875 10.546875 5.046875 \r\nQ 4.046875 11.328125 4.046875 20.703125 \r\nQ 4.046875 27.6875 7.59375 32.390625 \r\nQ 11.140625 37.109375 17.671875 38.8125 \r\nz\r\nM 15.921875 53.71875 \r\nQ 15.921875 48.640625 19.1875 45.40625 \r\nQ 22.46875 42.1875 27.6875 42.1875 \r\nQ 32.765625 42.1875 36.015625 45.375 \r\nQ 39.265625 48.578125 39.265625 53.21875 \r\nQ 39.265625 58.0625 35.90625 61.359375 \r\nQ 32.5625 64.65625 27.59375 64.65625 \r\nQ 22.5625 64.65625 19.234375 61.421875 \r\nQ 15.921875 58.203125 15.921875 53.71875 \r\nz\r\nM 13.09375 20.65625 \r\nQ 13.09375 16.890625 14.875 13.375 \r\nQ 16.65625 9.859375 20.171875 7.921875 \r\nQ 23.6875 6 27.734375 6 \r\nQ 34.03125 6 38.125 10.046875 \r\nQ 42.234375 14.109375 42.234375 20.359375 \r\nQ 42.234375 26.703125 38.015625 30.859375 \r\nQ 33.796875 35.015625 27.4375 35.015625 \r\nQ 21.234375 35.015625 17.15625 30.90625 \r\nQ 13.09375 26.8125 13.09375 20.65625 \r\nz\r\n\" id=\"ArialMT-56\"/>\r\n    </defs>\r\n    <g style=\"fill:#262626;\" transform=\"translate(702.678772 25.182288)scale(0.12 -0.12)\">\r\n     <use xlink:href=\"#ArialMT-51\"/>\r\n     <use x=\"55.615234\" xlink:href=\"#ArialMT-56\"/>\r\n    </g>\r\n   </g>\r\n   <g id=\"text_26\">\r\n    <!-- 22 -->\r\n    <g style=\"fill:#262626;\" transform=\"translate(440.880276 55.152768)scale(0.12 -0.12)\">\r\n     <use xlink:href=\"#ArialMT-50\"/>\r\n     <use x=\"55.615234\" xlink:href=\"#ArialMT-50\"/>\r\n    </g>\r\n   </g>\r\n   <g id=\"text_27\">\r\n    <!-- 20 -->\r\n    <g style=\"fill:#262626;\" transform=\"translate(408.155464 85.123248)scale(0.12 -0.12)\">\r\n     <use xlink:href=\"#ArialMT-50\"/>\r\n     <use x=\"55.615234\" xlink:href=\"#ArialMT-48\"/>\r\n    </g>\r\n   </g>\r\n   <g id=\"text_28\">\r\n    <!-- 20 -->\r\n    <g style=\"fill:#262626;\" transform=\"translate(408.155464 115.093728)scale(0.12 -0.12)\">\r\n     <use xlink:href=\"#ArialMT-50\"/>\r\n     <use x=\"55.615234\" xlink:href=\"#ArialMT-48\"/>\r\n    </g>\r\n   </g>\r\n   <g id=\"text_29\">\r\n    <!-- 14 -->\r\n    <defs>\r\n     <path d=\"M 32.328125 0 \r\nL 32.328125 17.140625 \r\nL 1.265625 17.140625 \r\nL 1.265625 25.203125 \r\nL 33.9375 71.578125 \r\nL 41.109375 71.578125 \r\nL 41.109375 25.203125 \r\nL 50.78125 25.203125 \r\nL 50.78125 17.140625 \r\nL 41.109375 17.140625 \r\nL 41.109375 0 \r\nz\r\nM 32.328125 25.203125 \r\nL 32.328125 57.46875 \r\nL 9.90625 25.203125 \r\nz\r\n\" id=\"ArialMT-52\"/>\r\n    </defs>\r\n    <g style=\"fill:#262626;\" transform=\"translate(309.981028 145.064208)scale(0.12 -0.12)\">\r\n     <use xlink:href=\"#ArialMT-49\"/>\r\n     <use x=\"55.615234\" xlink:href=\"#ArialMT-52\"/>\r\n    </g>\r\n   </g>\r\n   <g id=\"text_30\">\r\n    <!-- 14 -->\r\n    <g style=\"fill:#262626;\" transform=\"translate(309.981028 175.034688)scale(0.12 -0.12)\">\r\n     <use xlink:href=\"#ArialMT-49\"/>\r\n     <use x=\"55.615234\" xlink:href=\"#ArialMT-52\"/>\r\n    </g>\r\n   </g>\r\n   <g id=\"text_31\">\r\n    <!-- 10 -->\r\n    <g style=\"fill:#262626;\" transform=\"translate(244.531404 205.005168)scale(0.12 -0.12)\">\r\n     <use xlink:href=\"#ArialMT-49\"/>\r\n     <use x=\"55.615234\" xlink:href=\"#ArialMT-48\"/>\r\n    </g>\r\n   </g>\r\n   <g id=\"text_32\">\r\n    <!-- 10 -->\r\n    <g style=\"fill:#262626;\" transform=\"translate(244.531404 234.975648)scale(0.12 -0.12)\">\r\n     <use xlink:href=\"#ArialMT-49\"/>\r\n     <use x=\"55.615234\" xlink:href=\"#ArialMT-48\"/>\r\n    </g>\r\n   </g>\r\n   <g id=\"text_33\">\r\n    <!-- 8 -->\r\n    <g style=\"fill:#262626;\" transform=\"translate(211.806592 264.946128)scale(0.12 -0.12)\">\r\n     <use xlink:href=\"#ArialMT-56\"/>\r\n    </g>\r\n   </g>\r\n   <g id=\"text_34\">\r\n    <!-- 6 -->\r\n    <defs>\r\n     <path d=\"M 49.75 54.046875 \r\nL 41.015625 53.375 \r\nQ 39.84375 58.546875 37.703125 60.890625 \r\nQ 34.125 64.65625 28.90625 64.65625 \r\nQ 24.703125 64.65625 21.53125 62.3125 \r\nQ 17.390625 59.28125 14.984375 53.46875 \r\nQ 12.59375 47.65625 12.5 36.921875 \r\nQ 15.671875 41.75 20.265625 44.09375 \r\nQ 24.859375 46.4375 29.890625 46.4375 \r\nQ 38.671875 46.4375 44.84375 39.96875 \r\nQ 51.03125 33.5 51.03125 23.25 \r\nQ 51.03125 16.5 48.125 10.71875 \r\nQ 45.21875 4.9375 40.140625 1.859375 \r\nQ 35.0625 -1.21875 28.609375 -1.21875 \r\nQ 17.625 -1.21875 10.6875 6.859375 \r\nQ 3.765625 14.9375 3.765625 33.5 \r\nQ 3.765625 54.25 11.421875 63.671875 \r\nQ 18.109375 71.875 29.4375 71.875 \r\nQ 37.890625 71.875 43.28125 67.140625 \r\nQ 48.6875 62.40625 49.75 54.046875 \r\nz\r\nM 13.875 23.1875 \r\nQ 13.875 18.65625 15.796875 14.5 \r\nQ 17.71875 10.359375 21.1875 8.171875 \r\nQ 24.65625 6 28.46875 6 \r\nQ 34.03125 6 38.03125 10.484375 \r\nQ 42.046875 14.984375 42.046875 22.703125 \r\nQ 42.046875 30.125 38.078125 34.390625 \r\nQ 34.125 38.671875 28.125 38.671875 \r\nQ 22.171875 38.671875 18.015625 34.390625 \r\nQ 13.875 30.125 13.875 23.1875 \r\nz\r\n\" id=\"ArialMT-54\"/>\r\n    </defs>\r\n    <g style=\"fill:#262626;\" transform=\"translate(179.08178 294.916608)scale(0.12 -0.12)\">\r\n     <use xlink:href=\"#ArialMT-54\"/>\r\n    </g>\r\n   </g>\r\n   <g id=\"text_35\">\r\n    <!-- 4 -->\r\n    <g style=\"fill:#262626;\" transform=\"translate(146.356968 324.887088)scale(0.12 -0.12)\">\r\n     <use xlink:href=\"#ArialMT-52\"/>\r\n    </g>\r\n   </g>\r\n   <g id=\"text_36\">\r\n    <!-- 4 -->\r\n    <g style=\"fill:#262626;\" transform=\"translate(146.356968 354.857568)scale(0.12 -0.12)\">\r\n     <use xlink:href=\"#ArialMT-52\"/>\r\n    </g>\r\n   </g>\r\n   <g id=\"text_37\">\r\n    <!-- 4 -->\r\n    <g style=\"fill:#262626;\" transform=\"translate(146.356968 384.828048)scale(0.12 -0.12)\">\r\n     <use xlink:href=\"#ArialMT-52\"/>\r\n    </g>\r\n   </g>\r\n   <g id=\"text_38\">\r\n    <!-- 4 -->\r\n    <g style=\"fill:#262626;\" transform=\"translate(146.356968 414.798528)scale(0.12 -0.12)\">\r\n     <use xlink:href=\"#ArialMT-52\"/>\r\n    </g>\r\n   </g>\r\n   <g id=\"text_39\">\r\n    <!-- 4 -->\r\n    <g style=\"fill:#262626;\" transform=\"translate(146.356968 444.769008)scale(0.12 -0.12)\">\r\n     <use xlink:href=\"#ArialMT-52\"/>\r\n    </g>\r\n   </g>\r\n  </g>\r\n </g>\r\n <defs>\r\n  <clipPath id=\"p7295d7beb0\">\r\n   <rect height=\"449.5572\" width=\"652.86\" x=\"80.907344\" y=\"7.2\"/>\r\n  </clipPath>\r\n </defs>\r\n</svg>\r\n",
      "image/png": "[encoded data removed]"
     },
     "metadata": {}
    }
   ],
   "source": [
    "import matplotlib.pyplot as plt\n",
    "ax = sns.barplot(y=temp_keyword_df['keyword'].value_counts()[:15].index,x=temp_keyword_df['keyword'].value_counts()[:15],orient='h')\n",
    "\n",
    "sns.set(rc={'figure.figsize':(11.7,8.27)})\n",
    "initialx=0\n",
    "for p in ax.patches:\n",
    "  ax.text(p.get_width(),initialx+p.get_height()/8,'{:1.0f}'.format(p.get_width()))\n",
    "  initialx+=1\n"
   ]
  },
  {
   "cell_type": "code",
   "execution_count": 54,
   "metadata": {},
   "outputs": [],
   "source": [
    "initialx=0\n",
    "for p in ax.patches:\n",
    "  ax.text(p.get_width(),initialx+p.get_height()/8,'{:1.0f}'.format(p.get_width()))\n",
    "  initialx+=1"
   ]
  },
  {
   "cell_type": "code",
   "execution_count": 55,
   "metadata": {},
   "outputs": [],
   "source": [
    "initialx=0\n",
    "for p in ax.patches:\n",
    "  ax.text(p.get_width(),initialx+p.get_height()/8,'{:1.0f}'.format(p.get_width()))\n",
    "  initialx+=1"
   ]
  },
  {
   "cell_type": "code",
   "execution_count": 56,
   "metadata": {},
   "outputs": [],
   "source": [
    "initialx=0\n",
    "for p in ax.patches:\n",
    "  ax.text(p.get_width(),initialx+p.get_height()/8,'{:1.0f}'.format(p.get_width()))\n",
    "  initialx+=1"
   ]
  },
  {
   "cell_type": "code",
   "execution_count": 57,
   "metadata": {},
   "outputs": [],
   "source": [
    "df.to_csv(\"tweet_data.csv\",index=False)"
   ]
  },
  {
   "cell_type": "code",
   "execution_count": null,
   "metadata": {},
   "outputs": [],
   "source": []
  },
  {
   "cell_type": "code",
   "execution_count": null,
   "metadata": {},
   "outputs": [],
   "source": []
  }
 ],
 "metadata": {
  "kernelspec": {
   "display_name": "Python 3",
   "language": "python",
   "name": "python3"
  },
  "language_info": {
   "codemirror_mode": {
    "name": "ipython",
    "version": 3
   },
   "file_extension": ".py",
   "mimetype": "text/x-python",
   "name": "python",
   "nbconvert_exporter": "python",
   "pygments_lexer": "ipython3",
   "version": "3.7.6-final"
  }
 },
 "nbformat": 4,
 "nbformat_minor": 4
}