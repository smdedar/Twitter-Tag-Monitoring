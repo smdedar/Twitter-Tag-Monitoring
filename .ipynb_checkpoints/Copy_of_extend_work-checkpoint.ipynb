{
 "cells": [
  {
   "cell_type": "code",
   "execution_count": 1,
   "metadata": {
    "colab": {
     "base_uri": "https://localhost:8080/"
    },
    "id": "DdZKR_QzsjqT",
    "outputId": "ef52d4fa-9451-4806-e1b3-c9326cafbd50"
   },
   "outputs": [
    {
     "name": "stdout",
     "output_type": "stream",
     "text": [
      "Processing c:\\users\\user\\appdata\\local\\pip\\cache\\wheels\\14\\4e\\2e\\a98380a114c215e21b9220d9ebb73cfa2e4094861d5faaf2ca\\textrank4zh-0.3-py3-none-any.whl\n",
      "Requirement already satisfied: numpy>=1.7.1 in c:\\programdata\\anaconda3\\lib\\site-packages (from textrank4zh) (1.18.1)\n",
      "Requirement already satisfied: networkx>=1.9.1 in c:\\programdata\\anaconda3\\lib\\site-packages (from textrank4zh) (2.4)\n",
      "Processing c:\\users\\user\\appdata\\local\\pip\\cache\\wheels\\24\\aa\\17\\5bc7c72e9a37990a9620cc3aad0acad1564dcff6dbc2359de3\\jieba-0.42.1-py3-none-any.whl\n",
      "Requirement already satisfied: decorator>=4.3.0 in c:\\programdata\\anaconda3\\lib\\site-packages (from networkx>=1.9.1->textrank4zh) (4.4.1)\n",
      "Installing collected packages: jieba, textrank4zh\n",
      "Successfully installed jieba-0.42.1 textrank4zh-0.3\n",
      "Note: you may need to restart the kernel to use updated packages.\n"
     ]
    }
   ],
   "source": [
    "pip install textrank4zh"
   ]
  },
  {
   "cell_type": "code",
   "execution_count": 2,
   "metadata": {
    "id": "4_sGbVHnszs4"
   },
   "outputs": [
    {
     "ename": "ModuleNotFoundError",
     "evalue": "No module named 'spacy'",
     "output_type": "error",
     "traceback": [
      "\u001b[1;31m---------------------------------------------------------------------------\u001b[0m",
      "\u001b[1;31mModuleNotFoundError\u001b[0m                       Traceback (most recent call last)",
      "\u001b[1;32m<ipython-input-2-16aa3709c41a>\u001b[0m in \u001b[0;36m<module>\u001b[1;34m\u001b[0m\n\u001b[0;32m      2\u001b[0m \u001b[1;32mimport\u001b[0m \u001b[0mnumpy\u001b[0m \u001b[1;32mas\u001b[0m \u001b[0mnp\u001b[0m\u001b[1;33m\u001b[0m\u001b[1;33m\u001b[0m\u001b[0m\n\u001b[0;32m      3\u001b[0m \u001b[1;33m\u001b[0m\u001b[0m\n\u001b[1;32m----> 4\u001b[1;33m \u001b[1;32mimport\u001b[0m \u001b[0mspacy\u001b[0m\u001b[1;33m\u001b[0m\u001b[1;33m\u001b[0m\u001b[0m\n\u001b[0m\u001b[0;32m      5\u001b[0m \u001b[1;32mimport\u001b[0m \u001b[0men_core_web_sm\u001b[0m\u001b[1;33m\u001b[0m\u001b[1;33m\u001b[0m\u001b[0m\n\u001b[0;32m      6\u001b[0m \u001b[1;32mfrom\u001b[0m \u001b[0mtextrank4zh\u001b[0m \u001b[1;32mimport\u001b[0m \u001b[0mTextRank4Keyword\u001b[0m\u001b[1;33m\u001b[0m\u001b[1;33m\u001b[0m\u001b[0m\n",
      "\u001b[1;31mModuleNotFoundError\u001b[0m: No module named 'spacy'"
     ]
    }
   ],
   "source": [
    "import pandas as pd\n",
    "import numpy as np\n",
    "\n",
    "import spacy\n",
    "import en_core_web_sm\n",
    "from textrank4zh import TextRank4Keyword\n",
    "\n",
    "import seaborn as sns\n",
    "import plotly.express as px\n",
    "import matplotlib.pyplot as plt\n",
    "\n",
    "import re\n",
    "import string\n",
    "import nltk\n",
    "\n",
    "from nltk.tokenize import word_tokenize,RegexpTokenizer\n",
    "from nltk.corpus import stopwords\n",
    "from nltk.stem import WordNetLemmatizer "
   ]
  },
  {
   "cell_type": "code",
   "execution_count": null,
   "metadata": {
    "colab": {
     "base_uri": "https://localhost:8080/"
    },
    "id": "BCOyJPnfsztZ",
    "outputId": "7e36a45f-30c0-4781-dada-244bd330a5b7"
   },
   "outputs": [],
   "source": [
    "#Read CSV\n",
    "df=pd.read_csv(\"21tweet_data.csv\",index_col =\"target\")\n",
    "#print(df.count())\n",
    "\n",
    "#Remove Not Disaster Tweet\n",
    "df = df.drop(0, axis=0)\n",
    "df.count()"
   ]
  },
  {
   "cell_type": "markdown",
   "metadata": {
    "id": "OqB5OSI4ry9W"
   },
   "source": [
    "## Text Preprocessing\n"
   ]
  },
  {
   "cell_type": "code",
   "execution_count": null,
   "metadata": {
    "id": "DDmZBHqHyiTs"
   },
   "outputs": [],
   "source": [
    "def clean_text(text):\n",
    "    \n",
    "    text = text.lower()\n",
    "    text = re.sub('\\[.*?\\]', '', text)\n",
    "    text = re.sub('https?://\\S+|www\\.\\S+', '', text)\n",
    "    text = re.sub('<.*?>+', '', text)\n",
    "    text = re.sub('[%s]' % re.escape(string.punctuation), '', text)\n",
    "    text = re.sub('\\n', '', text)\n",
    "    text = re.sub('\\w*\\d\\w*', '', text)\n",
    "    return text\n",
    "\n",
    "\n",
    "df['text'] = df['text'].apply(lambda x: clean_text(x))"
   ]
  },
  {
   "cell_type": "code",
   "execution_count": null,
   "metadata": {
    "id": "HbHZJZgo1GBm"
   },
   "outputs": [],
   "source": [
    "tokenizer = nltk.tokenize.RegexpTokenizer(r'\\w+')\n",
    "df['text'] = df['text'].apply(lambda x: tokenizer.tokenize(x))\n"
   ]
  },
  {
   "cell_type": "code",
   "execution_count": null,
   "metadata": {
    "id": "DG1uKIkW1yOL"
   },
   "outputs": [],
   "source": [
    "def remove_stopwords(text):\n",
    "    words = [w for w in text if w not in stopwords.words('english')]\n",
    "    return words"
   ]
  },
  {
   "cell_type": "code",
   "execution_count": null,
   "metadata": {
    "colab": {
     "base_uri": "https://localhost:8080/"
    },
    "id": "gyFlHSJIsxdB",
    "outputId": "5b275aaf-4e77-4cbc-d26f-f4597e3537eb"
   },
   "outputs": [],
   "source": [
    "nltk.download('stopwords')"
   ]
  },
  {
   "cell_type": "code",
   "execution_count": null,
   "metadata": {
    "id": "P7-vbe4U15Cu"
   },
   "outputs": [],
   "source": [
    "df['text'] = df['text'].apply(lambda x: remove_stopwords(x))"
   ]
  },
  {
   "cell_type": "code",
   "execution_count": null,
   "metadata": {
    "colab": {
     "base_uri": "https://localhost:8080/"
    },
    "id": "-eLq1qZl2Ca2",
    "outputId": "47e35652-0b9f-48c3-df1b-0ecb7d36a657"
   },
   "outputs": [],
   "source": [
    "nltk.download('stopwords')"
   ]
  },
  {
   "cell_type": "code",
   "execution_count": null,
   "metadata": {
    "id": "HpT1Hi6D2-Y0"
   },
   "outputs": [],
   "source": [
    "def combine_text(text):\n",
    "    all_text = ' '.join(text)\n",
    "    return all_text"
   ]
  },
  {
   "cell_type": "code",
   "execution_count": null,
   "metadata": {
    "id": "HBsDoxeq3BJm"
   },
   "outputs": [],
   "source": [
    "df['text'] = df['text'].apply(lambda x: combine_text(x))"
   ]
  },
  {
   "cell_type": "code",
   "execution_count": null,
   "metadata": {
    "id": "FD0iZk8Svegn"
   },
   "outputs": [],
   "source": [
    "def stem_lem(text):\n",
    "    tokenizer = nltk.tokenize.TreebankWordTokenizer()\n",
    "    tokens = tokenizer.tokenize(text)\n",
    "    lemmatizer = nltk.stem.WordNetLemmatizer()\n",
    "    lemm_text =  \" \".join(lemmatizer.lemmatize(token) for token in tokens)\n",
    "    return lemm_text"
   ]
  },
  {
   "cell_type": "code",
   "execution_count": null,
   "metadata": {
    "colab": {
     "base_uri": "https://localhost:8080/"
    },
    "id": "iqXQu7Hbv514",
    "outputId": "bb966d85-791f-4a75-c9b3-b7ba47183817"
   },
   "outputs": [],
   "source": [
    "nltk.download('wordnet')"
   ]
  },
  {
   "cell_type": "code",
   "execution_count": null,
   "metadata": {
    "id": "FZLW_dOQvhT8"
   },
   "outputs": [],
   "source": [
    "df['text'] = df['text'].apply(lambda x: stem_lem(x))"
   ]
  },
  {
   "cell_type": "markdown",
   "metadata": {
    "id": "v-4u0mGPsztu"
   },
   "source": [
    "## Location Extraction"
   ]
  },
  {
   "cell_type": "code",
   "execution_count": null,
   "metadata": {
    "id": "TWVo9NzSsztx"
   },
   "outputs": [],
   "source": [
    "#Location Extraction Using SpaCy\n",
    "\n",
    "nlp = en_core_web_sm.load()\n",
    "def location(df_text):\n",
    "    text = df_text\n",
    "    doc = nlp(text)\n",
    "    location = []\n",
    "    for entity in doc.ents:\n",
    "        if entity.label_ == \"LOC\" or entity.label_ == \"GPE\":\n",
    "            location.append(entity.text) \n",
    "    return location"
   ]
  },
  {
   "cell_type": "code",
   "execution_count": null,
   "metadata": {
    "id": "lja7sAVFszt9"
   },
   "outputs": [],
   "source": [
    "df['location'] = df['text'].apply(lambda x: location(x))"
   ]
  },
  {
   "cell_type": "code",
   "execution_count": null,
   "metadata": {
    "id": "6OIon9TAszuL"
   },
   "outputs": [],
   "source": [
    "#convert location column to a list\n",
    "location_list = df['location'].to_numpy()\n",
    "#print(location_list)\n",
    "\n",
    "#remove none and null value\n",
    "location_list = list(filter(None, location_list))\n",
    "#print(location_list)"
   ]
  },
  {
   "cell_type": "code",
   "execution_count": null,
   "metadata": {
    "id": "aFPtxUuOszuZ"
   },
   "outputs": [],
   "source": [
    "#Convert all list location to a list for better calculation\n",
    "list_location = []\n",
    "for x in range(len(location_list)):\n",
    "    list_location.extend(location_list[x])"
   ]
  },
  {
   "cell_type": "code",
   "execution_count": null,
   "metadata": {
    "colab": {
     "base_uri": "https://localhost:8080/"
    },
    "id": "lieQ6cYuszum",
    "outputId": "78acce46-da59-405f-c8f9-7b36f40ec06b"
   },
   "outputs": [],
   "source": [
    "#Built a temp location dataframe\n",
    "temp_location_df = pd.DataFrame(columns=['location'])\n",
    "temp_location_df['location'] = list_location\n",
    "\n",
    "#check output\n",
    "print(temp_location_df['location'])"
   ]
  },
  {
   "cell_type": "code",
   "execution_count": null,
   "metadata": {
    "colab": {
     "base_uri": "https://localhost:8080/"
    },
    "id": "RcZehrxFszu6",
    "outputId": "3204376c-5ce1-4c6e-b564-44c1b1c3d24d"
   },
   "outputs": [],
   "source": [
    "#Location Count \n",
    "feat = temp_location_df['location'].value_counts()\n",
    "print(feat.head(20))"
   ]
  },
  {
   "cell_type": "code",
   "execution_count": null,
   "metadata": {
    "colab": {
     "base_uri": "https://localhost:8080/",
     "height": 517
    },
    "id": "b-UY70JXszvQ",
    "outputId": "3b3d1fd5-f211-4490-b1fc-dd7eec3cc704"
   },
   "outputs": [],
   "source": [
    "#Draw Bar Plot\n",
    "ax = sns.barplot(y=temp_location_df['location'].value_counts()[:15].index,x=temp_location_df['location'].value_counts()[:15],orient='h')\n",
    "\n",
    "sns.set(rc={'figure.figsize':(11.7,8.27)})\n",
    "initialx=0\n",
    "for p in ax.patches:\n",
    "  ax.text(p.get_width(),initialx+p.get_height()/8,'{:1.0f}'.format(p.get_width()))\n",
    "  initialx+=1"
   ]
  },
  {
   "cell_type": "markdown",
   "metadata": {
    "id": "VBi59SXrszvb"
   },
   "source": [
    "## Keyword Extraction"
   ]
  },
  {
   "cell_type": "code",
   "execution_count": null,
   "metadata": {
    "id": "eunITDBVszvd"
   },
   "outputs": [],
   "source": [
    "def keyword(df_text):\n",
    "    text = df_text\n",
    "    tr4w = TextRank4Keyword()\n",
    "    keyword = []\n",
    "    tr4w.analyze(text=text, lower=True, window=2)\n",
    "    for item in tr4w.get_keywords(4, word_min_len=5):\n",
    "        keyword.append(item.word)\n",
    "    return keyword"
   ]
  },
  {
   "cell_type": "code",
   "execution_count": null,
   "metadata": {
    "colab": {
     "base_uri": "https://localhost:8080/"
    },
    "id": "oXPWk9e4szvr",
    "outputId": "1a32a7b7-e424-46d7-cdd4-79d3fa857900"
   },
   "outputs": [],
   "source": [
    "df['keyword'] = df['text'].apply(lambda x: keyword(x))"
   ]
  },
  {
   "cell_type": "code",
   "execution_count": null,
   "metadata": {
    "id": "PbViJFwXwvvU"
   },
   "outputs": [],
   "source": [
    "#convert keyword column to a list\n",
    "keyword_list = df['keyword'].to_numpy()\n",
    "#print(keyword_list)\n",
    "\n",
    "#remove none and null value\n",
    "keyword_list = list(filter(None, keyword_list))\n",
    "#print(keyword_list)"
   ]
  },
  {
   "cell_type": "code",
   "execution_count": null,
   "metadata": {
    "id": "QxjcsruJw7wK"
   },
   "outputs": [],
   "source": [
    "#Convert all list location to a list for better calculation\n",
    "list_keyword = []\n",
    "for x in range(len(keyword_list)):\n",
    "    list_keyword.extend(keyword_list[x])"
   ]
  },
  {
   "cell_type": "code",
   "execution_count": null,
   "metadata": {
    "id": "XONNdI3IxC1W"
   },
   "outputs": [],
   "source": [
    "temp_keyword_df = pd.DataFrame(columns=['keyword'])\n",
    "temp_keyword_df['keyword'] = list_keyword"
   ]
  },
  {
   "cell_type": "code",
   "execution_count": null,
   "metadata": {
    "colab": {
     "base_uri": "https://localhost:8080/"
    },
    "id": "VuBBoXrZxGHc",
    "outputId": "a06a55ff-e9b5-46a4-b637-5e8b1ca5063d"
   },
   "outputs": [],
   "source": [
    "feat =temp_keyword_df['keyword'].value_counts()\n",
    "print(feat.head(5))"
   ]
  },
  {
   "cell_type": "code",
   "execution_count": null,
   "metadata": {
    "colab": {
     "base_uri": "https://localhost:8080/",
     "height": 517
    },
    "id": "LMaIgsit0S3Z",
    "outputId": "8224a91a-654b-48bd-b4ea-d8ae602b6dd9"
   },
   "outputs": [],
   "source": [
    "import matplotlib.pyplot as plt\n",
    "ax = sns.barplot(y=temp_keyword_df['keyword'].value_counts()[:15].index,x=temp_keyword_df['keyword'].value_counts()[:15],orient='h')\n",
    "\n",
    "sns.set(rc={'figure.figsize':(11.7,8.27)})\n",
    "initialx=0\n",
    "for p in ax.patches:\n",
    "  ax.text(p.get_width(),initialx+p.get_height()/8,'{:1.0f}'.format(p.get_width()))\n",
    "  initialx+=1\n"
   ]
  },
  {
   "cell_type": "code",
   "execution_count": null,
   "metadata": {
    "id": "SvPxX45Huz85"
   },
   "outputs": [],
   "source": [
    "initialx=0\n",
    "for p in ax.patches:\n",
    "  ax.text(p.get_width(),initialx+p.get_height()/8,'{:1.0f}'.format(p.get_width()))\n",
    "  initialx+=1"
   ]
  },
  {
   "cell_type": "code",
   "execution_count": null,
   "metadata": {
    "id": "z-WLa3T0uzEL"
   },
   "outputs": [],
   "source": [
    "initialx=0\n",
    "for p in ax.patches:\n",
    "  ax.text(p.get_width(),initialx+p.get_height()/8,'{:1.0f}'.format(p.get_width()))\n",
    "  initialx+=1"
   ]
  },
  {
   "cell_type": "code",
   "execution_count": null,
   "metadata": {
    "id": "G3sSwHmwuJ3n"
   },
   "outputs": [],
   "source": [
    "initialx=0\n",
    "for p in ax.patches:\n",
    "  ax.text(p.get_width(),initialx+p.get_height()/8,'{:1.0f}'.format(p.get_width()))\n",
    "  initialx+=1"
   ]
  },
  {
   "cell_type": "code",
   "execution_count": null,
   "metadata": {
    "colab": {
     "base_uri": "https://localhost:8080/",
     "height": 17
    },
    "id": "YL120Bj4yIUh",
    "outputId": "48e8e78a-185b-49e9-8340-389b79cb2baa"
   },
   "outputs": [],
   "source": [
    "from google.colab import files\n",
    "\n",
    "df.to_csv('df.csv')\n",
    "files.download('df.csv')"
   ]
  },
  {
   "cell_type": "markdown",
   "metadata": {
    "id": "xapFrMWSdR_f"
   },
   "source": [
    "## API Built"
   ]
  },
  {
   "cell_type": "code",
   "execution_count": null,
   "metadata": {
    "colab": {
     "base_uri": "https://localhost:8080/",
     "height": 299
    },
    "id": "LQ042p_3C8ZK",
    "outputId": "f7bc4d24-90f1-46f7-856d-e01f71d15cf7"
   },
   "outputs": [],
   "source": [
    "\n",
    "files.download('df.json')"
   ]
  },
  {
   "cell_type": "code",
   "execution_count": null,
   "metadata": {
    "id": "lqNdZH8Tc9RI"
   },
   "outputs": [],
   "source": [
    "df_api = temp_location_df['location'].value_counts(normalize=True)"
   ]
  },
  {
   "cell_type": "code",
   "execution_count": null,
   "metadata": {
    "id": "C5c1W-9pdQJB"
   },
   "outputs": [],
   "source": [
    "print(df_api)"
   ]
  },
  {
   "cell_type": "code",
   "execution_count": null,
   "metadata": {
    "id": "RBrigY0vdzpA"
   },
   "outputs": [],
   "source": [
    "df_api.to_csv('df1.csv')"
   ]
  },
  {
   "cell_type": "code",
   "execution_count": null,
   "metadata": {
    "id": "NFKCrwyGd90g"
   },
   "outputs": [],
   "source": [
    "files.download('df1.csv')"
   ]
  },
  {
   "cell_type": "code",
   "execution_count": null,
   "metadata": {},
   "outputs": [],
   "source": []
  }
 ],
 "metadata": {
  "colab": {
   "name": "Copy of extend_work.ipynb",
   "provenance": []
  },
  "kernelspec": {
   "display_name": "Python 3",
   "language": "python",
   "name": "python3"
  },
  "language_info": {
   "codemirror_mode": {
    "name": "ipython",
    "version": 3
   },
   "file_extension": ".py",
   "mimetype": "text/x-python",
   "name": "python",
   "nbconvert_exporter": "python",
   "pygments_lexer": "ipython3",
   "version": "3.7.6"
  }
 },
 "nbformat": 4,
 "nbformat_minor": 1
}
